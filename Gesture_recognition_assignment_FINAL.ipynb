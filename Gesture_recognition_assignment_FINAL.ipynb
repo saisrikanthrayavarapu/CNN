{
  "cells": [
    {
      "cell_type": "markdown",
      "metadata": {
        "id": "view-in-github",
        "colab_type": "text"
      },
      "source": [
        "<a href=\"https://colab.research.google.com/github/saisrikanthrayavarapu/CNN/blob/main/Gesture_recognition_assignment_FINAL.ipynb\" target=\"_parent\"><img src=\"https://colab.research.google.com/assets/colab-badge.svg\" alt=\"Open In Colab\"/></a>"
      ]
    },
    {
      "cell_type": "markdown",
      "metadata": {
        "id": "EJYifH1xGzHB"
      },
      "source": [
        "# Gesture Recognition\n",
        "In this group project, you are going to build a 3D Conv model that will be able to predict the 5 gestures correctly. Please import the following libraries to get started."
      ]
    },
    {
      "cell_type": "code",
      "execution_count": 1,
      "metadata": {
        "id": "83FlSHipGzHF"
      },
      "outputs": [],
      "source": [
        "import matplotlib.pyplot as plt\n",
        "import numpy as np\n",
        "import os\n",
        "from skimage.io import imread\n",
        "import datetime\n",
        "import os\n",
        "import glob\n",
        "import cv2\n",
        "import h5py"
      ]
    },
    {
      "cell_type": "code",
      "source": [
        "from keras.models import Sequential, Model\n",
        "from keras.layers import Dense, GRU, Dropout, LSTM, Flatten, TimeDistributed, BatchNormalization, Activation, ConvLSTM2D\n",
        "from keras.callbacks import ModelCheckpoint, ReduceLROnPlateau\n",
        "from tensorflow.keras import optimizers\n",
        "from keras.applications.vgg16 import VGG16\n",
        "from keras.layers.convolutional import Conv3D, MaxPooling3D, Conv2D, MaxPooling2D"
      ],
      "metadata": {
        "id": "GxFpBtZIAkyg"
      },
      "execution_count": 2,
      "outputs": []
    },
    {
      "cell_type": "code",
      "source": [
        "# mounting Google drive on colab\n",
        "from google.colab import drive\n",
        "drive.mount('/content/drive')"
      ],
      "metadata": {
        "colab": {
          "base_uri": "https://localhost:8080/"
        },
        "id": "74XsSzaVILV4",
        "outputId": "82e71d3c-27f4-47e1-8ca8-c819c42144e3"
      },
      "execution_count": 3,
      "outputs": [
        {
          "output_type": "stream",
          "name": "stdout",
          "text": [
            "Mounted at /content/drive\n"
          ]
        }
      ]
    },
    {
      "cell_type": "code",
      "source": [
        "!mkdir \"/content/Gesture_assignment\" # creating a new directory for the unzipped file\n",
        "!gdown --id \"1ehyrYBQ5rbQQe6yL4XbLWe3FMvuVUGiL\" # downloading the zipped file in the session\n",
        "# https://drive.google.com/uc?id=1ehyrYBQ5rbQQe6yL4XbLWe3FMvuVUGiL"
      ],
      "metadata": {
        "colab": {
          "base_uri": "https://localhost:8080/"
        },
        "id": "9evR6GuvIMsW",
        "outputId": "a0198a3d-dade-4dec-de11-25edfbea1fe7"
      },
      "execution_count": 4,
      "outputs": [
        {
          "output_type": "stream",
          "name": "stdout",
          "text": [
            "Downloading...\n",
            "From: https://drive.google.com/uc?id=1ehyrYBQ5rbQQe6yL4XbLWe3FMvuVUGiL\n",
            "To: /content/Project_data.zip\n",
            "100% 1.71G/1.71G [00:10<00:00, 165MB/s]\n"
          ]
        }
      ]
    },
    {
      "cell_type": "code",
      "source": [
        "# unzipping the file in the created directory\n",
        "!unzip -q \"/content/Project_data.zip\" -d \"/content/Gesture_assignment\" "
      ],
      "metadata": {
        "id": "M05EW3CZISYU"
      },
      "execution_count": 5,
      "outputs": []
    },
    {
      "cell_type": "markdown",
      "metadata": {
        "id": "leJ97uobGzHI"
      },
      "source": [
        "We set the random seed so that the results don't vary drastically."
      ]
    },
    {
      "cell_type": "code",
      "execution_count": 6,
      "metadata": {
        "id": "-3wIa6_ZGzHI"
      },
      "outputs": [],
      "source": [
        "np.random.seed(30)\n",
        "import random as rn\n",
        "rn.seed(30)\n",
        "from keras import backend as K\n",
        "import tensorflow as tf\n",
        "tf.random.set_seed(30)"
      ]
    },
    {
      "cell_type": "markdown",
      "metadata": {
        "id": "VoTBHQl8GzHK"
      },
      "source": [
        "In this block, you read the folder names for training and validation. You also set the `batch_size` here. Note that you set the batch size in such a way that you are able to use the GPU in full capacity. You keep increasing the batch size until the machine throws an error."
      ]
    },
    {
      "cell_type": "code",
      "source": [
        "# verifying the GPU configuration\n",
        "!nvidia-smi"
      ],
      "metadata": {
        "colab": {
          "base_uri": "https://localhost:8080/"
        },
        "id": "ShM3KBv2KUBb",
        "outputId": "7e2ed581-d5d2-4493-bcbb-b00464945883"
      },
      "execution_count": 7,
      "outputs": [
        {
          "output_type": "stream",
          "name": "stdout",
          "text": [
            "Mon Jan 10 19:32:29 2022       \n",
            "+-----------------------------------------------------------------------------+\n",
            "| NVIDIA-SMI 495.46       Driver Version: 460.32.03    CUDA Version: 11.2     |\n",
            "|-------------------------------+----------------------+----------------------+\n",
            "| GPU  Name        Persistence-M| Bus-Id        Disp.A | Volatile Uncorr. ECC |\n",
            "| Fan  Temp  Perf  Pwr:Usage/Cap|         Memory-Usage | GPU-Util  Compute M. |\n",
            "|                               |                      |               MIG M. |\n",
            "|===============================+======================+======================|\n",
            "|   0  Tesla K80           Off  | 00000000:00:04.0 Off |                    0 |\n",
            "| N/A   73C    P8    34W / 149W |      0MiB / 11441MiB |      0%      Default |\n",
            "|                               |                      |                  N/A |\n",
            "+-------------------------------+----------------------+----------------------+\n",
            "                                                                               \n",
            "+-----------------------------------------------------------------------------+\n",
            "| Processes:                                                                  |\n",
            "|  GPU   GI   CI        PID   Type   Process name                  GPU Memory |\n",
            "|        ID   ID                                                   Usage      |\n",
            "|=============================================================================|\n",
            "|  No running processes found                                                 |\n",
            "+-----------------------------------------------------------------------------+\n"
          ]
        }
      ]
    },
    {
      "cell_type": "code",
      "execution_count": 8,
      "metadata": {
        "id": "_aZv622nGzHL"
      },
      "outputs": [],
      "source": [
        "train_doc = np.random.permutation(open('/content/Gesture_assignment/Project_data/train.csv').readlines())\n",
        "val_doc = np.random.permutation(open('/content/Gesture_assignment/Project_data/val.csv').readlines())"
      ]
    },
    {
      "cell_type": "code",
      "execution_count": 9,
      "metadata": {
        "id": "qZN1gLYWGzHR"
      },
      "outputs": [],
      "source": [
        "# curr_dt_time = datetime.datetime.now()\n",
        "train_path = '/content/Gesture_assignment/Project_data/train'\n",
        "val_path = '/content/Gesture_assignment/Project_data/val'"
      ]
    },
    {
      "cell_type": "code",
      "source": [
        "num_train_sequences = len(train_doc)\n",
        "print('# training sequences =', num_train_sequences)\n",
        "num_val_sequences = len(val_doc)\n",
        "print('# validation sequences =', num_val_sequences)"
      ],
      "metadata": {
        "colab": {
          "base_uri": "https://localhost:8080/"
        },
        "id": "qgVGQya8VjaM",
        "outputId": "9ff8834e-cd9e-4373-f127-94a93a3e6c4e"
      },
      "execution_count": 10,
      "outputs": [
        {
          "output_type": "stream",
          "name": "stdout",
          "text": [
            "# training sequences = 663\n",
            "# validation sequences = 100\n"
          ]
        }
      ]
    },
    {
      "cell_type": "code",
      "source": [
        "# method to calculate model steps\n",
        "def n_steps(num_train_sequences, num_val_sequences, batch_size):\n",
        "  if (num_train_sequences%batch_size) == 0:\n",
        "    steps_per_epoch = int(num_train_sequences/batch_size)\n",
        "  else:\n",
        "    steps_per_epoch = (num_train_sequences//batch_size) + 1\n",
        "  if (num_val_sequences%batch_size) == 0:\n",
        "    validation_steps = int(num_val_sequences/batch_size)\n",
        "  else:\n",
        "    validation_steps = (num_val_sequences//batch_size) + 1\n",
        "  return steps_per_epoch,validation_steps"
      ],
      "metadata": {
        "id": "63OJwsQn_DsS"
      },
      "execution_count": 11,
      "outputs": []
    },
    {
      "cell_type": "code",
      "source": [
        "# method to plot model accuracy and loss\n",
        "def accuracy_loss_plot(history, name):\n",
        "  f, ax = plt.subplots(1,2, figsize=(10,4))\n",
        "  ax[1].plot(history.history['loss'])   \n",
        "  ax[1].plot(history.history['val_loss'])\n",
        "  ax[1].legend(['loss','val_loss'], loc='upper left')\n",
        "  ax[1].title.set_text('Loss Plot for '+name)\n",
        "\n",
        "  ax[0].plot(history.history['categorical_accuracy'])   \n",
        "  ax[0].plot(history.history['val_categorical_accuracy'])\n",
        "  ax[0].legend(['categorical_accuracy','val_categorical_accuracy'], loc='upper left')\n",
        "  ax[0].title.set_text('Accuracy Plot for '+name)\n",
        "  f.suptitle('Accuracy and Loss plot for '+name, fontweight='bold')\n",
        "  plt.show()"
      ],
      "metadata": {
        "id": "hAIZV8CE9Dra"
      },
      "execution_count": 12,
      "outputs": []
    },
    {
      "cell_type": "code",
      "source": [
        "# method to get model callbacks\n",
        "def model_callbacks(name):\n",
        "  dirpath = name + '_' + str(datetime.datetime.now()).replace(' ','').replace(':','_') + '/'\n",
        "  if not os.path.exists(dirpath):\n",
        "    os.mkdir(dirpath)\n",
        "  filepath = dirpath + 'model-{epoch:05d}-{loss:.5f}-{categorical_accuracy:.5f}-{val_loss:.5f}-{val_categorical_accuracy:.5f}.h5'\n",
        "  checkpoint = ModelCheckpoint(filepath, monitor='val_loss', verbose=1, \n",
        "                             save_best_only=False, save_weights_only=False, \n",
        "                             mode='auto', period=1)\n",
        "  LR = ReduceLROnPlateau(monitor='val_loss', factor=0.2, verbose=1, patience=4)\n",
        "  callbacks_list = [checkpoint, LR]\n",
        "  return dirpath, callbacks_list"
      ],
      "metadata": {
        "id": "5XdrEttBAUOh"
      },
      "execution_count": 13,
      "outputs": []
    },
    {
      "cell_type": "markdown",
      "metadata": {
        "id": "P2Qc0kjPGzHN"
      },
      "source": [
        "## Generator\n",
        "This is one of the most important part of the code. The overall structure of the generator has been given. In the generator, you are going to preprocess the images as you have images of 2 different dimensions as well as create a batch of video frames. You have to experiment with some of the parts of the generator function such that you get high accuracy."
      ]
    },
    {
      "cell_type": "code",
      "execution_count": 14,
      "metadata": {
        "id": "w7yK_YaqGzHO"
      },
      "outputs": [],
      "source": [
        "def generator(source_path, folder_list, batch_size, n_frames, frame_size_x, frame_size_y):\n",
        "    print('Source path = ', source_path, '\\n batch size =', batch_size,\n",
        "          '\\n No. of images from each folder =', n_frames,\n",
        "          '\\n Normalized image size =', frame_size_x, 'x', frame_size_y)\n",
        "    img_idx = np.round(np.linspace(0, 29, n_frames)).astype(int) # since each video is of 30 frames\n",
        "    while True:\n",
        "        t = np.random.permutation(folder_list)\n",
        "        num_batches = int(len(t)/batch_size)\n",
        "        for batch in range(num_batches):\n",
        "            batch_data = np.zeros((batch_size,n_frames,frame_size_x,frame_size_y,3))\n",
        "            batch_labels = np.zeros((batch_size,5)) # here 5 is the number of gestures\n",
        "            for folder in range(batch_size):\n",
        "                imgs = os.listdir(source_path+'/'+ t[folder + (batch*batch_size)].split(';')[0])\n",
        "                for idx,item in enumerate(img_idx):\n",
        "                    image = imread(source_path+'/'+ t[folder+(batch*batch_size)].strip().split(';')[0]+'/'+imgs[item]).astype(np.float32)\n",
        "                    image = cv2.resize(image,(frame_size_x,frame_size_x)) # resing the actual image to the defined size\n",
        "                    batch_data[folder,idx,:,:,0] = (image[:,:,0])/255 # normalizing the image for R channel\n",
        "                    batch_data[folder,idx,:,:,1] = (image[:,:,1])/255 # normalizing the image for G channel\n",
        "                    batch_data[folder,idx,:,:,2] = (image[:,:,2])/255 # normalizing the image for B channel    \n",
        "                batch_labels[folder, int(t[folder + (batch*batch_size)].strip().split(';')[2])] = 1\n",
        "            yield batch_data, batch_labels\n",
        "\n",
        "        if (len(t)%batch_size) != 0:\n",
        "            batch_data = np.zeros((len(t)%batch_size,n_frames,frame_size_x,frame_size_y,3)) # leftout data after batch sizing\n",
        "            batch_labels = np.zeros((len(t)%batch_size,5))\n",
        "            for folder in range(len(t)%batch_size):\n",
        "                imgs = os.listdir(source_path+'/'+ t[folder + (num_batches*batch_size)].split(';')[0])\n",
        "                for idx,item in enumerate(img_idx):\n",
        "                    image = imread(source_path+'/'+ t[folder + (num_batches*batch_size)].strip().split(';')[0]+'/'+imgs[item]).astype(np.float32)\n",
        "                    image = cv2.resize(image,(frame_size_x,frame_size_x)) # resing the actual image to the defined size\n",
        "                    batch_data[folder,idx,:,:,0] = (image[:,:,0])/255 # normalizing the image for R channel\n",
        "                    batch_data[folder,idx,:,:,1] = (image[:,:,1])/255 # normalizing the image for G channel\n",
        "                    batch_data[folder,idx,:,:,2] = (image[:,:,2])/255 # normalizing the image for B channel\n",
        "                batch_labels[folder, int(t[folder + (num_batches*batch_size)].strip().split(';')[2])] = 1\n",
        "            yield batch_data, batch_labels"
      ]
    },
    {
      "cell_type": "markdown",
      "source": [
        "## Model"
      ],
      "metadata": {
        "id": "c1bHkTx2-_xI"
      }
    },
    {
      "cell_type": "markdown",
      "source": [
        "### Model-1 : 3D convolution with 15 frames using an image size of 120x120 with a batch size of 30 run for 30 epochs for convolution layers of (16, 32, 64) and dense layers of (64, 128)"
      ],
      "metadata": {
        "id": "OTf36YsdMnxs"
      }
    },
    {
      "cell_type": "code",
      "source": [
        "n_frames = 15\n",
        "frame_size_x = 120\n",
        "frame_size_y = 120\n",
        "batch_size = 30\n",
        "n_epochs = 30"
      ],
      "metadata": {
        "id": "Rto-zLe10ZXP"
      },
      "execution_count": 15,
      "outputs": []
    },
    {
      "cell_type": "code",
      "source": [
        "# method to create 3D convolution model\n",
        "def conv3D_model(conv_layers,dense_layers,dropout,n_frames,frame_size_x,frame_size_y):\n",
        "  model = Sequential()\n",
        "\n",
        "  model.add(Conv3D(conv_layers[0], (3, 3, 3), padding='same',\n",
        "                 input_shape=(n_frames,frame_size_x,frame_size_y,3), \n",
        "                 kernel_initializer='he_uniform'))\n",
        "  model.add(Activation('relu'))\n",
        "  model.add(BatchNormalization())\n",
        "  model.add(MaxPooling3D(pool_size=(2, 2, 2)))\n",
        "\n",
        "  model.add(Conv3D(conv_layers[1], (2, 2, 2), padding='same', kernel_initializer='he_uniform'))\n",
        "  model.add(Activation('relu'))\n",
        "  model.add(BatchNormalization())\n",
        "  model.add(MaxPooling3D(pool_size=(2, 2, 2)))\n",
        "\n",
        "  model.add(Conv3D(conv_layers[2], (2, 2, 2), padding='same', kernel_initializer='he_uniform'))\n",
        "  model.add(Activation('relu'))\n",
        "  model.add(BatchNormalization())\n",
        "  model.add(MaxPooling3D(pool_size=(2, 2, 2)))\n",
        "\n",
        "  # model.add(Conv3D(conv_layers[3], (2, 2, 2), padding='same', kernel_initializer='he_uniform'))\n",
        "  # model.add(Activation('relu'))\n",
        "  # model.add(BatchNormalization())\n",
        "  # model.add(MaxPooling3D(pool_size=(2, 2, 2)))\n",
        "  # model.add(Dropout(dropout))\n",
        "\n",
        "  model.add(Flatten())\n",
        "  model.add(Dense(dense_layers[1],activation='relu', kernel_initializer='he_uniform'))\n",
        "  model.add(BatchNormalization())\n",
        "  model.add(Dropout(dropout))\n",
        "\n",
        "  model.add(Dense(dense_layers[0],activation='relu', kernel_initializer='he_uniform'))\n",
        "  model.add(BatchNormalization())\n",
        "  model.add(Dropout(dropout))\n",
        "\n",
        "  model.add(Dense(5,activation='softmax')) # number of gestures\n",
        "  return model"
      ],
      "metadata": {
        "id": "I5U0OpzNLxIh"
      },
      "execution_count": 16,
      "outputs": []
    },
    {
      "cell_type": "code",
      "source": [
        "# adding optimizer and summarizing the model-1\n",
        "model_1 = conv3D_model(conv_layers=(16,32,64,128), dense_layers=(128,64),\n",
        "                       dropout=0.25, n_frames=n_frames, \n",
        "                       frame_size_x=frame_size_x, frame_size_y=frame_size_y)\n",
        "optimiser = optimizers.Adam(learning_rate=0.001)\n",
        "model_1.compile(optimizer=optimiser, loss='categorical_crossentropy', metrics=['categorical_accuracy'])\n",
        "model_1.summary()"
      ],
      "metadata": {
        "id": "9YJQ2Kt_3taX",
        "colab": {
          "base_uri": "https://localhost:8080/"
        },
        "outputId": "c30e8aee-ff59-421f-d7a4-eb25a3c8c4d4"
      },
      "execution_count": 17,
      "outputs": [
        {
          "output_type": "stream",
          "name": "stdout",
          "text": [
            "Model: \"sequential\"\n",
            "_________________________________________________________________\n",
            " Layer (type)                Output Shape              Param #   \n",
            "=================================================================\n",
            " conv3d (Conv3D)             (None, 15, 120, 120, 16)  1312      \n",
            "                                                                 \n",
            " activation (Activation)     (None, 15, 120, 120, 16)  0         \n",
            "                                                                 \n",
            " batch_normalization (BatchN  (None, 15, 120, 120, 16)  64       \n",
            " ormalization)                                                   \n",
            "                                                                 \n",
            " max_pooling3d (MaxPooling3D  (None, 7, 60, 60, 16)    0         \n",
            " )                                                               \n",
            "                                                                 \n",
            " conv3d_1 (Conv3D)           (None, 7, 60, 60, 32)     4128      \n",
            "                                                                 \n",
            " activation_1 (Activation)   (None, 7, 60, 60, 32)     0         \n",
            "                                                                 \n",
            " batch_normalization_1 (Batc  (None, 7, 60, 60, 32)    128       \n",
            " hNormalization)                                                 \n",
            "                                                                 \n",
            " max_pooling3d_1 (MaxPooling  (None, 3, 30, 30, 32)    0         \n",
            " 3D)                                                             \n",
            "                                                                 \n",
            " conv3d_2 (Conv3D)           (None, 3, 30, 30, 64)     16448     \n",
            "                                                                 \n",
            " activation_2 (Activation)   (None, 3, 30, 30, 64)     0         \n",
            "                                                                 \n",
            " batch_normalization_2 (Batc  (None, 3, 30, 30, 64)    256       \n",
            " hNormalization)                                                 \n",
            "                                                                 \n",
            " max_pooling3d_2 (MaxPooling  (None, 1, 15, 15, 64)    0         \n",
            " 3D)                                                             \n",
            "                                                                 \n",
            " flatten (Flatten)           (None, 14400)             0         \n",
            "                                                                 \n",
            " dense (Dense)               (None, 64)                921664    \n",
            "                                                                 \n",
            " batch_normalization_3 (Batc  (None, 64)               256       \n",
            " hNormalization)                                                 \n",
            "                                                                 \n",
            " dropout (Dropout)           (None, 64)                0         \n",
            "                                                                 \n",
            " dense_1 (Dense)             (None, 128)               8320      \n",
            "                                                                 \n",
            " batch_normalization_4 (Batc  (None, 128)              512       \n",
            " hNormalization)                                                 \n",
            "                                                                 \n",
            " dropout_1 (Dropout)         (None, 128)               0         \n",
            "                                                                 \n",
            " dense_2 (Dense)             (None, 5)                 645       \n",
            "                                                                 \n",
            "=================================================================\n",
            "Total params: 953,733\n",
            "Trainable params: 953,125\n",
            "Non-trainable params: 608\n",
            "_________________________________________________________________\n"
          ]
        }
      ]
    },
    {
      "cell_type": "code",
      "execution_count": 18,
      "metadata": {
        "colab": {
          "base_uri": "https://localhost:8080/"
        },
        "id": "HtQhPR-LGzHW",
        "outputId": "44f4ee5a-aaaf-4c22-b052-261b62e40ed8"
      },
      "outputs": [
        {
          "output_type": "stream",
          "name": "stdout",
          "text": [
            "WARNING:tensorflow:`period` argument is deprecated. Please use `save_freq` to specify the frequency in number of batches seen.\n"
          ]
        }
      ],
      "source": [
        "# fetching all the parameters for model-1 fitting\n",
        "train_generator = generator(train_path, train_doc, batch_size, n_frames, frame_size_x, frame_size_y)\n",
        "val_generator = generator(val_path, val_doc, batch_size, n_frames, frame_size_x, frame_size_y)\n",
        "model_1_path, callbacks_list = model_callbacks('model_1')\n",
        "epoch_steps, val_steps = n_steps(num_train_sequences, num_val_sequences, batch_size)"
      ]
    },
    {
      "cell_type": "code",
      "source": [
        "history_1 = model_1.fit_generator(train_generator, steps_per_epoch=epoch_steps,\n",
        "                                  epochs=n_epochs, callbacks=callbacks_list, \n",
        "                                  validation_data=val_generator, validation_steps=val_steps,\n",
        "                                  class_weight=None, workers=1, initial_epoch=0,\n",
        "                                  verbose=1)"
      ],
      "metadata": {
        "colab": {
          "base_uri": "https://localhost:8080/"
        },
        "id": "kRNqzRLqci7d",
        "outputId": "99402cf1-7078-4091-b176-694cdd432291"
      },
      "execution_count": 19,
      "outputs": [
        {
          "output_type": "stream",
          "name": "stdout",
          "text": [
            "Source path =  /content/Gesture_assignment/Project_data/train \n",
            " batch size = 30 \n",
            " No. of images from each folder = 15 \n",
            " Normalized image size = 120 x 120\n"
          ]
        },
        {
          "output_type": "stream",
          "name": "stderr",
          "text": [
            "/usr/local/lib/python3.7/dist-packages/ipykernel_launcher.py:5: UserWarning: `Model.fit_generator` is deprecated and will be removed in a future version. Please use `Model.fit`, which supports generators.\n",
            "  \"\"\"\n"
          ]
        },
        {
          "output_type": "stream",
          "name": "stdout",
          "text": [
            "Epoch 1/30\n",
            "23/23 [==============================] - ETA: 0s - loss: 1.5557 - categorical_accuracy: 0.4419Source path =  /content/Gesture_assignment/Project_data/val \n",
            " batch size = 30 \n",
            " No. of images from each folder = 15 \n",
            " Normalized image size = 120 x 120\n",
            "\n",
            "Epoch 00001: saving model to model_1_2022-01-1019_32_37.215518/model-00001-1.55565-0.44193-2.35516-0.25000.h5\n",
            "23/23 [==============================] - 50s 2s/step - loss: 1.5557 - categorical_accuracy: 0.4419 - val_loss: 2.3552 - val_categorical_accuracy: 0.2500 - lr: 0.0010\n",
            "Epoch 2/30\n",
            "23/23 [==============================] - ETA: 0s - loss: 0.9880 - categorical_accuracy: 0.5958\n",
            "Epoch 00002: saving model to model_1_2022-01-1019_32_37.215518/model-00002-0.98803-0.59578-1.63047-0.35000.h5\n",
            "23/23 [==============================] - 38s 2s/step - loss: 0.9880 - categorical_accuracy: 0.5958 - val_loss: 1.6305 - val_categorical_accuracy: 0.3500 - lr: 0.0010\n",
            "Epoch 3/30\n",
            "23/23 [==============================] - ETA: 0s - loss: 0.7327 - categorical_accuracy: 0.7345\n",
            "Epoch 00003: saving model to model_1_2022-01-1019_32_37.215518/model-00003-0.73272-0.73454-2.94288-0.21000.h5\n",
            "23/23 [==============================] - 38s 2s/step - loss: 0.7327 - categorical_accuracy: 0.7345 - val_loss: 2.9429 - val_categorical_accuracy: 0.2100 - lr: 0.0010\n",
            "Epoch 4/30\n",
            "23/23 [==============================] - ETA: 0s - loss: 0.5873 - categorical_accuracy: 0.7919\n",
            "Epoch 00004: saving model to model_1_2022-01-1019_32_37.215518/model-00004-0.58727-0.79186-3.19249-0.22000.h5\n",
            "23/23 [==============================] - 37s 2s/step - loss: 0.5873 - categorical_accuracy: 0.7919 - val_loss: 3.1925 - val_categorical_accuracy: 0.2200 - lr: 0.0010\n",
            "Epoch 5/30\n",
            "23/23 [==============================] - ETA: 0s - loss: 0.5456 - categorical_accuracy: 0.7888\n",
            "Epoch 00005: saving model to model_1_2022-01-1019_32_37.215518/model-00005-0.54558-0.78884-3.32489-0.24000.h5\n",
            "23/23 [==============================] - 37s 2s/step - loss: 0.5456 - categorical_accuracy: 0.7888 - val_loss: 3.3249 - val_categorical_accuracy: 0.2400 - lr: 0.0010\n",
            "Epoch 6/30\n",
            "23/23 [==============================] - ETA: 0s - loss: 0.5198 - categorical_accuracy: 0.8084\n",
            "Epoch 00006: saving model to model_1_2022-01-1019_32_37.215518/model-00006-0.51985-0.80845-3.43573-0.29000.h5\n",
            "\n",
            "Epoch 00006: ReduceLROnPlateau reducing learning rate to 0.00020000000949949026.\n",
            "23/23 [==============================] - 37s 2s/step - loss: 0.5198 - categorical_accuracy: 0.8084 - val_loss: 3.4357 - val_categorical_accuracy: 0.2900 - lr: 0.0010\n",
            "Epoch 7/30\n",
            "23/23 [==============================] - ETA: 0s - loss: 0.3411 - categorical_accuracy: 0.8793\n",
            "Epoch 00007: saving model to model_1_2022-01-1019_32_37.215518/model-00007-0.34106-0.87934-4.05337-0.23000.h5\n",
            "23/23 [==============================] - 37s 2s/step - loss: 0.3411 - categorical_accuracy: 0.8793 - val_loss: 4.0534 - val_categorical_accuracy: 0.2300 - lr: 2.0000e-04\n",
            "Epoch 8/30\n",
            "23/23 [==============================] - ETA: 0s - loss: 0.3012 - categorical_accuracy: 0.9080\n",
            "Epoch 00008: saving model to model_1_2022-01-1019_32_37.215518/model-00008-0.30122-0.90799-4.22246-0.21000.h5\n",
            "23/23 [==============================] - 36s 2s/step - loss: 0.3012 - categorical_accuracy: 0.9080 - val_loss: 4.2225 - val_categorical_accuracy: 0.2100 - lr: 2.0000e-04\n",
            "Epoch 9/30\n",
            "23/23 [==============================] - ETA: 0s - loss: 0.2802 - categorical_accuracy: 0.9140\n",
            "Epoch 00009: saving model to model_1_2022-01-1019_32_37.215518/model-00009-0.28020-0.91403-4.38757-0.22000.h5\n",
            "23/23 [==============================] - 37s 2s/step - loss: 0.2802 - categorical_accuracy: 0.9140 - val_loss: 4.3876 - val_categorical_accuracy: 0.2200 - lr: 2.0000e-04\n",
            "Epoch 10/30\n",
            "23/23 [==============================] - ETA: 0s - loss: 0.2906 - categorical_accuracy: 0.9065\n",
            "Epoch 00010: saving model to model_1_2022-01-1019_32_37.215518/model-00010-0.29056-0.90649-4.39010-0.25000.h5\n",
            "\n",
            "Epoch 00010: ReduceLROnPlateau reducing learning rate to 4.0000001899898055e-05.\n",
            "23/23 [==============================] - 37s 2s/step - loss: 0.2906 - categorical_accuracy: 0.9065 - val_loss: 4.3901 - val_categorical_accuracy: 0.2500 - lr: 2.0000e-04\n",
            "Epoch 11/30\n",
            "23/23 [==============================] - ETA: 0s - loss: 0.2391 - categorical_accuracy: 0.9351\n",
            "Epoch 00011: saving model to model_1_2022-01-1019_32_37.215518/model-00011-0.23912-0.93514-4.28780-0.19000.h5\n",
            "23/23 [==============================] - 37s 2s/step - loss: 0.2391 - categorical_accuracy: 0.9351 - val_loss: 4.2878 - val_categorical_accuracy: 0.1900 - lr: 4.0000e-05\n",
            "Epoch 12/30\n",
            "23/23 [==============================] - ETA: 0s - loss: 0.2091 - categorical_accuracy: 0.9382\n",
            "Epoch 00012: saving model to model_1_2022-01-1019_32_37.215518/model-00012-0.20907-0.93816-3.87022-0.26000.h5\n",
            "23/23 [==============================] - 36s 2s/step - loss: 0.2091 - categorical_accuracy: 0.9382 - val_loss: 3.8702 - val_categorical_accuracy: 0.2600 - lr: 4.0000e-05\n",
            "Epoch 13/30\n",
            "23/23 [==============================] - ETA: 0s - loss: 0.2381 - categorical_accuracy: 0.9321\n",
            "Epoch 00013: saving model to model_1_2022-01-1019_32_37.215518/model-00013-0.23809-0.93213-3.66862-0.25000.h5\n",
            "23/23 [==============================] - 36s 2s/step - loss: 0.2381 - categorical_accuracy: 0.9321 - val_loss: 3.6686 - val_categorical_accuracy: 0.2500 - lr: 4.0000e-05\n",
            "Epoch 14/30\n",
            "23/23 [==============================] - ETA: 0s - loss: 0.2537 - categorical_accuracy: 0.9201\n",
            "Epoch 00014: saving model to model_1_2022-01-1019_32_37.215518/model-00014-0.25366-0.92006-3.60426-0.25000.h5\n",
            "\n",
            "Epoch 00014: ReduceLROnPlateau reducing learning rate to 8.000000525498762e-06.\n",
            "23/23 [==============================] - 37s 2s/step - loss: 0.2537 - categorical_accuracy: 0.9201 - val_loss: 3.6043 - val_categorical_accuracy: 0.2500 - lr: 4.0000e-05\n",
            "Epoch 15/30\n",
            "23/23 [==============================] - ETA: 0s - loss: 0.2269 - categorical_accuracy: 0.9412\n",
            "Epoch 00015: saving model to model_1_2022-01-1019_32_37.215518/model-00015-0.22685-0.94118-3.24546-0.27000.h5\n",
            "23/23 [==============================] - 38s 2s/step - loss: 0.2269 - categorical_accuracy: 0.9412 - val_loss: 3.2455 - val_categorical_accuracy: 0.2700 - lr: 8.0000e-06\n",
            "Epoch 16/30\n",
            "23/23 [==============================] - ETA: 0s - loss: 0.2385 - categorical_accuracy: 0.9231\n",
            "Epoch 00016: saving model to model_1_2022-01-1019_32_37.215518/model-00016-0.23852-0.92308-2.92222-0.29000.h5\n",
            "23/23 [==============================] - 36s 2s/step - loss: 0.2385 - categorical_accuracy: 0.9231 - val_loss: 2.9222 - val_categorical_accuracy: 0.2900 - lr: 8.0000e-06\n",
            "Epoch 17/30\n",
            "23/23 [==============================] - ETA: 0s - loss: 0.2336 - categorical_accuracy: 0.9276\n",
            "Epoch 00017: saving model to model_1_2022-01-1019_32_37.215518/model-00017-0.23356-0.92760-2.58446-0.32000.h5\n",
            "23/23 [==============================] - 37s 2s/step - loss: 0.2336 - categorical_accuracy: 0.9276 - val_loss: 2.5845 - val_categorical_accuracy: 0.3200 - lr: 8.0000e-06\n",
            "Epoch 18/30\n",
            "23/23 [==============================] - ETA: 0s - loss: 0.2381 - categorical_accuracy: 0.9367\n",
            "Epoch 00018: saving model to model_1_2022-01-1019_32_37.215518/model-00018-0.23810-0.93665-2.31446-0.34000.h5\n",
            "\n",
            "Epoch 00018: ReduceLROnPlateau reducing learning rate to 1.6000001778593287e-06.\n",
            "23/23 [==============================] - 37s 2s/step - loss: 0.2381 - categorical_accuracy: 0.9367 - val_loss: 2.3145 - val_categorical_accuracy: 0.3400 - lr: 8.0000e-06\n",
            "Epoch 19/30\n",
            "23/23 [==============================] - ETA: 0s - loss: 0.1985 - categorical_accuracy: 0.9532\n",
            "Epoch 00019: saving model to model_1_2022-01-1019_32_37.215518/model-00019-0.19853-0.95324-2.02141-0.34000.h5\n",
            "23/23 [==============================] - 37s 2s/step - loss: 0.1985 - categorical_accuracy: 0.9532 - val_loss: 2.0214 - val_categorical_accuracy: 0.3400 - lr: 1.6000e-06\n",
            "Epoch 20/30\n",
            "23/23 [==============================] - ETA: 0s - loss: 0.2118 - categorical_accuracy: 0.9457\n",
            "Epoch 00020: saving model to model_1_2022-01-1019_32_37.215518/model-00020-0.21178-0.94570-1.82255-0.39000.h5\n",
            "23/23 [==============================] - 36s 2s/step - loss: 0.2118 - categorical_accuracy: 0.9457 - val_loss: 1.8226 - val_categorical_accuracy: 0.3900 - lr: 1.6000e-06\n",
            "Epoch 21/30\n",
            "23/23 [==============================] - ETA: 0s - loss: 0.2129 - categorical_accuracy: 0.9412\n",
            "Epoch 00021: saving model to model_1_2022-01-1019_32_37.215518/model-00021-0.21294-0.94118-1.55476-0.46000.h5\n",
            "23/23 [==============================] - 37s 2s/step - loss: 0.2129 - categorical_accuracy: 0.9412 - val_loss: 1.5548 - val_categorical_accuracy: 0.4600 - lr: 1.6000e-06\n",
            "Epoch 22/30\n",
            "23/23 [==============================] - ETA: 0s - loss: 0.2233 - categorical_accuracy: 0.9367\n",
            "Epoch 00022: saving model to model_1_2022-01-1019_32_37.215518/model-00022-0.22332-0.93665-1.33146-0.52000.h5\n",
            "23/23 [==============================] - 37s 2s/step - loss: 0.2233 - categorical_accuracy: 0.9367 - val_loss: 1.3315 - val_categorical_accuracy: 0.5200 - lr: 1.6000e-06\n",
            "Epoch 23/30\n",
            "23/23 [==============================] - ETA: 0s - loss: 0.2230 - categorical_accuracy: 0.9291\n",
            "Epoch 00023: saving model to model_1_2022-01-1019_32_37.215518/model-00023-0.22301-0.92911-1.16802-0.55000.h5\n",
            "23/23 [==============================] - 37s 2s/step - loss: 0.2230 - categorical_accuracy: 0.9291 - val_loss: 1.1680 - val_categorical_accuracy: 0.5500 - lr: 1.6000e-06\n",
            "Epoch 24/30\n",
            "23/23 [==============================] - ETA: 0s - loss: 0.2217 - categorical_accuracy: 0.9457\n",
            "Epoch 00024: saving model to model_1_2022-01-1019_32_37.215518/model-00024-0.22173-0.94570-1.16694-0.59000.h5\n",
            "23/23 [==============================] - 36s 2s/step - loss: 0.2217 - categorical_accuracy: 0.9457 - val_loss: 1.1669 - val_categorical_accuracy: 0.5900 - lr: 1.6000e-06\n",
            "Epoch 25/30\n",
            "23/23 [==============================] - ETA: 0s - loss: 0.2078 - categorical_accuracy: 0.9306\n",
            "Epoch 00025: saving model to model_1_2022-01-1019_32_37.215518/model-00025-0.20781-0.93062-0.97996-0.66000.h5\n",
            "23/23 [==============================] - 37s 2s/step - loss: 0.2078 - categorical_accuracy: 0.9306 - val_loss: 0.9800 - val_categorical_accuracy: 0.6600 - lr: 1.6000e-06\n",
            "Epoch 26/30\n",
            "23/23 [==============================] - ETA: 0s - loss: 0.2165 - categorical_accuracy: 0.9382\n",
            "Epoch 00026: saving model to model_1_2022-01-1019_32_37.215518/model-00026-0.21652-0.93816-0.84595-0.70000.h5\n",
            "23/23 [==============================] - 37s 2s/step - loss: 0.2165 - categorical_accuracy: 0.9382 - val_loss: 0.8460 - val_categorical_accuracy: 0.7000 - lr: 1.6000e-06\n",
            "Epoch 27/30\n",
            "23/23 [==============================] - ETA: 0s - loss: 0.2100 - categorical_accuracy: 0.9412\n",
            "Epoch 00027: saving model to model_1_2022-01-1019_32_37.215518/model-00027-0.21005-0.94118-0.73758-0.74000.h5\n",
            "23/23 [==============================] - 37s 2s/step - loss: 0.2100 - categorical_accuracy: 0.9412 - val_loss: 0.7376 - val_categorical_accuracy: 0.7400 - lr: 1.6000e-06\n",
            "Epoch 28/30\n",
            "23/23 [==============================] - ETA: 0s - loss: 0.2188 - categorical_accuracy: 0.9336\n",
            "Epoch 00028: saving model to model_1_2022-01-1019_32_37.215518/model-00028-0.21882-0.93363-0.74049-0.73000.h5\n",
            "23/23 [==============================] - 36s 2s/step - loss: 0.2188 - categorical_accuracy: 0.9336 - val_loss: 0.7405 - val_categorical_accuracy: 0.7300 - lr: 1.6000e-06\n",
            "Epoch 29/30\n",
            "23/23 [==============================] - ETA: 0s - loss: 0.2172 - categorical_accuracy: 0.9472\n",
            "Epoch 00029: saving model to model_1_2022-01-1019_32_37.215518/model-00029-0.21715-0.94721-0.73403-0.74000.h5\n",
            "23/23 [==============================] - 37s 2s/step - loss: 0.2172 - categorical_accuracy: 0.9472 - val_loss: 0.7340 - val_categorical_accuracy: 0.7400 - lr: 1.6000e-06\n",
            "Epoch 30/30\n",
            "23/23 [==============================] - ETA: 0s - loss: 0.2121 - categorical_accuracy: 0.9367\n",
            "Epoch 00030: saving model to model_1_2022-01-1019_32_37.215518/model-00030-0.21212-0.93665-0.57176-0.79000.h5\n",
            "23/23 [==============================] - 37s 2s/step - loss: 0.2121 - categorical_accuracy: 0.9367 - val_loss: 0.5718 - val_categorical_accuracy: 0.7900 - lr: 1.6000e-06\n"
          ]
        }
      ]
    },
    {
      "cell_type": "code",
      "source": [
        "# plotting the history for model_1\n",
        "accuracy_loss_plot(history_1, 'model_1')"
      ],
      "metadata": {
        "colab": {
          "base_uri": "https://localhost:8080/",
          "height": 294
        },
        "id": "QVlfBmH_knt9",
        "outputId": "6d7db918-6d96-408f-c0b7-fe6e69331d5f"
      },
      "execution_count": 20,
      "outputs": [
        {
          "output_type": "display_data",
          "data": {
            "image/png": "[encoded data removed]",
            "text/plain": [
              "<Figure size 720x288 with 2 Axes>"
            ]
          },
          "metadata": {
            "needs_background": "light"
          }
        }
      ]
    },
    {
      "cell_type": "code",
      "source": [
        ""
      ],
      "metadata": {
        "id": "j0x5rpSn7tOq"
      },
      "execution_count": null,
      "outputs": []
    },
    {
      "cell_type": "code",
      "source": [
        ""
      ],
      "metadata": {
        "id": "AOz-wstk8KiO"
      },
      "execution_count": null,
      "outputs": []
    },
    {
      "cell_type": "code",
      "source": [
        ""
      ],
      "metadata": {
        "id": "tUqBN39o8n5d"
      },
      "execution_count": null,
      "outputs": []
    },
    {
      "cell_type": "code",
      "source": [
        "# # # downloading the final h5 file from model_1\n",
        "# # from google.colab import files\n",
        "\n",
        "# file_list = glob.glob(model_1_path)\n",
        "# f =max(file_list, key=os.path.getctime)\n",
        "# # files.download(max(file_list, key=os.path.getctime)) \n",
        "# file_model_1 = h5py.File(f, 'r')\n",
        "# dset = file_model_1['key']\n",
        "# data = np.array(dset[:,:,:])\n",
        "# file_1 = 'test.jpg'\n",
        "# cv2.imwrite(file_1, data)\n",
        "# cv2.imshow(file_1)"
      ],
      "metadata": {
        "id": "tDT9wRFcp5yk"
      },
      "execution_count": 21,
      "outputs": []
    },
    {
      "cell_type": "markdown",
      "source": [
        "### Model-2 : 3D convolution with 15 frames using an image size of 120x120 with a batch size of 30 run for 30 epochs for convolution layers of (32, 64, 128) and dense layers of (256, 256) using kernal initializer"
      ],
      "metadata": {
        "id": "T_oahoaHNhrw"
      }
    },
    {
      "cell_type": "code",
      "source": [
        "n_frames = 15\n",
        "frame_size_x = 120\n",
        "frame_size_y = 120\n",
        "batch_size = 30\n",
        "n_epochs = 30"
      ],
      "metadata": {
        "id": "x241ZUsEWpNz"
      },
      "execution_count": 27,
      "outputs": []
    },
    {
      "cell_type": "code",
      "source": [
        "# adding optimizer and summarizing the model-2\n",
        "model_2 = conv3D_model(conv_layers=(32,64,128), dense_layers=(256,256),\n",
        "                       dropout=0.25, n_frames=n_frames, \n",
        "                       frame_size_x=frame_size_x, frame_size_y=frame_size_y)\n",
        "optimiser = optimizers.Adam(learning_rate=0.001)\n",
        "model_2.compile(optimizer=optimiser, loss='categorical_crossentropy', metrics=['categorical_accuracy'])\n",
        "model_2.summary()"
      ],
      "metadata": {
        "id": "OuQrLlFMuuTK",
        "colab": {
          "base_uri": "https://localhost:8080/"
        },
        "outputId": "0ab423dd-4096-4381-cd0b-532485df635c"
      },
      "execution_count": 28,
      "outputs": [
        {
          "output_type": "stream",
          "name": "stdout",
          "text": [
            "Model: \"sequential_2\"\n",
            "_________________________________________________________________\n",
            " Layer (type)                Output Shape              Param #   \n",
            "=================================================================\n",
            " conv3d_6 (Conv3D)           (None, 15, 120, 120, 32)  2624      \n",
            "                                                                 \n",
            " activation_6 (Activation)   (None, 15, 120, 120, 32)  0         \n",
            "                                                                 \n",
            " batch_normalization_10 (Bat  (None, 15, 120, 120, 32)  128      \n",
            " chNormalization)                                                \n",
            "                                                                 \n",
            " max_pooling3d_6 (MaxPooling  (None, 7, 60, 60, 32)    0         \n",
            " 3D)                                                             \n",
            "                                                                 \n",
            " conv3d_7 (Conv3D)           (None, 7, 60, 60, 64)     16448     \n",
            "                                                                 \n",
            " activation_7 (Activation)   (None, 7, 60, 60, 64)     0         \n",
            "                                                                 \n",
            " batch_normalization_11 (Bat  (None, 7, 60, 60, 64)    256       \n",
            " chNormalization)                                                \n",
            "                                                                 \n",
            " max_pooling3d_7 (MaxPooling  (None, 3, 30, 30, 64)    0         \n",
            " 3D)                                                             \n",
            "                                                                 \n",
            " conv3d_8 (Conv3D)           (None, 3, 30, 30, 128)    65664     \n",
            "                                                                 \n",
            " activation_8 (Activation)   (None, 3, 30, 30, 128)    0         \n",
            "                                                                 \n",
            " batch_normalization_12 (Bat  (None, 3, 30, 30, 128)   512       \n",
            " chNormalization)                                                \n",
            "                                                                 \n",
            " max_pooling3d_8 (MaxPooling  (None, 1, 15, 15, 128)   0         \n",
            " 3D)                                                             \n",
            "                                                                 \n",
            " flatten_2 (Flatten)         (None, 28800)             0         \n",
            "                                                                 \n",
            " dense_6 (Dense)             (None, 256)               7373056   \n",
            "                                                                 \n",
            " batch_normalization_13 (Bat  (None, 256)              1024      \n",
            " chNormalization)                                                \n",
            "                                                                 \n",
            " dropout_4 (Dropout)         (None, 256)               0         \n",
            "                                                                 \n",
            " dense_7 (Dense)             (None, 256)               65792     \n",
            "                                                                 \n",
            " batch_normalization_14 (Bat  (None, 256)              1024      \n",
            " chNormalization)                                                \n",
            "                                                                 \n",
            " dropout_5 (Dropout)         (None, 256)               0         \n",
            "                                                                 \n",
            " dense_8 (Dense)             (None, 5)                 1285      \n",
            "                                                                 \n",
            "=================================================================\n",
            "Total params: 7,527,813\n",
            "Trainable params: 7,526,341\n",
            "Non-trainable params: 1,472\n",
            "_________________________________________________________________\n"
          ]
        }
      ]
    },
    {
      "cell_type": "code",
      "source": [
        ""
      ],
      "metadata": {
        "id": "wmTSS0Z8e3ht"
      },
      "execution_count": 28,
      "outputs": []
    },
    {
      "cell_type": "code",
      "source": [
        "# fetching all the parameters for model-2 fitting\n",
        "train_generator = generator(train_path, train_doc, batch_size, n_frames, frame_size_x, frame_size_y)\n",
        "val_generator = generator(val_path, val_doc, batch_size, n_frames, frame_size_x, frame_size_y)\n",
        "model_2_path, callbacks_list = model_callbacks('model_2')\n",
        "epoch_steps, val_steps = n_steps(num_train_sequences, num_val_sequences, batch_size)"
      ],
      "metadata": {
        "colab": {
          "base_uri": "https://localhost:8080/"
        },
        "id": "0GNZ3VOeW3oS",
        "outputId": "bf538ec9-b2e3-412f-807c-bc8f8d54bf1f"
      },
      "execution_count": 29,
      "outputs": [
        {
          "output_type": "stream",
          "name": "stdout",
          "text": [
            "WARNING:tensorflow:`period` argument is deprecated. Please use `save_freq` to specify the frequency in number of batches seen.\n"
          ]
        }
      ]
    },
    {
      "cell_type": "code",
      "source": [
        "history_2 = model_2.fit_generator(train_generator, steps_per_epoch=epoch_steps,\n",
        "                                  epochs=n_epochs, callbacks=callbacks_list, \n",
        "                                  validation_data=val_generator, validation_steps=val_steps,\n",
        "                                  class_weight=None, workers=1, initial_epoch=0,\n",
        "                                  verbose=1)"
      ],
      "metadata": {
        "colab": {
          "base_uri": "https://localhost:8080/"
        },
        "id": "zsImdaeLXBSA",
        "outputId": "d20a5bb7-6cb7-4fa5-a977-dde24678a1a6"
      },
      "execution_count": 30,
      "outputs": [
        {
          "output_type": "stream",
          "name": "stdout",
          "text": [
            "Source path =  /content/Gesture_assignment/Project_data/train \n",
            " batch size = 30 \n",
            " No. of images from each folder = 15 \n",
            " Normalized image size = 120 x 120\n"
          ]
        },
        {
          "output_type": "stream",
          "name": "stderr",
          "text": [
            "/usr/local/lib/python3.7/dist-packages/ipykernel_launcher.py:5: UserWarning: `Model.fit_generator` is deprecated and will be removed in a future version. Please use `Model.fit`, which supports generators.\n",
            "  \"\"\"\n"
          ]
        },
        {
          "output_type": "stream",
          "name": "stdout",
          "text": [
            "Epoch 1/30\n",
            "23/23 [==============================] - ETA: 0s - loss: 1.3623 - categorical_accuracy: 0.5204Source path =  /content/Gesture_assignment/Project_data/val \n",
            " batch size = 30 \n",
            " No. of images from each folder = 15 \n",
            " Normalized image size = 120 x 120\n",
            "\n",
            "Epoch 00001: saving model to model_2_2022-01-1019_58_02.080014/model-00001-1.36231-0.52036-2.78702-0.25000.h5\n",
            "23/23 [==============================] - 43s 2s/step - loss: 1.3623 - categorical_accuracy: 0.5204 - val_loss: 2.7870 - val_categorical_accuracy: 0.2500 - lr: 0.0010\n",
            "Epoch 2/30\n",
            "23/23 [==============================] - ETA: 0s - loss: 0.5939 - categorical_accuracy: 0.7738\n",
            "Epoch 00002: saving model to model_2_2022-01-1019_58_02.080014/model-00002-0.59391-0.77376-2.29721-0.22000.h5\n",
            "23/23 [==============================] - 40s 2s/step - loss: 0.5939 - categorical_accuracy: 0.7738 - val_loss: 2.2972 - val_categorical_accuracy: 0.2200 - lr: 0.0010\n",
            "Epoch 3/30\n",
            "23/23 [==============================] - ETA: 0s - loss: 0.4075 - categorical_accuracy: 0.8462\n",
            "Epoch 00003: saving model to model_2_2022-01-1019_58_02.080014/model-00003-0.40749-0.84615-2.52566-0.37000.h5\n",
            "23/23 [==============================] - 40s 2s/step - loss: 0.4075 - categorical_accuracy: 0.8462 - val_loss: 2.5257 - val_categorical_accuracy: 0.3700 - lr: 0.0010\n",
            "Epoch 4/30\n",
            "23/23 [==============================] - ETA: 0s - loss: 0.3057 - categorical_accuracy: 0.8929\n",
            "Epoch 00004: saving model to model_2_2022-01-1019_58_02.080014/model-00004-0.30570-0.89291-3.16648-0.28000.h5\n",
            "23/23 [==============================] - 38s 2s/step - loss: 0.3057 - categorical_accuracy: 0.8929 - val_loss: 3.1665 - val_categorical_accuracy: 0.2800 - lr: 0.0010\n",
            "Epoch 5/30\n",
            "23/23 [==============================] - ETA: 0s - loss: 0.2493 - categorical_accuracy: 0.9140\n",
            "Epoch 00005: saving model to model_2_2022-01-1019_58_02.080014/model-00005-0.24935-0.91403-4.02556-0.27000.h5\n",
            "23/23 [==============================] - 39s 2s/step - loss: 0.2493 - categorical_accuracy: 0.9140 - val_loss: 4.0256 - val_categorical_accuracy: 0.2700 - lr: 0.0010\n",
            "Epoch 6/30\n",
            "23/23 [==============================] - ETA: 0s - loss: 0.1587 - categorical_accuracy: 0.9517\n",
            "Epoch 00006: saving model to model_2_2022-01-1019_58_02.080014/model-00006-0.15871-0.95173-6.10477-0.23000.h5\n",
            "\n",
            "Epoch 00006: ReduceLROnPlateau reducing learning rate to 0.00020000000949949026.\n",
            "23/23 [==============================] - 42s 2s/step - loss: 0.1587 - categorical_accuracy: 0.9517 - val_loss: 6.1048 - val_categorical_accuracy: 0.2300 - lr: 0.0010\n",
            "Epoch 7/30\n",
            "23/23 [==============================] - ETA: 0s - loss: 0.1088 - categorical_accuracy: 0.9713\n",
            "Epoch 00007: saving model to model_2_2022-01-1019_58_02.080014/model-00007-0.10879-0.97134-6.29276-0.21000.h5\n",
            "23/23 [==============================] - 39s 2s/step - loss: 0.1088 - categorical_accuracy: 0.9713 - val_loss: 6.2928 - val_categorical_accuracy: 0.2100 - lr: 2.0000e-04\n",
            "Epoch 8/30\n",
            "23/23 [==============================] - ETA: 0s - loss: 0.0885 - categorical_accuracy: 0.9789\n",
            "Epoch 00008: saving model to model_2_2022-01-1019_58_02.080014/model-00008-0.08852-0.97888-5.89339-0.26000.h5\n",
            "23/23 [==============================] - 38s 2s/step - loss: 0.0885 - categorical_accuracy: 0.9789 - val_loss: 5.8934 - val_categorical_accuracy: 0.2600 - lr: 2.0000e-04\n",
            "Epoch 9/30\n",
            "23/23 [==============================] - ETA: 0s - loss: 0.0978 - categorical_accuracy: 0.9774\n",
            "Epoch 00009: saving model to model_2_2022-01-1019_58_02.080014/model-00009-0.09777-0.97738-5.90530-0.25000.h5\n",
            "23/23 [==============================] - 39s 2s/step - loss: 0.0978 - categorical_accuracy: 0.9774 - val_loss: 5.9053 - val_categorical_accuracy: 0.2500 - lr: 2.0000e-04\n",
            "Epoch 10/30\n",
            "23/23 [==============================] - ETA: 0s - loss: 0.0946 - categorical_accuracy: 0.9683\n",
            "Epoch 00010: saving model to model_2_2022-01-1019_58_02.080014/model-00010-0.09458-0.96833-4.98164-0.32000.h5\n",
            "\n",
            "Epoch 00010: ReduceLROnPlateau reducing learning rate to 4.0000001899898055e-05.\n",
            "23/23 [==============================] - 40s 2s/step - loss: 0.0946 - categorical_accuracy: 0.9683 - val_loss: 4.9816 - val_categorical_accuracy: 0.3200 - lr: 2.0000e-04\n",
            "Epoch 11/30\n",
            "23/23 [==============================] - ETA: 0s - loss: 0.0833 - categorical_accuracy: 0.9789\n",
            "Epoch 00011: saving model to model_2_2022-01-1019_58_02.080014/model-00011-0.08333-0.97888-5.09774-0.32000.h5\n",
            "23/23 [==============================] - 39s 2s/step - loss: 0.0833 - categorical_accuracy: 0.9789 - val_loss: 5.0977 - val_categorical_accuracy: 0.3200 - lr: 4.0000e-05\n",
            "Epoch 12/30\n",
            "23/23 [==============================] - ETA: 0s - loss: 0.0846 - categorical_accuracy: 0.9804\n",
            "Epoch 00012: saving model to model_2_2022-01-1019_58_02.080014/model-00012-0.08455-0.98039-4.71245-0.27000.h5\n",
            "23/23 [==============================] - 38s 2s/step - loss: 0.0846 - categorical_accuracy: 0.9804 - val_loss: 4.7125 - val_categorical_accuracy: 0.2700 - lr: 4.0000e-05\n",
            "Epoch 13/30\n",
            "23/23 [==============================] - ETA: 0s - loss: 0.0872 - categorical_accuracy: 0.9789\n",
            "Epoch 00013: saving model to model_2_2022-01-1019_58_02.080014/model-00013-0.08717-0.97888-4.08180-0.32000.h5\n",
            "23/23 [==============================] - 39s 2s/step - loss: 0.0872 - categorical_accuracy: 0.9789 - val_loss: 4.0818 - val_categorical_accuracy: 0.3200 - lr: 4.0000e-05\n",
            "Epoch 14/30\n",
            "23/23 [==============================] - ETA: 0s - loss: 0.0816 - categorical_accuracy: 0.9819\n",
            "Epoch 00014: saving model to model_2_2022-01-1019_58_02.080014/model-00014-0.08163-0.98190-3.13215-0.41000.h5\n",
            "\n",
            "Epoch 00014: ReduceLROnPlateau reducing learning rate to 8.000000525498762e-06.\n",
            "23/23 [==============================] - 39s 2s/step - loss: 0.0816 - categorical_accuracy: 0.9819 - val_loss: 3.1322 - val_categorical_accuracy: 0.4100 - lr: 4.0000e-05\n",
            "Epoch 15/30\n",
            "23/23 [==============================] - ETA: 0s - loss: 0.0569 - categorical_accuracy: 0.9910\n",
            "Epoch 00015: saving model to model_2_2022-01-1019_58_02.080014/model-00015-0.05690-0.99095-3.28110-0.30000.h5\n",
            "23/23 [==============================] - 40s 2s/step - loss: 0.0569 - categorical_accuracy: 0.9910 - val_loss: 3.2811 - val_categorical_accuracy: 0.3000 - lr: 8.0000e-06\n",
            "Epoch 16/30\n",
            "23/23 [==============================] - ETA: 0s - loss: 0.0553 - categorical_accuracy: 0.9910\n",
            "Epoch 00016: saving model to model_2_2022-01-1019_58_02.080014/model-00016-0.05525-0.99095-2.95671-0.38000.h5\n",
            "23/23 [==============================] - 39s 2s/step - loss: 0.0553 - categorical_accuracy: 0.9910 - val_loss: 2.9567 - val_categorical_accuracy: 0.3800 - lr: 8.0000e-06\n",
            "Epoch 17/30\n",
            "23/23 [==============================] - ETA: 0s - loss: 0.0651 - categorical_accuracy: 0.9864\n",
            "Epoch 00017: saving model to model_2_2022-01-1019_58_02.080014/model-00017-0.06511-0.98643-2.47341-0.45000.h5\n",
            "23/23 [==============================] - 40s 2s/step - loss: 0.0651 - categorical_accuracy: 0.9864 - val_loss: 2.4734 - val_categorical_accuracy: 0.4500 - lr: 8.0000e-06\n",
            "Epoch 18/30\n",
            "23/23 [==============================] - ETA: 0s - loss: 0.0921 - categorical_accuracy: 0.9713\n",
            "Epoch 00018: saving model to model_2_2022-01-1019_58_02.080014/model-00018-0.09211-0.97134-2.24725-0.43000.h5\n",
            "23/23 [==============================] - 40s 2s/step - loss: 0.0921 - categorical_accuracy: 0.9713 - val_loss: 2.2473 - val_categorical_accuracy: 0.4300 - lr: 8.0000e-06\n",
            "Epoch 19/30\n",
            "23/23 [==============================] - ETA: 0s - loss: 0.0661 - categorical_accuracy: 0.9834\n",
            "Epoch 00019: saving model to model_2_2022-01-1019_58_02.080014/model-00019-0.06606-0.98341-1.63946-0.50000.h5\n",
            "23/23 [==============================] - 39s 2s/step - loss: 0.0661 - categorical_accuracy: 0.9834 - val_loss: 1.6395 - val_categorical_accuracy: 0.5000 - lr: 8.0000e-06\n",
            "Epoch 20/30\n",
            "23/23 [==============================] - ETA: 0s - loss: 0.0764 - categorical_accuracy: 0.9879\n",
            "Epoch 00020: saving model to model_2_2022-01-1019_58_02.080014/model-00020-0.07635-0.98793-1.60510-0.52000.h5\n",
            "23/23 [==============================] - 39s 2s/step - loss: 0.0764 - categorical_accuracy: 0.9879 - val_loss: 1.6051 - val_categorical_accuracy: 0.5200 - lr: 8.0000e-06\n",
            "Epoch 21/30\n",
            "23/23 [==============================] - ETA: 0s - loss: 0.0595 - categorical_accuracy: 0.9834\n",
            "Epoch 00021: saving model to model_2_2022-01-1019_58_02.080014/model-00021-0.05945-0.98341-1.46890-0.55000.h5\n",
            "23/23 [==============================] - 39s 2s/step - loss: 0.0595 - categorical_accuracy: 0.9834 - val_loss: 1.4689 - val_categorical_accuracy: 0.5500 - lr: 8.0000e-06\n",
            "Epoch 22/30\n",
            "23/23 [==============================] - ETA: 0s - loss: 0.0597 - categorical_accuracy: 0.9940\n",
            "Epoch 00022: saving model to model_2_2022-01-1019_58_02.080014/model-00022-0.05973-0.99397-1.34367-0.57000.h5\n",
            "23/23 [==============================] - 39s 2s/step - loss: 0.0597 - categorical_accuracy: 0.9940 - val_loss: 1.3437 - val_categorical_accuracy: 0.5700 - lr: 8.0000e-06\n",
            "Epoch 23/30\n",
            "23/23 [==============================] - ETA: 0s - loss: 0.0669 - categorical_accuracy: 0.9879\n",
            "Epoch 00023: saving model to model_2_2022-01-1019_58_02.080014/model-00023-0.06689-0.98793-0.92994-0.69000.h5\n",
            "23/23 [==============================] - 39s 2s/step - loss: 0.0669 - categorical_accuracy: 0.9879 - val_loss: 0.9299 - val_categorical_accuracy: 0.6900 - lr: 8.0000e-06\n",
            "Epoch 24/30\n",
            "23/23 [==============================] - ETA: 0s - loss: 0.0780 - categorical_accuracy: 0.9789\n",
            "Epoch 00024: saving model to model_2_2022-01-1019_58_02.080014/model-00024-0.07804-0.97888-0.97934-0.69000.h5\n",
            "23/23 [==============================] - 38s 2s/step - loss: 0.0780 - categorical_accuracy: 0.9789 - val_loss: 0.9793 - val_categorical_accuracy: 0.6900 - lr: 8.0000e-06\n",
            "Epoch 25/30\n",
            "23/23 [==============================] - ETA: 0s - loss: 0.0761 - categorical_accuracy: 0.9819\n",
            "Epoch 00025: saving model to model_2_2022-01-1019_58_02.080014/model-00025-0.07607-0.98190-0.91120-0.71000.h5\n",
            "23/23 [==============================] - 39s 2s/step - loss: 0.0761 - categorical_accuracy: 0.9819 - val_loss: 0.9112 - val_categorical_accuracy: 0.7100 - lr: 8.0000e-06\n",
            "Epoch 26/30\n",
            "23/23 [==============================] - ETA: 0s - loss: 0.0650 - categorical_accuracy: 0.9879\n",
            "Epoch 00026: saving model to model_2_2022-01-1019_58_02.080014/model-00026-0.06500-0.98793-0.79663-0.74000.h5\n",
            "23/23 [==============================] - 39s 2s/step - loss: 0.0650 - categorical_accuracy: 0.9879 - val_loss: 0.7966 - val_categorical_accuracy: 0.7400 - lr: 8.0000e-06\n",
            "Epoch 27/30\n",
            "23/23 [==============================] - ETA: 0s - loss: 0.0599 - categorical_accuracy: 0.9910\n",
            "Epoch 00027: saving model to model_2_2022-01-1019_58_02.080014/model-00027-0.05993-0.99095-0.82158-0.70000.h5\n",
            "23/23 [==============================] - 42s 2s/step - loss: 0.0599 - categorical_accuracy: 0.9910 - val_loss: 0.8216 - val_categorical_accuracy: 0.7000 - lr: 8.0000e-06\n",
            "Epoch 28/30\n",
            "23/23 [==============================] - ETA: 0s - loss: 0.0661 - categorical_accuracy: 0.9834\n",
            "Epoch 00028: saving model to model_2_2022-01-1019_58_02.080014/model-00028-0.06606-0.98341-0.74054-0.75000.h5\n",
            "23/23 [==============================] - 38s 2s/step - loss: 0.0661 - categorical_accuracy: 0.9834 - val_loss: 0.7405 - val_categorical_accuracy: 0.7500 - lr: 8.0000e-06\n",
            "Epoch 29/30\n",
            "23/23 [==============================] - ETA: 0s - loss: 0.0574 - categorical_accuracy: 0.9864\n",
            "Epoch 00029: saving model to model_2_2022-01-1019_58_02.080014/model-00029-0.05745-0.98643-0.69685-0.76000.h5\n",
            "23/23 [==============================] - 39s 2s/step - loss: 0.0574 - categorical_accuracy: 0.9864 - val_loss: 0.6968 - val_categorical_accuracy: 0.7600 - lr: 8.0000e-06\n",
            "Epoch 30/30\n",
            "23/23 [==============================] - ETA: 0s - loss: 0.0554 - categorical_accuracy: 0.9925\n",
            "Epoch 00030: saving model to model_2_2022-01-1019_58_02.080014/model-00030-0.05545-0.99246-0.76392-0.73000.h5\n",
            "23/23 [==============================] - 39s 2s/step - loss: 0.0554 - categorical_accuracy: 0.9925 - val_loss: 0.7639 - val_categorical_accuracy: 0.7300 - lr: 8.0000e-06\n"
          ]
        }
      ]
    },
    {
      "cell_type": "code",
      "source": [
        "# plotting the history for model_2\n",
        "accuracy_loss_plot(history_2, 'model_2')"
      ],
      "metadata": {
        "colab": {
          "base_uri": "https://localhost:8080/",
          "height": 294
        },
        "id": "ejiUtDwpXFnE",
        "outputId": "d5714d03-3b26-498a-f6f4-6d19224b2641"
      },
      "execution_count": 31,
      "outputs": [
        {
          "output_type": "display_data",
          "data": {
            "image/png": "[encoded data removed]",
            "text/plain": [
              "<Figure size 720x288 with 2 Axes>"
            ]
          },
          "metadata": {
            "needs_background": "light"
          }
        }
      ]
    },
    {
      "cell_type": "markdown",
      "source": [
        "### Model-3 : 3D convolution with 18 frames using an image size of 160x160 with a batch size of 64 run for 10 epochs for convolution layers of (64, 128, 256) and dense layers of (256, 512) using kernal initializer"
      ],
      "metadata": {
        "id": "Zy4hzuA6c1Nn"
      }
    },
    {
      "cell_type": "code",
      "source": [
        "n_frames = 18\n",
        "frame_size_x = 160\n",
        "frame_size_y = 160\n",
        "batch_size = 20\n",
        "n_epochs = 20"
      ],
      "metadata": {
        "id": "bG2Sii-QdcyN"
      },
      "execution_count": 32,
      "outputs": []
    },
    {
      "cell_type": "code",
      "source": [
        "# adding optimizer and summarizing the model-3\n",
        "model_3 = conv3D_model(conv_layers=(16,32,64), dense_layers=(128,256),\n",
        "                       dropout=0.5, n_frames=n_frames, \n",
        "                       frame_size_x=frame_size_x, frame_size_y=frame_size_y)\n",
        "optimiser = optimizers.SGD(lr=0.001, decay=1e-6, momentum=0.7, nesterov=True)\n",
        "model_3.compile(optimizer=optimiser, loss='categorical_crossentropy', metrics=['categorical_accuracy'])\n",
        "model_3.summary()"
      ],
      "metadata": {
        "colab": {
          "base_uri": "https://localhost:8080/"
        },
        "id": "iprgiSPyddT7",
        "outputId": "21fc22be-4ba9-47ad-f50a-018d4846825b"
      },
      "execution_count": 33,
      "outputs": [
        {
          "output_type": "stream",
          "name": "stdout",
          "text": [
            "Model: \"sequential_3\"\n",
            "_________________________________________________________________\n",
            " Layer (type)                Output Shape              Param #   \n",
            "=================================================================\n",
            " conv3d_9 (Conv3D)           (None, 18, 160, 160, 16)  1312      \n",
            "                                                                 \n",
            " activation_9 (Activation)   (None, 18, 160, 160, 16)  0         \n",
            "                                                                 \n",
            " batch_normalization_15 (Bat  (None, 18, 160, 160, 16)  64       \n",
            " chNormalization)                                                \n",
            "                                                                 \n",
            " max_pooling3d_9 (MaxPooling  (None, 9, 80, 80, 16)    0         \n",
            " 3D)                                                             \n",
            "                                                                 \n",
            " conv3d_10 (Conv3D)          (None, 9, 80, 80, 32)     4128      \n",
            "                                                                 \n",
            " activation_10 (Activation)  (None, 9, 80, 80, 32)     0         \n",
            "                                                                 \n",
            " batch_normalization_16 (Bat  (None, 9, 80, 80, 32)    128       \n",
            " chNormalization)                                                \n",
            "                                                                 \n",
            " max_pooling3d_10 (MaxPoolin  (None, 4, 40, 40, 32)    0         \n",
            " g3D)                                                            \n",
            "                                                                 \n",
            " conv3d_11 (Conv3D)          (None, 4, 40, 40, 64)     16448     \n",
            "                                                                 \n",
            " activation_11 (Activation)  (None, 4, 40, 40, 64)     0         \n",
            "                                                                 \n",
            " batch_normalization_17 (Bat  (None, 4, 40, 40, 64)    256       \n",
            " chNormalization)                                                \n",
            "                                                                 \n",
            " max_pooling3d_11 (MaxPoolin  (None, 2, 20, 20, 64)    0         \n",
            " g3D)                                                            \n",
            "                                                                 \n",
            " flatten_3 (Flatten)         (None, 51200)             0         \n",
            "                                                                 \n",
            " dense_9 (Dense)             (None, 256)               13107456  \n",
            "                                                                 \n",
            " batch_normalization_18 (Bat  (None, 256)              1024      \n",
            " chNormalization)                                                \n",
            "                                                                 \n",
            " dropout_6 (Dropout)         (None, 256)               0         \n",
            "                                                                 \n",
            " dense_10 (Dense)            (None, 128)               32896     \n",
            "                                                                 \n",
            " batch_normalization_19 (Bat  (None, 128)              512       \n",
            " chNormalization)                                                \n",
            "                                                                 \n",
            " dropout_7 (Dropout)         (None, 128)               0         \n",
            "                                                                 \n",
            " dense_11 (Dense)            (None, 5)                 645       \n",
            "                                                                 \n",
            "=================================================================\n",
            "Total params: 13,164,869\n",
            "Trainable params: 13,163,877\n",
            "Non-trainable params: 992\n",
            "_________________________________________________________________\n"
          ]
        },
        {
          "output_type": "stream",
          "name": "stderr",
          "text": [
            "/usr/local/lib/python3.7/dist-packages/keras/optimizer_v2/gradient_descent.py:102: UserWarning: The `lr` argument is deprecated, use `learning_rate` instead.\n",
            "  super(SGD, self).__init__(name, **kwargs)\n"
          ]
        }
      ]
    },
    {
      "cell_type": "code",
      "source": [
        "# fetching all the parameters for model-3 fitting\n",
        "train_generator = generator(train_path, train_doc, batch_size, n_frames, frame_size_x, frame_size_y)\n",
        "val_generator = generator(val_path, val_doc, batch_size, n_frames, frame_size_x, frame_size_y)\n",
        "model_3_path, callbacks_list = model_callbacks('model_3')\n",
        "epoch_steps, val_steps = n_steps(num_train_sequences, num_val_sequences, batch_size)"
      ],
      "metadata": {
        "colab": {
          "base_uri": "https://localhost:8080/"
        },
        "id": "6exLw-sPddpp",
        "outputId": "7f97d0ee-1998-44c3-e6c6-057d26e85c9a"
      },
      "execution_count": 34,
      "outputs": [
        {
          "output_type": "stream",
          "name": "stdout",
          "text": [
            "WARNING:tensorflow:`period` argument is deprecated. Please use `save_freq` to specify the frequency in number of batches seen.\n"
          ]
        }
      ]
    },
    {
      "cell_type": "code",
      "source": [
        "history_3 = model_3.fit_generator(train_generator, steps_per_epoch=epoch_steps,\n",
        "                                  epochs=n_epochs, callbacks=callbacks_list, \n",
        "                                  validation_data=val_generator, validation_steps=val_steps,\n",
        "                                  class_weight=None, workers=1, initial_epoch=0,\n",
        "                                  verbose=1)"
      ],
      "metadata": {
        "colab": {
          "base_uri": "https://localhost:8080/"
        },
        "id": "iQ8cpABYe9Cw",
        "outputId": "a30a8e8d-0050-42eb-f424-55654b2f5db6"
      },
      "execution_count": 35,
      "outputs": [
        {
          "output_type": "stream",
          "name": "stderr",
          "text": [
            "/usr/local/lib/python3.7/dist-packages/ipykernel_launcher.py:5: UserWarning: `Model.fit_generator` is deprecated and will be removed in a future version. Please use `Model.fit`, which supports generators.\n",
            "  \"\"\"\n"
          ]
        },
        {
          "output_type": "stream",
          "name": "stdout",
          "text": [
            "Source path =  /content/Gesture_assignment/Project_data/train \n",
            " batch size = 20 \n",
            " No. of images from each folder = 18 \n",
            " Normalized image size = 160 x 160\n",
            "Epoch 1/20\n",
            "34/34 [==============================] - ETA: 0s - loss: 1.8693 - categorical_accuracy: 0.3891Source path =  /content/Gesture_assignment/Project_data/val \n",
            " batch size = 20 \n",
            " No. of images from each folder = 18 \n",
            " Normalized image size = 160 x 160\n",
            "\n",
            "Epoch 00001: saving model to model_3_2022-01-1020_18_27.112764/model-00001-1.86928-0.38914-2.46021-0.19000.h5\n",
            "34/34 [==============================] - 64s 2s/step - loss: 1.8693 - categorical_accuracy: 0.3891 - val_loss: 2.4602 - val_categorical_accuracy: 0.1900 - lr: 0.0010\n",
            "Epoch 2/20\n",
            "34/34 [==============================] - ETA: 0s - loss: 1.3478 - categorical_accuracy: 0.5535\n",
            "Epoch 00002: saving model to model_3_2022-01-1020_18_27.112764/model-00002-1.34775-0.55354-2.81917-0.21000.h5\n",
            "34/34 [==============================] - 53s 2s/step - loss: 1.3478 - categorical_accuracy: 0.5535 - val_loss: 2.8192 - val_categorical_accuracy: 0.2100 - lr: 0.0010\n",
            "Epoch 3/20\n",
            "34/34 [==============================] - ETA: 0s - loss: 1.2368 - categorical_accuracy: 0.5626\n",
            "Epoch 00003: saving model to model_3_2022-01-1020_18_27.112764/model-00003-1.23678-0.56259-3.20444-0.19000.h5\n",
            "34/34 [==============================] - 55s 2s/step - loss: 1.2368 - categorical_accuracy: 0.5626 - val_loss: 3.2044 - val_categorical_accuracy: 0.1900 - lr: 0.0010\n",
            "Epoch 4/20\n",
            "34/34 [==============================] - ETA: 0s - loss: 1.0723 - categorical_accuracy: 0.6048\n",
            "Epoch 00004: saving model to model_3_2022-01-1020_18_27.112764/model-00004-1.07231-0.60483-3.21648-0.24000.h5\n",
            "34/34 [==============================] - 53s 2s/step - loss: 1.0723 - categorical_accuracy: 0.6048 - val_loss: 3.2165 - val_categorical_accuracy: 0.2400 - lr: 0.0010\n",
            "Epoch 5/20\n",
            "34/34 [==============================] - ETA: 0s - loss: 0.8846 - categorical_accuracy: 0.6727\n",
            "Epoch 00005: saving model to model_3_2022-01-1020_18_27.112764/model-00005-0.88460-0.67270-2.57625-0.34000.h5\n",
            "\n",
            "Epoch 00005: ReduceLROnPlateau reducing learning rate to 0.00020000000949949026.\n",
            "34/34 [==============================] - 55s 2s/step - loss: 0.8846 - categorical_accuracy: 0.6727 - val_loss: 2.5763 - val_categorical_accuracy: 0.3400 - lr: 0.0010\n",
            "Epoch 6/20\n",
            "34/34 [==============================] - ETA: 0s - loss: 0.8042 - categorical_accuracy: 0.6953\n",
            "Epoch 00006: saving model to model_3_2022-01-1020_18_27.112764/model-00006-0.80418-0.69532-2.11557-0.36000.h5\n",
            "34/34 [==============================] - 55s 2s/step - loss: 0.8042 - categorical_accuracy: 0.6953 - val_loss: 2.1156 - val_categorical_accuracy: 0.3600 - lr: 2.0000e-04\n",
            "Epoch 7/20\n",
            "34/34 [==============================] - ETA: 0s - loss: 0.8315 - categorical_accuracy: 0.6953\n",
            "Epoch 00007: saving model to model_3_2022-01-1020_18_27.112764/model-00007-0.83148-0.69532-2.09180-0.33000.h5\n",
            "34/34 [==============================] - 55s 2s/step - loss: 0.8315 - categorical_accuracy: 0.6953 - val_loss: 2.0918 - val_categorical_accuracy: 0.3300 - lr: 2.0000e-04\n",
            "Epoch 8/20\n",
            "34/34 [==============================] - ETA: 0s - loss: 0.7587 - categorical_accuracy: 0.7225\n",
            "Epoch 00008: saving model to model_3_2022-01-1020_18_27.112764/model-00008-0.75871-0.72247-1.61942-0.42000.h5\n",
            "34/34 [==============================] - 54s 2s/step - loss: 0.7587 - categorical_accuracy: 0.7225 - val_loss: 1.6194 - val_categorical_accuracy: 0.4200 - lr: 2.0000e-04\n",
            "Epoch 9/20\n",
            "34/34 [==============================] - ETA: 0s - loss: 0.7050 - categorical_accuracy: 0.7225\n",
            "Epoch 00009: saving model to model_3_2022-01-1020_18_27.112764/model-00009-0.70500-0.72247-1.70549-0.43000.h5\n",
            "34/34 [==============================] - 55s 2s/step - loss: 0.7050 - categorical_accuracy: 0.7225 - val_loss: 1.7055 - val_categorical_accuracy: 0.4300 - lr: 2.0000e-04\n",
            "Epoch 10/20\n",
            "34/34 [==============================] - ETA: 0s - loss: 0.6496 - categorical_accuracy: 0.7526\n",
            "Epoch 00010: saving model to model_3_2022-01-1020_18_27.112764/model-00010-0.64965-0.75264-1.62899-0.43000.h5\n",
            "34/34 [==============================] - 55s 2s/step - loss: 0.6496 - categorical_accuracy: 0.7526 - val_loss: 1.6290 - val_categorical_accuracy: 0.4300 - lr: 2.0000e-04\n",
            "Epoch 11/20\n",
            "34/34 [==============================] - ETA: 0s - loss: 0.6518 - categorical_accuracy: 0.7587\n",
            "Epoch 00011: saving model to model_3_2022-01-1020_18_27.112764/model-00011-0.65184-0.75867-1.43093-0.49000.h5\n",
            "34/34 [==============================] - 53s 2s/step - loss: 0.6518 - categorical_accuracy: 0.7587 - val_loss: 1.4309 - val_categorical_accuracy: 0.4900 - lr: 2.0000e-04\n",
            "Epoch 12/20\n",
            "34/34 [==============================] - ETA: 0s - loss: 0.6039 - categorical_accuracy: 0.7843\n",
            "Epoch 00012: saving model to model_3_2022-01-1020_18_27.112764/model-00012-0.60390-0.78431-1.25962-0.55000.h5\n",
            "34/34 [==============================] - 53s 2s/step - loss: 0.6039 - categorical_accuracy: 0.7843 - val_loss: 1.2596 - val_categorical_accuracy: 0.5500 - lr: 2.0000e-04\n",
            "Epoch 13/20\n",
            "34/34 [==============================] - ETA: 0s - loss: 0.6406 - categorical_accuracy: 0.7572\n",
            "Epoch 00013: saving model to model_3_2022-01-1020_18_27.112764/model-00013-0.64063-0.75716-1.12476-0.65000.h5\n",
            "34/34 [==============================] - 55s 2s/step - loss: 0.6406 - categorical_accuracy: 0.7572 - val_loss: 1.1248 - val_categorical_accuracy: 0.6500 - lr: 2.0000e-04\n",
            "Epoch 14/20\n",
            "34/34 [==============================] - ETA: 0s - loss: 0.5181 - categorical_accuracy: 0.8039\n",
            "Epoch 00014: saving model to model_3_2022-01-1020_18_27.112764/model-00014-0.51815-0.80392-0.89251-0.68000.h5\n",
            "34/34 [==============================] - 55s 2s/step - loss: 0.5181 - categorical_accuracy: 0.8039 - val_loss: 0.8925 - val_categorical_accuracy: 0.6800 - lr: 2.0000e-04\n",
            "Epoch 15/20\n",
            "34/34 [==============================] - ETA: 0s - loss: 0.6223 - categorical_accuracy: 0.7707\n",
            "Epoch 00015: saving model to model_3_2022-01-1020_18_27.112764/model-00015-0.62234-0.77074-0.82884-0.70000.h5\n",
            "34/34 [==============================] - 53s 2s/step - loss: 0.6223 - categorical_accuracy: 0.7707 - val_loss: 0.8288 - val_categorical_accuracy: 0.7000 - lr: 2.0000e-04\n",
            "Epoch 16/20\n",
            "34/34 [==============================] - ETA: 0s - loss: 0.5409 - categorical_accuracy: 0.7964\n",
            "Epoch 00016: saving model to model_3_2022-01-1020_18_27.112764/model-00016-0.54095-0.79638-0.78484-0.70000.h5\n",
            "34/34 [==============================] - 55s 2s/step - loss: 0.5409 - categorical_accuracy: 0.7964 - val_loss: 0.7848 - val_categorical_accuracy: 0.7000 - lr: 2.0000e-04\n",
            "Epoch 17/20\n",
            "34/34 [==============================] - ETA: 0s - loss: 0.5555 - categorical_accuracy: 0.8054\n",
            "Epoch 00017: saving model to model_3_2022-01-1020_18_27.112764/model-00017-0.55549-0.80543-0.81348-0.76000.h5\n",
            "34/34 [==============================] - 55s 2s/step - loss: 0.5555 - categorical_accuracy: 0.8054 - val_loss: 0.8135 - val_categorical_accuracy: 0.7600 - lr: 2.0000e-04\n",
            "Epoch 18/20\n",
            "34/34 [==============================] - ETA: 0s - loss: 0.5421 - categorical_accuracy: 0.8039\n",
            "Epoch 00018: saving model to model_3_2022-01-1020_18_27.112764/model-00018-0.54214-0.80392-0.69756-0.71000.h5\n",
            "34/34 [==============================] - 55s 2s/step - loss: 0.5421 - categorical_accuracy: 0.8039 - val_loss: 0.6976 - val_categorical_accuracy: 0.7100 - lr: 2.0000e-04\n",
            "Epoch 19/20\n",
            "34/34 [==============================] - ETA: 0s - loss: 0.5478 - categorical_accuracy: 0.7964\n",
            "Epoch 00019: saving model to model_3_2022-01-1020_18_27.112764/model-00019-0.54784-0.79638-0.65362-0.75000.h5\n",
            "34/34 [==============================] - 53s 2s/step - loss: 0.5478 - categorical_accuracy: 0.7964 - val_loss: 0.6536 - val_categorical_accuracy: 0.7500 - lr: 2.0000e-04\n",
            "Epoch 20/20\n",
            "34/34 [==============================] - ETA: 0s - loss: 0.5249 - categorical_accuracy: 0.8054\n",
            "Epoch 00020: saving model to model_3_2022-01-1020_18_27.112764/model-00020-0.52486-0.80543-0.79384-0.71000.h5\n",
            "34/34 [==============================] - 53s 2s/step - loss: 0.5249 - categorical_accuracy: 0.8054 - val_loss: 0.7938 - val_categorical_accuracy: 0.7100 - lr: 2.0000e-04\n"
          ]
        }
      ]
    },
    {
      "cell_type": "code",
      "source": [
        "# plotting the history for model_3\n",
        "accuracy_loss_plot(history_3, 'model_3')"
      ],
      "metadata": {
        "id": "AEes5YzafY1E",
        "colab": {
          "base_uri": "https://localhost:8080/",
          "height": 294
        },
        "outputId": "ee3535af-8bbc-4b16-fdaf-be1ab28823eb"
      },
      "execution_count": 36,
      "outputs": [
        {
          "output_type": "display_data",
          "data": {
            "image/png": "[encoded data removed]",
            "text/plain": [
              "<Figure size 720x288 with 2 Axes>"
            ]
          },
          "metadata": {
            "needs_background": "light"
          }
        }
      ]
    },
    {
      "cell_type": "markdown",
      "source": [
        "### Model-4 : TimeDistributed, GRU using RNN structures for Transfer Learning on VGG16 Imagenet. Image size is 120x120 for 16 frames execued over 30 epochs using a batch sie of 16"
      ],
      "metadata": {
        "id": "QsejMKOPmZn6"
      }
    },
    {
      "cell_type": "code",
      "source": [
        "n_frames = 16\n",
        "frame_size_x = 120\n",
        "frame_size_y = 120\n",
        "batch_size = 16\n",
        "n_epochs = 30"
      ],
      "metadata": {
        "id": "S3q9y0g-pfvx"
      },
      "execution_count": 37,
      "outputs": []
    },
    {
      "cell_type": "code",
      "source": [
        "# create a base transfer model and \n",
        "base_model = VGG16(include_top=False, weights='imagenet', input_shape=(frame_size_x,frame_size_y,3)) # base model\n",
        "conv_model = Model(inputs=base_model.input, outputs=Dense(64, activation='relu')(Flatten()(base_model.output))) # convolution output from base model\n",
        "for layer in base_model.layers:\n",
        "  layer.trainable = False\n",
        "\n",
        "# method to create TimeDistributed 2D conv model using GRU cells\n",
        "def gru_model(conv_layer, dense_layer, dropout, conv_model, n_frames, frame_size_x, frame_size_y):\n",
        "  model = Sequential()\n",
        "  model.add(TimeDistributed(conv_model, input_shape=(n_frames,frame_size_x,frame_size_y,3)))\n",
        "  model.add(GRU(conv_layer[0], return_sequences=True))\n",
        "  model.add(GRU(conv_layer[1]))\n",
        "  model.add(Dropout(dropout))\n",
        "  model.add(Dense(dense_layer, activation='relu'))\n",
        "  model.add(Dense(5, activation='softmax'))\n",
        "  return model\n",
        "\n",
        "# method to create TimeDistributed 2D conv model using LSTM cells\n",
        "def lstm_model(conv_layer, dense_layer, dropout, conv_model, n_frames, frame_size_x, frame_size_y):\n",
        "  model = Sequential()\n",
        "  model.add(TimeDistributed(conv_model, input_shape=(n_frames,frame_size_x,frame_size_y,3)))\n",
        "  model.add(LSTM(conv_layer[0], return_sequences=True))\n",
        "  model.add(LSTM(conv_layer[1]))\n",
        "  model.add(Dropout(dropout))\n",
        "  model.add(Dense(dense_layer, activation='relu'))\n",
        "  model.add(Dense(5, activation='softmax'))\n",
        "  return model"
      ],
      "metadata": {
        "id": "5yrjLmXqqQvC",
        "colab": {
          "base_uri": "https://localhost:8080/"
        },
        "outputId": "1c5ec4d6-bbe2-41fb-8dab-f7a09f377ab2"
      },
      "execution_count": 38,
      "outputs": [
        {
          "output_type": "stream",
          "name": "stdout",
          "text": [
            "Downloading data from https://storage.googleapis.com/tensorflow/keras-applications/vgg16/vgg16_weights_tf_dim_ordering_tf_kernels_notop.h5\n",
            "58892288/58889256 [==============================] - 1s 0us/step\n",
            "58900480/58889256 [==============================] - 1s 0us/step\n"
          ]
        }
      ]
    },
    {
      "cell_type": "code",
      "source": [
        "# adding optimizer and summarizing the model-4\n",
        "model_4 = gru_model(conv_layer=(32,16), dense_layer=8,\n",
        "                       dropout=0.5, conv_model=conv_model, n_frames=n_frames, \n",
        "                       frame_size_x=frame_size_x, frame_size_y=frame_size_y)\n",
        "optimiser = optimizers.Adam()\n",
        "model_4.compile(optimizer=optimiser, loss='categorical_crossentropy', metrics=['categorical_accuracy'])\n",
        "model_4.summary()"
      ],
      "metadata": {
        "id": "yUnMHbxRFjFt",
        "colab": {
          "base_uri": "https://localhost:8080/"
        },
        "outputId": "66f0b909-bd14-4447-8443-c60ed8af4c7c"
      },
      "execution_count": 39,
      "outputs": [
        {
          "output_type": "stream",
          "name": "stdout",
          "text": [
            "Model: \"sequential_4\"\n",
            "_________________________________________________________________\n",
            " Layer (type)                Output Shape              Param #   \n",
            "=================================================================\n",
            " time_distributed (TimeDistr  (None, 16, 64)           15009664  \n",
            " ibuted)                                                         \n",
            "                                                                 \n",
            " gru (GRU)                   (None, 16, 32)            9408      \n",
            "                                                                 \n",
            " gru_1 (GRU)                 (None, 16)                2400      \n",
            "                                                                 \n",
            " dropout_8 (Dropout)         (None, 16)                0         \n",
            "                                                                 \n",
            " dense_13 (Dense)            (None, 8)                 136       \n",
            "                                                                 \n",
            " dense_14 (Dense)            (None, 5)                 45        \n",
            "                                                                 \n",
            "=================================================================\n",
            "Total params: 15,021,653\n",
            "Trainable params: 306,965\n",
            "Non-trainable params: 14,714,688\n",
            "_________________________________________________________________\n"
          ]
        }
      ]
    },
    {
      "cell_type": "code",
      "source": [
        "# fetching all the parameters for model-4 fitting\n",
        "train_generator = generator(train_path, train_doc, batch_size, n_frames, frame_size_x, frame_size_y)\n",
        "val_generator = generator(val_path, val_doc, batch_size, n_frames, frame_size_x, frame_size_y)\n",
        "model_4_path, callbacks_list = model_callbacks('model_4')\n",
        "epoch_steps, val_steps = n_steps(num_train_sequences, num_val_sequences, batch_size)"
      ],
      "metadata": {
        "id": "VhX1SFuTG92L",
        "colab": {
          "base_uri": "https://localhost:8080/"
        },
        "outputId": "71f5e4c1-8e04-4633-b380-ea3705fef690"
      },
      "execution_count": 40,
      "outputs": [
        {
          "output_type": "stream",
          "name": "stdout",
          "text": [
            "WARNING:tensorflow:`period` argument is deprecated. Please use `save_freq` to specify the frequency in number of batches seen.\n"
          ]
        }
      ]
    },
    {
      "cell_type": "code",
      "source": [
        "history_4 = model_4.fit_generator(train_generator, steps_per_epoch=epoch_steps,\n",
        "                                  epochs=n_epochs, callbacks=callbacks_list, \n",
        "                                  validation_data=val_generator, validation_steps=val_steps,\n",
        "                                  class_weight=None, workers=1, initial_epoch=0,\n",
        "                                  verbose=1)"
      ],
      "metadata": {
        "id": "k5janvuMHBa3",
        "colab": {
          "base_uri": "https://localhost:8080/"
        },
        "outputId": "494c3b4c-80bc-4de1-994e-eb3ae2694339"
      },
      "execution_count": 41,
      "outputs": [
        {
          "output_type": "stream",
          "name": "stdout",
          "text": [
            "Source path =  /content/Gesture_assignment/Project_data/train \n",
            " batch size = 16 \n",
            " No. of images from each folder = 16 \n",
            " Normalized image size = 120 x 120\n"
          ]
        },
        {
          "output_type": "stream",
          "name": "stderr",
          "text": [
            "/usr/local/lib/python3.7/dist-packages/ipykernel_launcher.py:5: UserWarning: `Model.fit_generator` is deprecated and will be removed in a future version. Please use `Model.fit`, which supports generators.\n",
            "  \"\"\"\n"
          ]
        },
        {
          "output_type": "stream",
          "name": "stdout",
          "text": [
            "Epoch 1/30\n",
            "42/42 [==============================] - ETA: 0s - loss: 1.5976 - categorical_accuracy: 0.2232Source path =  /content/Gesture_assignment/Project_data/val \n",
            " batch size = 16 \n",
            " No. of images from each folder = 16 \n",
            " Normalized image size = 120 x 120\n",
            "\n",
            "Epoch 00001: saving model to model_4_2022-01-1020_36_41.679763/model-00001-1.59757-0.22323-1.54216-0.41000.h5\n",
            "42/42 [==============================] - 102s 2s/step - loss: 1.5976 - categorical_accuracy: 0.2232 - val_loss: 1.5422 - val_categorical_accuracy: 0.4100 - lr: 0.0010\n",
            "Epoch 2/30\n",
            "42/42 [==============================] - ETA: 0s - loss: 1.4891 - categorical_accuracy: 0.3258\n",
            "Epoch 00002: saving model to model_4_2022-01-1020_36_41.679763/model-00002-1.48908-0.32579-1.34921-0.51000.h5\n",
            "42/42 [==============================] - 44s 1s/step - loss: 1.4891 - categorical_accuracy: 0.3258 - val_loss: 1.3492 - val_categorical_accuracy: 0.5100 - lr: 0.0010\n",
            "Epoch 3/30\n",
            "42/42 [==============================] - ETA: 0s - loss: 1.3871 - categorical_accuracy: 0.3891\n",
            "Epoch 00003: saving model to model_4_2022-01-1020_36_41.679763/model-00003-1.38710-0.38914-1.29694-0.41000.h5\n",
            "42/42 [==============================] - 44s 1s/step - loss: 1.3871 - categorical_accuracy: 0.3891 - val_loss: 1.2969 - val_categorical_accuracy: 0.4100 - lr: 0.0010\n",
            "Epoch 4/30\n",
            "42/42 [==============================] - ETA: 0s - loss: 1.2109 - categorical_accuracy: 0.4947\n",
            "Epoch 00004: saving model to model_4_2022-01-1020_36_41.679763/model-00004-1.21091-0.49472-1.19433-0.54000.h5\n",
            "42/42 [==============================] - 44s 1s/step - loss: 1.2109 - categorical_accuracy: 0.4947 - val_loss: 1.1943 - val_categorical_accuracy: 0.5400 - lr: 0.0010\n",
            "Epoch 5/30\n",
            "42/42 [==============================] - ETA: 0s - loss: 1.0884 - categorical_accuracy: 0.5732\n",
            "Epoch 00005: saving model to model_4_2022-01-1020_36_41.679763/model-00005-1.08844-0.57315-1.16678-0.49000.h5\n",
            "42/42 [==============================] - 44s 1s/step - loss: 1.0884 - categorical_accuracy: 0.5732 - val_loss: 1.1668 - val_categorical_accuracy: 0.4900 - lr: 0.0010\n",
            "Epoch 6/30\n",
            "42/42 [==============================] - ETA: 0s - loss: 0.9601 - categorical_accuracy: 0.6305\n",
            "Epoch 00006: saving model to model_4_2022-01-1020_36_41.679763/model-00006-0.96013-0.63047-0.93977-0.61000.h5\n",
            "42/42 [==============================] - 44s 1s/step - loss: 0.9601 - categorical_accuracy: 0.6305 - val_loss: 0.9398 - val_categorical_accuracy: 0.6100 - lr: 0.0010\n",
            "Epoch 7/30\n",
            "42/42 [==============================] - ETA: 0s - loss: 0.9186 - categorical_accuracy: 0.6259\n",
            "Epoch 00007: saving model to model_4_2022-01-1020_36_41.679763/model-00007-0.91863-0.62594-0.96011-0.59000.h5\n",
            "42/42 [==============================] - 43s 1s/step - loss: 0.9186 - categorical_accuracy: 0.6259 - val_loss: 0.9601 - val_categorical_accuracy: 0.5900 - lr: 0.0010\n",
            "Epoch 8/30\n",
            "42/42 [==============================] - ETA: 0s - loss: 0.7801 - categorical_accuracy: 0.6772\n",
            "Epoch 00008: saving model to model_4_2022-01-1020_36_41.679763/model-00008-0.78011-0.67722-0.90701-0.61000.h5\n",
            "42/42 [==============================] - 44s 1s/step - loss: 0.7801 - categorical_accuracy: 0.6772 - val_loss: 0.9070 - val_categorical_accuracy: 0.6100 - lr: 0.0010\n",
            "Epoch 9/30\n",
            "42/42 [==============================] - ETA: 0s - loss: 0.6642 - categorical_accuracy: 0.7632\n",
            "Epoch 00009: saving model to model_4_2022-01-1020_36_41.679763/model-00009-0.66419-0.76320-0.86413-0.58000.h5\n",
            "42/42 [==============================] - 47s 1s/step - loss: 0.6642 - categorical_accuracy: 0.7632 - val_loss: 0.8641 - val_categorical_accuracy: 0.5800 - lr: 0.0010\n",
            "Epoch 10/30\n",
            "42/42 [==============================] - ETA: 0s - loss: 0.5742 - categorical_accuracy: 0.8039\n",
            "Epoch 00010: saving model to model_4_2022-01-1020_36_41.679763/model-00010-0.57416-0.80392-1.18915-0.52000.h5\n",
            "42/42 [==============================] - 44s 1s/step - loss: 0.5742 - categorical_accuracy: 0.8039 - val_loss: 1.1892 - val_categorical_accuracy: 0.5200 - lr: 0.0010\n",
            "Epoch 11/30\n",
            "42/42 [==============================] - ETA: 0s - loss: 0.5601 - categorical_accuracy: 0.8235\n",
            "Epoch 00011: saving model to model_4_2022-01-1020_36_41.679763/model-00011-0.56012-0.82353-0.79360-0.65000.h5\n",
            "42/42 [==============================] - 44s 1s/step - loss: 0.5601 - categorical_accuracy: 0.8235 - val_loss: 0.7936 - val_categorical_accuracy: 0.6500 - lr: 0.0010\n",
            "Epoch 12/30\n",
            "42/42 [==============================] - ETA: 0s - loss: 0.3849 - categorical_accuracy: 0.9125\n",
            "Epoch 00012: saving model to model_4_2022-01-1020_36_41.679763/model-00012-0.38495-0.91252-0.70154-0.75000.h5\n",
            "42/42 [==============================] - 44s 1s/step - loss: 0.3849 - categorical_accuracy: 0.9125 - val_loss: 0.7015 - val_categorical_accuracy: 0.7500 - lr: 0.0010\n",
            "Epoch 13/30\n",
            "42/42 [==============================] - ETA: 0s - loss: 0.3353 - categorical_accuracy: 0.9276\n",
            "Epoch 00013: saving model to model_4_2022-01-1020_36_41.679763/model-00013-0.33526-0.92760-0.79262-0.73000.h5\n",
            "42/42 [==============================] - 44s 1s/step - loss: 0.3353 - categorical_accuracy: 0.9276 - val_loss: 0.7926 - val_categorical_accuracy: 0.7300 - lr: 0.0010\n",
            "Epoch 14/30\n",
            "42/42 [==============================] - ETA: 0s - loss: 0.2789 - categorical_accuracy: 0.9382\n",
            "Epoch 00014: saving model to model_4_2022-01-1020_36_41.679763/model-00014-0.27893-0.93816-0.58814-0.79000.h5\n",
            "42/42 [==============================] - 43s 1s/step - loss: 0.2789 - categorical_accuracy: 0.9382 - val_loss: 0.5881 - val_categorical_accuracy: 0.7900 - lr: 0.0010\n",
            "Epoch 15/30\n",
            "42/42 [==============================] - ETA: 0s - loss: 0.2231 - categorical_accuracy: 0.9698\n",
            "Epoch 00015: saving model to model_4_2022-01-1020_36_41.679763/model-00015-0.22309-0.96983-0.99916-0.73000.h5\n",
            "42/42 [==============================] - 44s 1s/step - loss: 0.2231 - categorical_accuracy: 0.9698 - val_loss: 0.9992 - val_categorical_accuracy: 0.7300 - lr: 0.0010\n",
            "Epoch 16/30\n",
            "42/42 [==============================] - ETA: 0s - loss: 0.2298 - categorical_accuracy: 0.9668\n",
            "Epoch 00016: saving model to model_4_2022-01-1020_36_41.679763/model-00016-0.22982-0.96682-1.13487-0.72000.h5\n",
            "42/42 [==============================] - 44s 1s/step - loss: 0.2298 - categorical_accuracy: 0.9668 - val_loss: 1.1349 - val_categorical_accuracy: 0.7200 - lr: 0.0010\n",
            "Epoch 17/30\n",
            "42/42 [==============================] - ETA: 0s - loss: 0.1995 - categorical_accuracy: 0.9517\n",
            "Epoch 00017: saving model to model_4_2022-01-1020_36_41.679763/model-00017-0.19951-0.95173-0.98413-0.74000.h5\n",
            "42/42 [==============================] - 44s 1s/step - loss: 0.1995 - categorical_accuracy: 0.9517 - val_loss: 0.9841 - val_categorical_accuracy: 0.7400 - lr: 0.0010\n",
            "Epoch 18/30\n",
            "42/42 [==============================] - ETA: 0s - loss: 0.1400 - categorical_accuracy: 0.9804\n",
            "Epoch 00018: saving model to model_4_2022-01-1020_36_41.679763/model-00018-0.13996-0.98039-0.90224-0.78000.h5\n",
            "\n",
            "Epoch 00018: ReduceLROnPlateau reducing learning rate to 0.00020000000949949026.\n",
            "42/42 [==============================] - 44s 1s/step - loss: 0.1400 - categorical_accuracy: 0.9804 - val_loss: 0.9022 - val_categorical_accuracy: 0.7800 - lr: 0.0010\n",
            "Epoch 19/30\n",
            "42/42 [==============================] - ETA: 0s - loss: 0.1161 - categorical_accuracy: 0.9804\n",
            "Epoch 00019: saving model to model_4_2022-01-1020_36_41.679763/model-00019-0.11607-0.98039-1.01555-0.75000.h5\n",
            "42/42 [==============================] - 44s 1s/step - loss: 0.1161 - categorical_accuracy: 0.9804 - val_loss: 1.0156 - val_categorical_accuracy: 0.7500 - lr: 2.0000e-04\n",
            "Epoch 20/30\n",
            "42/42 [==============================] - ETA: 0s - loss: 0.1081 - categorical_accuracy: 0.9849\n",
            "Epoch 00020: saving model to model_4_2022-01-1020_36_41.679763/model-00020-0.10808-0.98492-0.88650-0.75000.h5\n",
            "42/42 [==============================] - 44s 1s/step - loss: 0.1081 - categorical_accuracy: 0.9849 - val_loss: 0.8865 - val_categorical_accuracy: 0.7500 - lr: 2.0000e-04\n",
            "Epoch 21/30\n",
            "42/42 [==============================] - ETA: 0s - loss: 0.0957 - categorical_accuracy: 0.9894\n",
            "Epoch 00021: saving model to model_4_2022-01-1020_36_41.679763/model-00021-0.09568-0.98944-0.86463-0.75000.h5\n",
            "42/42 [==============================] - 43s 1s/step - loss: 0.0957 - categorical_accuracy: 0.9894 - val_loss: 0.8646 - val_categorical_accuracy: 0.7500 - lr: 2.0000e-04\n",
            "Epoch 22/30\n",
            "42/42 [==============================] - ETA: 0s - loss: 0.1068 - categorical_accuracy: 0.9894\n",
            "Epoch 00022: saving model to model_4_2022-01-1020_36_41.679763/model-00022-0.10680-0.98944-0.92508-0.76000.h5\n",
            "\n",
            "Epoch 00022: ReduceLROnPlateau reducing learning rate to 4.0000001899898055e-05.\n",
            "42/42 [==============================] - 44s 1s/step - loss: 0.1068 - categorical_accuracy: 0.9894 - val_loss: 0.9251 - val_categorical_accuracy: 0.7600 - lr: 2.0000e-04\n",
            "Epoch 23/30\n",
            "42/42 [==============================] - ETA: 0s - loss: 0.0935 - categorical_accuracy: 0.9910\n",
            "Epoch 00023: saving model to model_4_2022-01-1020_36_41.679763/model-00023-0.09354-0.99095-0.77296-0.79000.h5\n",
            "42/42 [==============================] - 45s 1s/step - loss: 0.0935 - categorical_accuracy: 0.9910 - val_loss: 0.7730 - val_categorical_accuracy: 0.7900 - lr: 4.0000e-05\n",
            "Epoch 24/30\n",
            "42/42 [==============================] - ETA: 0s - loss: 0.0928 - categorical_accuracy: 0.9879\n",
            "Epoch 00024: saving model to model_4_2022-01-1020_36_41.679763/model-00024-0.09283-0.98793-0.93083-0.74000.h5\n",
            "42/42 [==============================] - 44s 1s/step - loss: 0.0928 - categorical_accuracy: 0.9879 - val_loss: 0.9308 - val_categorical_accuracy: 0.7400 - lr: 4.0000e-05\n",
            "Epoch 25/30\n",
            "42/42 [==============================] - ETA: 0s - loss: 0.0993 - categorical_accuracy: 0.9894\n",
            "Epoch 00025: saving model to model_4_2022-01-1020_36_41.679763/model-00025-0.09929-0.98944-0.80376-0.80000.h5\n",
            "42/42 [==============================] - 43s 1s/step - loss: 0.0993 - categorical_accuracy: 0.9894 - val_loss: 0.8038 - val_categorical_accuracy: 0.8000 - lr: 4.0000e-05\n",
            "Epoch 26/30\n",
            "42/42 [==============================] - ETA: 0s - loss: 0.1017 - categorical_accuracy: 0.9834\n",
            "Epoch 00026: saving model to model_4_2022-01-1020_36_41.679763/model-00026-0.10167-0.98341-0.98961-0.74000.h5\n",
            "\n",
            "Epoch 00026: ReduceLROnPlateau reducing learning rate to 8.000000525498762e-06.\n",
            "42/42 [==============================] - 44s 1s/step - loss: 0.1017 - categorical_accuracy: 0.9834 - val_loss: 0.9896 - val_categorical_accuracy: 0.7400 - lr: 4.0000e-05\n",
            "Epoch 27/30\n",
            "42/42 [==============================] - ETA: 0s - loss: 0.0877 - categorical_accuracy: 0.9879\n",
            "Epoch 00027: saving model to model_4_2022-01-1020_36_41.679763/model-00027-0.08768-0.98793-0.94065-0.76000.h5\n",
            "42/42 [==============================] - 43s 1s/step - loss: 0.0877 - categorical_accuracy: 0.9879 - val_loss: 0.9406 - val_categorical_accuracy: 0.7600 - lr: 8.0000e-06\n",
            "Epoch 28/30\n",
            "42/42 [==============================] - ETA: 0s - loss: 0.0986 - categorical_accuracy: 0.9894\n",
            "Epoch 00028: saving model to model_4_2022-01-1020_36_41.679763/model-00028-0.09864-0.98944-0.96111-0.76000.h5\n",
            "42/42 [==============================] - 43s 1s/step - loss: 0.0986 - categorical_accuracy: 0.9894 - val_loss: 0.9611 - val_categorical_accuracy: 0.7600 - lr: 8.0000e-06\n",
            "Epoch 29/30\n",
            "42/42 [==============================] - ETA: 0s - loss: 0.0980 - categorical_accuracy: 0.9910\n",
            "Epoch 00029: saving model to model_4_2022-01-1020_36_41.679763/model-00029-0.09796-0.99095-0.92261-0.76000.h5\n",
            "42/42 [==============================] - 44s 1s/step - loss: 0.0980 - categorical_accuracy: 0.9910 - val_loss: 0.9226 - val_categorical_accuracy: 0.7600 - lr: 8.0000e-06\n",
            "Epoch 30/30\n",
            "42/42 [==============================] - ETA: 0s - loss: 0.0904 - categorical_accuracy: 0.9925\n",
            "Epoch 00030: saving model to model_4_2022-01-1020_36_41.679763/model-00030-0.09037-0.99246-0.98716-0.75000.h5\n",
            "\n",
            "Epoch 00030: ReduceLROnPlateau reducing learning rate to 1.6000001778593287e-06.\n",
            "42/42 [==============================] - 44s 1s/step - loss: 0.0904 - categorical_accuracy: 0.9925 - val_loss: 0.9872 - val_categorical_accuracy: 0.7500 - lr: 8.0000e-06\n"
          ]
        }
      ]
    },
    {
      "cell_type": "code",
      "source": [
        "# plotting the history for model_4\n",
        "accuracy_loss_plot(history_4, 'model_4')"
      ],
      "metadata": {
        "id": "PoX2H34tHZWe",
        "colab": {
          "base_uri": "https://localhost:8080/",
          "height": 294
        },
        "outputId": "1addae3f-27bb-4fc1-e380-3122b2407fef"
      },
      "execution_count": 42,
      "outputs": [
        {
          "output_type": "display_data",
          "data": {
            "image/png": "[encoded data removed]",
            "text/plain": [
              "<Figure size 720x288 with 2 Axes>"
            ]
          },
          "metadata": {
            "needs_background": "light"
          }
        }
      ]
    },
    {
      "cell_type": "markdown",
      "source": [
        "### Model-5 : TimeDistributed, LSTM using RNN structures for Transfer Learning on VGG16 Imagenet. Image size is 120x120 for 16 frames execued over 30 epochs using a batch sie of 16"
      ],
      "metadata": {
        "id": "yhqWsYe8HmBI"
      }
    },
    {
      "cell_type": "code",
      "source": [
        "n_frames = 16\n",
        "frame_size_x = 120\n",
        "frame_size_y = 120\n",
        "batch_size = 16\n",
        "n_epochs = 30"
      ],
      "metadata": {
        "id": "Nv0Nt6h_fHEg"
      },
      "execution_count": 43,
      "outputs": []
    },
    {
      "cell_type": "code",
      "source": [
        "# adding optimizer and summarizing the model-5\n",
        "model_5 = lstm_model(conv_layer=(32,16), dense_layer=8,\n",
        "                       dropout=0.5, conv_model=conv_model, n_frames=n_frames, \n",
        "                       frame_size_x=frame_size_x, frame_size_y=frame_size_y)\n",
        "optimiser = optimizers.Adam()\n",
        "model_5.compile(optimizer=optimiser, loss='categorical_crossentropy', metrics=['categorical_accuracy'])\n",
        "model_5.summary()"
      ],
      "metadata": {
        "id": "sHV-F91OHqrC",
        "colab": {
          "base_uri": "https://localhost:8080/"
        },
        "outputId": "d12934d0-44c7-4012-fbc8-5c355118010e"
      },
      "execution_count": 44,
      "outputs": [
        {
          "output_type": "stream",
          "name": "stdout",
          "text": [
            "Model: \"sequential_5\"\n",
            "_________________________________________________________________\n",
            " Layer (type)                Output Shape              Param #   \n",
            "=================================================================\n",
            " time_distributed_1 (TimeDis  (None, 16, 64)           15009664  \n",
            " tributed)                                                       \n",
            "                                                                 \n",
            " lstm (LSTM)                 (None, 16, 32)            12416     \n",
            "                                                                 \n",
            " lstm_1 (LSTM)               (None, 16)                3136      \n",
            "                                                                 \n",
            " dropout_9 (Dropout)         (None, 16)                0         \n",
            "                                                                 \n",
            " dense_15 (Dense)            (None, 8)                 136       \n",
            "                                                                 \n",
            " dense_16 (Dense)            (None, 5)                 45        \n",
            "                                                                 \n",
            "=================================================================\n",
            "Total params: 15,025,397\n",
            "Trainable params: 310,709\n",
            "Non-trainable params: 14,714,688\n",
            "_________________________________________________________________\n"
          ]
        }
      ]
    },
    {
      "cell_type": "code",
      "source": [
        "# fetching all the parameters for model-5 fitting\n",
        "train_generator = generator(train_path, train_doc, batch_size, n_frames, frame_size_x, frame_size_y)\n",
        "val_generator = generator(val_path, val_doc, batch_size, n_frames, frame_size_x, frame_size_y)\n",
        "model_5_path, callbacks_list = model_callbacks('model_5')\n",
        "epoch_steps, val_steps = n_steps(num_train_sequences, num_val_sequences, batch_size)"
      ],
      "metadata": {
        "id": "r_yjvKWBHrMn",
        "colab": {
          "base_uri": "https://localhost:8080/"
        },
        "outputId": "7cdd63c8-b632-44ca-e204-79a4df44b0cc"
      },
      "execution_count": 45,
      "outputs": [
        {
          "output_type": "stream",
          "name": "stdout",
          "text": [
            "WARNING:tensorflow:`period` argument is deprecated. Please use `save_freq` to specify the frequency in number of batches seen.\n"
          ]
        }
      ]
    },
    {
      "cell_type": "code",
      "source": [
        "history_5 = model_5.fit_generator(train_generator, steps_per_epoch=epoch_steps,\n",
        "                                  epochs=n_epochs, callbacks=callbacks_list, \n",
        "                                  validation_data=val_generator, validation_steps=val_steps,\n",
        "                                  class_weight=None, workers=1, initial_epoch=0,\n",
        "                                  verbose=1)"
      ],
      "metadata": {
        "id": "bS3QLdP7Hrmn",
        "colab": {
          "base_uri": "https://localhost:8080/"
        },
        "outputId": "1c4cc412-7e7d-4720-8dec-45aad7a1e97c"
      },
      "execution_count": 46,
      "outputs": [
        {
          "output_type": "stream",
          "name": "stdout",
          "text": [
            "Source path =  /content/Gesture_assignment/Project_data/train \n",
            " batch size = 16 \n",
            " No. of images from each folder = 16 \n",
            " Normalized image size = 120 x 120\n"
          ]
        },
        {
          "output_type": "stream",
          "name": "stderr",
          "text": [
            "/usr/local/lib/python3.7/dist-packages/ipykernel_launcher.py:5: UserWarning: `Model.fit_generator` is deprecated and will be removed in a future version. Please use `Model.fit`, which supports generators.\n",
            "  \"\"\"\n"
          ]
        },
        {
          "output_type": "stream",
          "name": "stdout",
          "text": [
            "Epoch 1/30\n",
            "42/42 [==============================] - ETA: 0s - loss: 1.3508 - categorical_accuracy: 0.4796Source path =  /content/Gesture_assignment/Project_data/val \n",
            " batch size = 16 \n",
            " No. of images from each folder = 16 \n",
            " Normalized image size = 120 x 120\n",
            "\n",
            "Epoch 00001: saving model to model_5_2022-01-1020_59_39.175287/model-00001-1.35078-0.47964-1.16978-0.69000.h5\n",
            "42/42 [==============================] - 50s 1s/step - loss: 1.3508 - categorical_accuracy: 0.4796 - val_loss: 1.1698 - val_categorical_accuracy: 0.6900 - lr: 0.0010\n",
            "Epoch 2/30\n",
            "42/42 [==============================] - ETA: 0s - loss: 0.9296 - categorical_accuracy: 0.7285\n",
            "Epoch 00002: saving model to model_5_2022-01-1020_59_39.175287/model-00002-0.92962-0.72851-1.02363-0.70000.h5\n",
            "42/42 [==============================] - 44s 1s/step - loss: 0.9296 - categorical_accuracy: 0.7285 - val_loss: 1.0236 - val_categorical_accuracy: 0.7000 - lr: 0.0010\n",
            "Epoch 3/30\n",
            "42/42 [==============================] - ETA: 0s - loss: 0.6749 - categorical_accuracy: 0.8386\n",
            "Epoch 00003: saving model to model_5_2022-01-1020_59_39.175287/model-00003-0.67490-0.83861-0.82693-0.69000.h5\n",
            "42/42 [==============================] - 44s 1s/step - loss: 0.6749 - categorical_accuracy: 0.8386 - val_loss: 0.8269 - val_categorical_accuracy: 0.6900 - lr: 0.0010\n",
            "Epoch 4/30\n",
            "42/42 [==============================] - ETA: 0s - loss: 0.4526 - categorical_accuracy: 0.9155\n",
            "Epoch 00004: saving model to model_5_2022-01-1020_59_39.175287/model-00004-0.45257-0.91554-1.02288-0.66000.h5\n",
            "42/42 [==============================] - 44s 1s/step - loss: 0.4526 - categorical_accuracy: 0.9155 - val_loss: 1.0229 - val_categorical_accuracy: 0.6600 - lr: 0.0010\n",
            "Epoch 5/30\n",
            "42/42 [==============================] - ETA: 0s - loss: 0.3675 - categorical_accuracy: 0.9170\n",
            "Epoch 00005: saving model to model_5_2022-01-1020_59_39.175287/model-00005-0.36754-0.91704-0.70462-0.80000.h5\n",
            "42/42 [==============================] - 44s 1s/step - loss: 0.3675 - categorical_accuracy: 0.9170 - val_loss: 0.7046 - val_categorical_accuracy: 0.8000 - lr: 0.0010\n",
            "Epoch 6/30\n",
            "42/42 [==============================] - ETA: 0s - loss: 0.3215 - categorical_accuracy: 0.9336\n",
            "Epoch 00006: saving model to model_5_2022-01-1020_59_39.175287/model-00006-0.32146-0.93363-0.92702-0.75000.h5\n",
            "42/42 [==============================] - 44s 1s/step - loss: 0.3215 - categorical_accuracy: 0.9336 - val_loss: 0.9270 - val_categorical_accuracy: 0.7500 - lr: 0.0010\n",
            "Epoch 7/30\n",
            "42/42 [==============================] - ETA: 0s - loss: 0.2653 - categorical_accuracy: 0.9578\n",
            "Epoch 00007: saving model to model_5_2022-01-1020_59_39.175287/model-00007-0.26531-0.95777-1.15288-0.74000.h5\n",
            "42/42 [==============================] - 43s 1s/step - loss: 0.2653 - categorical_accuracy: 0.9578 - val_loss: 1.1529 - val_categorical_accuracy: 0.7400 - lr: 0.0010\n",
            "Epoch 8/30\n",
            "42/42 [==============================] - ETA: 0s - loss: 0.2171 - categorical_accuracy: 0.9563\n",
            "Epoch 00008: saving model to model_5_2022-01-1020_59_39.175287/model-00008-0.21708-0.95626-0.93648-0.73000.h5\n",
            "42/42 [==============================] - 44s 1s/step - loss: 0.2171 - categorical_accuracy: 0.9563 - val_loss: 0.9365 - val_categorical_accuracy: 0.7300 - lr: 0.0010\n",
            "Epoch 9/30\n",
            "42/42 [==============================] - ETA: 0s - loss: 0.2784 - categorical_accuracy: 0.9186\n",
            "Epoch 00009: saving model to model_5_2022-01-1020_59_39.175287/model-00009-0.27841-0.91855-0.91589-0.73000.h5\n",
            "\n",
            "Epoch 00009: ReduceLROnPlateau reducing learning rate to 0.00020000000949949026.\n",
            "42/42 [==============================] - 44s 1s/step - loss: 0.2784 - categorical_accuracy: 0.9186 - val_loss: 0.9159 - val_categorical_accuracy: 0.7300 - lr: 0.0010\n",
            "Epoch 10/30\n",
            "42/42 [==============================] - ETA: 0s - loss: 0.1860 - categorical_accuracy: 0.9683\n",
            "Epoch 00010: saving model to model_5_2022-01-1020_59_39.175287/model-00010-0.18599-0.96833-1.11708-0.72000.h5\n",
            "42/42 [==============================] - 44s 1s/step - loss: 0.1860 - categorical_accuracy: 0.9683 - val_loss: 1.1171 - val_categorical_accuracy: 0.7200 - lr: 2.0000e-04\n",
            "Epoch 11/30\n",
            "42/42 [==============================] - ETA: 0s - loss: 0.1358 - categorical_accuracy: 0.9834\n",
            "Epoch 00011: saving model to model_5_2022-01-1020_59_39.175287/model-00011-0.13583-0.98341-0.72314-0.77000.h5\n",
            "42/42 [==============================] - 44s 1s/step - loss: 0.1358 - categorical_accuracy: 0.9834 - val_loss: 0.7231 - val_categorical_accuracy: 0.7700 - lr: 2.0000e-04\n",
            "Epoch 12/30\n",
            "42/42 [==============================] - ETA: 0s - loss: 0.1431 - categorical_accuracy: 0.9759\n",
            "Epoch 00012: saving model to model_5_2022-01-1020_59_39.175287/model-00012-0.14306-0.97587-0.89776-0.74000.h5\n",
            "42/42 [==============================] - 44s 1s/step - loss: 0.1431 - categorical_accuracy: 0.9759 - val_loss: 0.8978 - val_categorical_accuracy: 0.7400 - lr: 2.0000e-04\n",
            "Epoch 13/30\n",
            "42/42 [==============================] - ETA: 0s - loss: 0.1349 - categorical_accuracy: 0.9804\n",
            "Epoch 00013: saving model to model_5_2022-01-1020_59_39.175287/model-00013-0.13491-0.98039-0.86608-0.76000.h5\n",
            "\n",
            "Epoch 00013: ReduceLROnPlateau reducing learning rate to 4.0000001899898055e-05.\n",
            "42/42 [==============================] - 44s 1s/step - loss: 0.1349 - categorical_accuracy: 0.9804 - val_loss: 0.8661 - val_categorical_accuracy: 0.7600 - lr: 2.0000e-04\n",
            "Epoch 14/30\n",
            "42/42 [==============================] - ETA: 0s - loss: 0.1375 - categorical_accuracy: 0.9879\n",
            "Epoch 00014: saving model to model_5_2022-01-1020_59_39.175287/model-00014-0.13747-0.98793-0.91239-0.75000.h5\n",
            "42/42 [==============================] - 44s 1s/step - loss: 0.1375 - categorical_accuracy: 0.9879 - val_loss: 0.9124 - val_categorical_accuracy: 0.7500 - lr: 4.0000e-05\n",
            "Epoch 15/30\n",
            "42/42 [==============================] - ETA: 0s - loss: 0.1176 - categorical_accuracy: 0.9894\n",
            "Epoch 00015: saving model to model_5_2022-01-1020_59_39.175287/model-00015-0.11765-0.98944-0.93388-0.73000.h5\n",
            "42/42 [==============================] - 45s 1s/step - loss: 0.1176 - categorical_accuracy: 0.9894 - val_loss: 0.9339 - val_categorical_accuracy: 0.7300 - lr: 4.0000e-05\n",
            "Epoch 16/30\n",
            "42/42 [==============================] - ETA: 0s - loss: 0.1217 - categorical_accuracy: 0.9864\n",
            "Epoch 00016: saving model to model_5_2022-01-1020_59_39.175287/model-00016-0.12172-0.98643-0.85573-0.75000.h5\n",
            "42/42 [==============================] - 45s 1s/step - loss: 0.1217 - categorical_accuracy: 0.9864 - val_loss: 0.8557 - val_categorical_accuracy: 0.7500 - lr: 4.0000e-05\n",
            "Epoch 17/30\n",
            "42/42 [==============================] - ETA: 0s - loss: 0.1153 - categorical_accuracy: 0.9894\n",
            "Epoch 00017: saving model to model_5_2022-01-1020_59_39.175287/model-00017-0.11532-0.98944-0.87217-0.77000.h5\n",
            "\n",
            "Epoch 00017: ReduceLROnPlateau reducing learning rate to 8.000000525498762e-06.\n",
            "42/42 [==============================] - 44s 1s/step - loss: 0.1153 - categorical_accuracy: 0.9894 - val_loss: 0.8722 - val_categorical_accuracy: 0.7700 - lr: 4.0000e-05\n",
            "Epoch 18/30\n",
            "42/42 [==============================] - ETA: 0s - loss: 0.1234 - categorical_accuracy: 0.9819\n",
            "Epoch 00018: saving model to model_5_2022-01-1020_59_39.175287/model-00018-0.12339-0.98190-1.08088-0.71000.h5\n",
            "42/42 [==============================] - 44s 1s/step - loss: 0.1234 - categorical_accuracy: 0.9819 - val_loss: 1.0809 - val_categorical_accuracy: 0.7100 - lr: 8.0000e-06\n",
            "Epoch 19/30\n",
            "42/42 [==============================] - ETA: 0s - loss: 0.1218 - categorical_accuracy: 0.9879\n",
            "Epoch 00019: saving model to model_5_2022-01-1020_59_39.175287/model-00019-0.12177-0.98793-1.04297-0.73000.h5\n",
            "42/42 [==============================] - 44s 1s/step - loss: 0.1218 - categorical_accuracy: 0.9879 - val_loss: 1.0430 - val_categorical_accuracy: 0.7300 - lr: 8.0000e-06\n",
            "Epoch 20/30\n",
            "42/42 [==============================] - ETA: 0s - loss: 0.1221 - categorical_accuracy: 0.9864\n",
            "Epoch 00020: saving model to model_5_2022-01-1020_59_39.175287/model-00020-0.12209-0.98643-0.77247-0.77000.h5\n",
            "42/42 [==============================] - 44s 1s/step - loss: 0.1221 - categorical_accuracy: 0.9864 - val_loss: 0.7725 - val_categorical_accuracy: 0.7700 - lr: 8.0000e-06\n",
            "Epoch 21/30\n",
            "42/42 [==============================] - ETA: 0s - loss: 0.1037 - categorical_accuracy: 0.9849\n",
            "Epoch 00021: saving model to model_5_2022-01-1020_59_39.175287/model-00021-0.10366-0.98492-0.96512-0.74000.h5\n",
            "\n",
            "Epoch 00021: ReduceLROnPlateau reducing learning rate to 1.6000001778593287e-06.\n",
            "42/42 [==============================] - 43s 1s/step - loss: 0.1037 - categorical_accuracy: 0.9849 - val_loss: 0.9651 - val_categorical_accuracy: 0.7400 - lr: 8.0000e-06\n",
            "Epoch 22/30\n",
            "42/42 [==============================] - ETA: 0s - loss: 0.1149 - categorical_accuracy: 0.9894\n",
            "Epoch 00022: saving model to model_5_2022-01-1020_59_39.175287/model-00022-0.11486-0.98944-0.91924-0.75000.h5\n",
            "42/42 [==============================] - 44s 1s/step - loss: 0.1149 - categorical_accuracy: 0.9894 - val_loss: 0.9192 - val_categorical_accuracy: 0.7500 - lr: 1.6000e-06\n",
            "Epoch 23/30\n",
            "42/42 [==============================] - ETA: 0s - loss: 0.1097 - categorical_accuracy: 0.9910\n",
            "Epoch 00023: saving model to model_5_2022-01-1020_59_39.175287/model-00023-0.10973-0.99095-0.86841-0.76000.h5\n",
            "42/42 [==============================] - 44s 1s/step - loss: 0.1097 - categorical_accuracy: 0.9910 - val_loss: 0.8684 - val_categorical_accuracy: 0.7600 - lr: 1.6000e-06\n",
            "Epoch 24/30\n",
            "42/42 [==============================] - ETA: 0s - loss: 0.1265 - categorical_accuracy: 0.9925\n",
            "Epoch 00024: saving model to model_5_2022-01-1020_59_39.175287/model-00024-0.12653-0.99246-1.10422-0.70000.h5\n",
            "42/42 [==============================] - 45s 1s/step - loss: 0.1265 - categorical_accuracy: 0.9925 - val_loss: 1.1042 - val_categorical_accuracy: 0.7000 - lr: 1.6000e-06\n",
            "Epoch 25/30\n",
            "42/42 [==============================] - ETA: 0s - loss: 0.1372 - categorical_accuracy: 0.9834\n",
            "Epoch 00025: saving model to model_5_2022-01-1020_59_39.175287/model-00025-0.13720-0.98341-0.72599-0.81000.h5\n",
            "\n",
            "Epoch 00025: ReduceLROnPlateau reducing learning rate to 3.200000264769187e-07.\n",
            "42/42 [==============================] - 44s 1s/step - loss: 0.1372 - categorical_accuracy: 0.9834 - val_loss: 0.7260 - val_categorical_accuracy: 0.8100 - lr: 1.6000e-06\n",
            "Epoch 26/30\n",
            "42/42 [==============================] - ETA: 0s - loss: 0.1271 - categorical_accuracy: 0.9879\n",
            "Epoch 00026: saving model to model_5_2022-01-1020_59_39.175287/model-00026-0.12706-0.98793-1.04449-0.71000.h5\n",
            "42/42 [==============================] - 45s 1s/step - loss: 0.1271 - categorical_accuracy: 0.9879 - val_loss: 1.0445 - val_categorical_accuracy: 0.7100 - lr: 3.2000e-07\n",
            "Epoch 27/30\n",
            "42/42 [==============================] - ETA: 0s - loss: 0.1236 - categorical_accuracy: 0.9834\n",
            "Epoch 00027: saving model to model_5_2022-01-1020_59_39.175287/model-00027-0.12363-0.98341-0.84103-0.78000.h5\n",
            "42/42 [==============================] - 44s 1s/step - loss: 0.1236 - categorical_accuracy: 0.9834 - val_loss: 0.8410 - val_categorical_accuracy: 0.7800 - lr: 3.2000e-07\n",
            "Epoch 28/30\n",
            "42/42 [==============================] - ETA: 0s - loss: 0.1300 - categorical_accuracy: 0.9849\n",
            "Epoch 00028: saving model to model_5_2022-01-1020_59_39.175287/model-00028-0.13002-0.98492-0.91623-0.76000.h5\n",
            "42/42 [==============================] - 44s 1s/step - loss: 0.1300 - categorical_accuracy: 0.9849 - val_loss: 0.9162 - val_categorical_accuracy: 0.7600 - lr: 3.2000e-07\n",
            "Epoch 29/30\n",
            "42/42 [==============================] - ETA: 0s - loss: 0.1229 - categorical_accuracy: 0.9819\n",
            "Epoch 00029: saving model to model_5_2022-01-1020_59_39.175287/model-00029-0.12290-0.98190-0.91925-0.75000.h5\n",
            "\n",
            "Epoch 00029: ReduceLROnPlateau reducing learning rate to 6.400000529538374e-08.\n",
            "42/42 [==============================] - 44s 1s/step - loss: 0.1229 - categorical_accuracy: 0.9819 - val_loss: 0.9192 - val_categorical_accuracy: 0.7500 - lr: 3.2000e-07\n",
            "Epoch 30/30\n",
            "42/42 [==============================] - ETA: 0s - loss: 0.1307 - categorical_accuracy: 0.9849\n",
            "Epoch 00030: saving model to model_5_2022-01-1020_59_39.175287/model-00030-0.13069-0.98492-0.74862-0.81000.h5\n",
            "42/42 [==============================] - 44s 1s/step - loss: 0.1307 - categorical_accuracy: 0.9849 - val_loss: 0.7486 - val_categorical_accuracy: 0.8100 - lr: 6.4000e-08\n"
          ]
        }
      ]
    },
    {
      "cell_type": "code",
      "source": [
        "# plotting the history for model_5\n",
        "accuracy_loss_plot(history_5, 'model_5')"
      ],
      "metadata": {
        "id": "VwCOVTW_IUM0",
        "colab": {
          "base_uri": "https://localhost:8080/",
          "height": 294
        },
        "outputId": "86a9fefb-d314-44cf-cd71-3784bd67ac33"
      },
      "execution_count": 47,
      "outputs": [
        {
          "output_type": "display_data",
          "data": {
            "image/png": "[encoded data removed]",
            "text/plain": [
              "<Figure size 720x288 with 2 Axes>"
            ]
          },
          "metadata": {
            "needs_background": "light"
          }
        }
      ]
    },
    {
      "cell_type": "markdown",
      "source": [
        "### Model-6 : 3D convolution + LSTM on a frame size of 64x64 for a batch size of 30 executed for 15 epochs with a frame rate of 16."
      ],
      "metadata": {
        "id": "B4Rl8ptsSWJZ"
      }
    },
    {
      "cell_type": "code",
      "source": [
        "n_frames = 16\n",
        "frame_size_x = 64\n",
        "frame_size_y = 64\n",
        "batch_size = 30\n",
        "n_epochs = 15"
      ],
      "metadata": {
        "id": "XSXnG8JkiGKX"
      },
      "execution_count": 48,
      "outputs": []
    },
    {
      "cell_type": "code",
      "source": [
        "# creating a model with Conv3D and ConvLSTM2D\n",
        "model_6 = Sequential()\n",
        "\n",
        "model_6.add(Conv3D(32, (3, 3, 3), padding='same', activation='relu',\n",
        "                 input_shape=(n_frames,frame_size_x,frame_size_y,3)))\n",
        "model_6.add(MaxPooling3D(pool_size=(2, 2, 2)))\n",
        "\n",
        "model_6.add(Conv3D(64, (3, 3, 3), padding='same', activation='relu',\n",
        "                 input_shape=(n_frames,frame_size_x,frame_size_y,3)))\n",
        "model_6.add(MaxPooling3D(pool_size=(2, 2, 2)))\n",
        "\n",
        "model_6.add(ConvLSTM2D(40, (3, 3)))\n",
        "model_6.add(Flatten())\n",
        "\n",
        "model_6.add(Dense(128, activation='relu'))\n",
        "model_6.add(Dropout(0.3))\n",
        "model_6.add(Dense(5, activation='softmax')) #output layer\n",
        "\n",
        "optimiser = optimizers.Adam(lr=0.001)\n",
        "model_6.compile(optimizer=optimiser, loss='categorical_crossentropy', metrics=['categorical_accuracy'])\n",
        "model_6.summary()"
      ],
      "metadata": {
        "id": "4AzWdkfjdRdL",
        "colab": {
          "base_uri": "https://localhost:8080/"
        },
        "outputId": "3d8af4d8-d5c8-49ba-84a5-908ffe70ccaa"
      },
      "execution_count": 49,
      "outputs": [
        {
          "output_type": "stream",
          "name": "stdout",
          "text": [
            "Model: \"sequential_6\"\n",
            "_________________________________________________________________\n",
            " Layer (type)                Output Shape              Param #   \n",
            "=================================================================\n",
            " conv3d_12 (Conv3D)          (None, 16, 64, 64, 32)    2624      \n",
            "                                                                 \n",
            " max_pooling3d_12 (MaxPoolin  (None, 8, 32, 32, 32)    0         \n",
            " g3D)                                                            \n",
            "                                                                 \n",
            " conv3d_13 (Conv3D)          (None, 8, 32, 32, 64)     55360     \n",
            "                                                                 \n",
            " max_pooling3d_13 (MaxPoolin  (None, 4, 16, 16, 64)    0         \n",
            " g3D)                                                            \n",
            "                                                                 \n",
            " conv_lstm2d (ConvLSTM2D)    (None, 14, 14, 40)        149920    \n",
            "                                                                 \n",
            " flatten_5 (Flatten)         (None, 7840)              0         \n",
            "                                                                 \n",
            " dense_17 (Dense)            (None, 128)               1003648   \n",
            "                                                                 \n",
            " dropout_10 (Dropout)        (None, 128)               0         \n",
            "                                                                 \n",
            " dense_18 (Dense)            (None, 5)                 645       \n",
            "                                                                 \n",
            "=================================================================\n",
            "Total params: 1,212,197\n",
            "Trainable params: 1,212,197\n",
            "Non-trainable params: 0\n",
            "_________________________________________________________________\n"
          ]
        },
        {
          "output_type": "stream",
          "name": "stderr",
          "text": [
            "/usr/local/lib/python3.7/dist-packages/keras/optimizer_v2/adam.py:105: UserWarning: The `lr` argument is deprecated, use `learning_rate` instead.\n",
            "  super(Adam, self).__init__(name, **kwargs)\n"
          ]
        }
      ]
    },
    {
      "cell_type": "code",
      "source": [
        "# fetching all the parameters for model-6 fitting\n",
        "train_generator = generator(train_path, train_doc, batch_size, n_frames, frame_size_x, frame_size_y)\n",
        "val_generator = generator(val_path, val_doc, batch_size, n_frames, frame_size_x, frame_size_y)\n",
        "model_6_path, callbacks_list = model_callbacks('model_6')\n",
        "epoch_steps, val_steps = n_steps(num_train_sequences, num_val_sequences, batch_size)"
      ],
      "metadata": {
        "id": "sWJzXAmDhfmk",
        "colab": {
          "base_uri": "https://localhost:8080/"
        },
        "outputId": "0d099454-cfe9-4d84-bbb6-780bec552977"
      },
      "execution_count": 50,
      "outputs": [
        {
          "output_type": "stream",
          "name": "stdout",
          "text": [
            "WARNING:tensorflow:`period` argument is deprecated. Please use `save_freq` to specify the frequency in number of batches seen.\n"
          ]
        }
      ]
    },
    {
      "cell_type": "code",
      "source": [
        "history_6 = model_6.fit_generator(train_generator, steps_per_epoch=epoch_steps,\n",
        "                                  epochs=n_epochs, callbacks=callbacks_list, \n",
        "                                  validation_data=val_generator, validation_steps=val_steps,\n",
        "                                  class_weight=None, workers=1, initial_epoch=0,\n",
        "                                  verbose=1)"
      ],
      "metadata": {
        "id": "P3wwrjTNhnoH",
        "colab": {
          "base_uri": "https://localhost:8080/"
        },
        "outputId": "a209f134-83d7-4d05-fbf4-1d3b86b7b9ab"
      },
      "execution_count": 51,
      "outputs": [
        {
          "output_type": "stream",
          "name": "stderr",
          "text": [
            "/usr/local/lib/python3.7/dist-packages/ipykernel_launcher.py:5: UserWarning: `Model.fit_generator` is deprecated and will be removed in a future version. Please use `Model.fit`, which supports generators.\n",
            "  \"\"\"\n"
          ]
        },
        {
          "output_type": "stream",
          "name": "stdout",
          "text": [
            "Source path =  /content/Gesture_assignment/Project_data/train \n",
            " batch size = 30 \n",
            " No. of images from each folder = 16 \n",
            " Normalized image size = 64 x 64\n",
            "Epoch 1/15\n",
            "23/23 [==============================] - ETA: 0s - loss: 1.6169 - categorical_accuracy: 0.2142Source path =  /content/Gesture_assignment/Project_data/val \n",
            " batch size = 30 \n",
            " No. of images from each folder = 16 \n",
            " Normalized image size = 64 x 64\n",
            "\n",
            "Epoch 00001: saving model to model_6_2022-01-1021_22_06.410967/model-00001-1.61692-0.21418-1.52850-0.23000.h5\n",
            "23/23 [==============================] - 38s 2s/step - loss: 1.6169 - categorical_accuracy: 0.2142 - val_loss: 1.5285 - val_categorical_accuracy: 0.2300 - lr: 0.0010\n",
            "Epoch 2/15\n",
            "23/23 [==============================] - ETA: 0s - loss: 1.4888 - categorical_accuracy: 0.3213\n",
            "Epoch 00002: saving model to model_6_2022-01-1021_22_06.410967/model-00002-1.48882-0.32127-1.41052-0.43000.h5\n",
            "23/23 [==============================] - 35s 2s/step - loss: 1.4888 - categorical_accuracy: 0.3213 - val_loss: 1.4105 - val_categorical_accuracy: 0.4300 - lr: 0.0010\n",
            "Epoch 3/15\n",
            "23/23 [==============================] - ETA: 0s - loss: 1.2944 - categorical_accuracy: 0.4811\n",
            "Epoch 00003: saving model to model_6_2022-01-1021_22_06.410967/model-00003-1.29437-0.48115-1.12222-0.51000.h5\n",
            "23/23 [==============================] - 34s 2s/step - loss: 1.2944 - categorical_accuracy: 0.4811 - val_loss: 1.1222 - val_categorical_accuracy: 0.5100 - lr: 0.0010\n",
            "Epoch 4/15\n",
            "23/23 [==============================] - ETA: 0s - loss: 1.1736 - categorical_accuracy: 0.4947\n",
            "Epoch 00004: saving model to model_6_2022-01-1021_22_06.410967/model-00004-1.17361-0.49472-1.05710-0.61000.h5\n",
            "23/23 [==============================] - 34s 2s/step - loss: 1.1736 - categorical_accuracy: 0.4947 - val_loss: 1.0571 - val_categorical_accuracy: 0.6100 - lr: 0.0010\n",
            "Epoch 5/15\n",
            "23/23 [==============================] - ETA: 0s - loss: 0.9261 - categorical_accuracy: 0.6275\n",
            "Epoch 00005: saving model to model_6_2022-01-1021_22_06.410967/model-00005-0.92607-0.62745-1.10350-0.57000.h5\n",
            "23/23 [==============================] - 35s 2s/step - loss: 0.9261 - categorical_accuracy: 0.6275 - val_loss: 1.1035 - val_categorical_accuracy: 0.5700 - lr: 0.0010\n",
            "Epoch 6/15\n",
            "23/23 [==============================] - ETA: 0s - loss: 0.8078 - categorical_accuracy: 0.6712\n",
            "Epoch 00006: saving model to model_6_2022-01-1021_22_06.410967/model-00006-0.80784-0.67119-0.91287-0.70000.h5\n",
            "23/23 [==============================] - 35s 2s/step - loss: 0.8078 - categorical_accuracy: 0.6712 - val_loss: 0.9129 - val_categorical_accuracy: 0.7000 - lr: 0.0010\n",
            "Epoch 7/15\n",
            "23/23 [==============================] - ETA: 0s - loss: 0.6354 - categorical_accuracy: 0.7300\n",
            "Epoch 00007: saving model to model_6_2022-01-1021_22_06.410967/model-00007-0.63540-0.73002-0.73075-0.67000.h5\n",
            "23/23 [==============================] - 35s 2s/step - loss: 0.6354 - categorical_accuracy: 0.7300 - val_loss: 0.7308 - val_categorical_accuracy: 0.6700 - lr: 0.0010\n",
            "Epoch 8/15\n",
            "23/23 [==============================] - ETA: 0s - loss: 0.5539 - categorical_accuracy: 0.7934\n",
            "Epoch 00008: saving model to model_6_2022-01-1021_22_06.410967/model-00008-0.55392-0.79336-0.82939-0.68000.h5\n",
            "23/23 [==============================] - 34s 2s/step - loss: 0.5539 - categorical_accuracy: 0.7934 - val_loss: 0.8294 - val_categorical_accuracy: 0.6800 - lr: 0.0010\n",
            "Epoch 9/15\n",
            "23/23 [==============================] - ETA: 0s - loss: 0.5039 - categorical_accuracy: 0.8084\n",
            "Epoch 00009: saving model to model_6_2022-01-1021_22_06.410967/model-00009-0.50393-0.80845-0.76515-0.71000.h5\n",
            "23/23 [==============================] - 38s 2s/step - loss: 0.5039 - categorical_accuracy: 0.8084 - val_loss: 0.7651 - val_categorical_accuracy: 0.7100 - lr: 0.0010\n",
            "Epoch 10/15\n",
            "23/23 [==============================] - ETA: 0s - loss: 0.4009 - categorical_accuracy: 0.8567\n",
            "Epoch 00010: saving model to model_6_2022-01-1021_22_06.410967/model-00010-0.40090-0.85671-0.83876-0.77000.h5\n",
            "23/23 [==============================] - 35s 2s/step - loss: 0.4009 - categorical_accuracy: 0.8567 - val_loss: 0.8388 - val_categorical_accuracy: 0.7700 - lr: 0.0010\n",
            "Epoch 11/15\n",
            "23/23 [==============================] - ETA: 0s - loss: 0.3881 - categorical_accuracy: 0.8522\n",
            "Epoch 00011: saving model to model_6_2022-01-1021_22_06.410967/model-00011-0.38814-0.85219-0.83219-0.69000.h5\n",
            "\n",
            "Epoch 00011: ReduceLROnPlateau reducing learning rate to 0.00020000000949949026.\n",
            "23/23 [==============================] - 34s 2s/step - loss: 0.3881 - categorical_accuracy: 0.8522 - val_loss: 0.8322 - val_categorical_accuracy: 0.6900 - lr: 0.0010\n",
            "Epoch 12/15\n",
            "23/23 [==============================] - ETA: 0s - loss: 0.2286 - categorical_accuracy: 0.9186\n",
            "Epoch 00012: saving model to model_6_2022-01-1021_22_06.410967/model-00012-0.22857-0.91855-0.74235-0.75000.h5\n",
            "23/23 [==============================] - 34s 2s/step - loss: 0.2286 - categorical_accuracy: 0.9186 - val_loss: 0.7423 - val_categorical_accuracy: 0.7500 - lr: 2.0000e-04\n",
            "Epoch 13/15\n",
            "23/23 [==============================] - ETA: 0s - loss: 0.1777 - categorical_accuracy: 0.9502\n",
            "Epoch 00013: saving model to model_6_2022-01-1021_22_06.410967/model-00013-0.17766-0.95023-0.70495-0.75000.h5\n",
            "23/23 [==============================] - 35s 2s/step - loss: 0.1777 - categorical_accuracy: 0.9502 - val_loss: 0.7049 - val_categorical_accuracy: 0.7500 - lr: 2.0000e-04\n",
            "Epoch 14/15\n",
            "23/23 [==============================] - ETA: 0s - loss: 0.1482 - categorical_accuracy: 0.9517\n",
            "Epoch 00014: saving model to model_6_2022-01-1021_22_06.410967/model-00014-0.14821-0.95173-0.80305-0.69000.h5\n",
            "23/23 [==============================] - 34s 2s/step - loss: 0.1482 - categorical_accuracy: 0.9517 - val_loss: 0.8031 - val_categorical_accuracy: 0.6900 - lr: 2.0000e-04\n",
            "Epoch 15/15\n",
            "23/23 [==============================] - ETA: 0s - loss: 0.1053 - categorical_accuracy: 0.9638\n",
            "Epoch 00015: saving model to model_6_2022-01-1021_22_06.410967/model-00015-0.10529-0.96380-0.64917-0.80000.h5\n",
            "23/23 [==============================] - 35s 2s/step - loss: 0.1053 - categorical_accuracy: 0.9638 - val_loss: 0.6492 - val_categorical_accuracy: 0.8000 - lr: 2.0000e-04\n"
          ]
        }
      ]
    },
    {
      "cell_type": "code",
      "source": [
        "# plotting the history for model_6\n",
        "accuracy_loss_plot(history_6, 'model_6')"
      ],
      "metadata": {
        "id": "XhuFxeylh4Tg",
        "colab": {
          "base_uri": "https://localhost:8080/",
          "height": 294
        },
        "outputId": "effaa7aa-e9b0-4045-d39f-0a47daafe2a7"
      },
      "execution_count": 52,
      "outputs": [
        {
          "output_type": "display_data",
          "data": {
            "image/png": "[encoded data removed]",
            "text/plain": [
              "<Figure size 720x288 with 2 Axes>"
            ]
          },
          "metadata": {
            "needs_background": "light"
          }
        }
      ]
    }
  ],
  "metadata": {
    "kernelspec": {
      "display_name": "Python 3",
      "language": "python",
      "name": "python3"
    },
    "language_info": {
      "codemirror_mode": {
        "name": "ipython",
        "version": 3
      },
      "file_extension": ".py",
      "mimetype": "text/x-python",
      "name": "python",
      "nbconvert_exporter": "python",
      "pygments_lexer": "ipython3",
      "version": "3.8.5"
    },
    "colab": {
      "name": "Gesture_recognition_assignment_FINAL",
      "provenance": [],
      "collapsed_sections": [],
      "include_colab_link": true
    },
    "accelerator": "GPU"
  },
  "nbformat": 4,
  "nbformat_minor": 0
}