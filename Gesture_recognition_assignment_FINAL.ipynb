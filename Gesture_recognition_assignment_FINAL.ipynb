{
  "cells": [
    {
      "cell_type": "markdown",
      "metadata": {
        "id": "view-in-github",
        "colab_type": "text"
      },
      "source": [
        "<a href=\"https://colab.research.google.com/github/saisrikanthrayavarapu/CNN/blob/main/Gesture_recognition_assignment_FINAL.ipynb\" target=\"_parent\"><img src=\"https://colab.research.google.com/assets/colab-badge.svg\" alt=\"Open In Colab\"/></a>"
      ]
    },
    {
      "cell_type": "markdown",
      "metadata": {
        "id": "EJYifH1xGzHB"
      },
      "source": [
        "# Gesture Recognition\n",
        "In this group project, you are going to build a 3D Conv model that will be able to predict the 5 gestures correctly. Please import the following libraries to get started."
      ]
    },
    {
      "cell_type": "code",
      "execution_count": 1,
      "metadata": {
        "id": "83FlSHipGzHF"
      },
      "outputs": [],
      "source": [
        "import matplotlib.pyplot as plt\n",
        "import numpy as np\n",
        "import os\n",
        "from skimage.io import imread\n",
        "import datetime\n",
        "import os\n",
        "import glob\n",
        "import cv2\n",
        "import h5py"
      ]
    },
    {
      "cell_type": "code",
      "source": [
        "from keras.models import Sequential, Model\n",
        "from keras.layers import Dense, GRU, Dropout, LSTM, Flatten, TimeDistributed, BatchNormalization, Activation, ConvLSTM2D\n",
        "from keras.callbacks import ModelCheckpoint, ReduceLROnPlateau\n",
        "from tensorflow.keras import optimizers\n",
        "from keras.applications.vgg16 import VGG16\n",
        "from keras.layers.convolutional import Conv3D, MaxPooling3D, Conv2D, MaxPooling2D"
      ],
      "metadata": {
        "id": "GxFpBtZIAkyg"
      },
      "execution_count": 2,
      "outputs": []
    },
    {
      "cell_type": "code",
      "source": [
        "# mounting Google drive on colab\n",
        "from google.colab import drive\n",
        "drive.mount('/content/drive')"
      ],
      "metadata": {
        "colab": {
          "base_uri": "https://localhost:8080/"
        },
        "id": "74XsSzaVILV4",
        "outputId": "f377e078-5401-4a02-f0ed-18de8bd7e20a"
      },
      "execution_count": 3,
      "outputs": [
        {
          "output_type": "stream",
          "name": "stdout",
          "text": [
            "Mounted at /content/drive\n"
          ]
        }
      ]
    },
    {
      "cell_type": "code",
      "source": [
        "!mkdir \"/content/Gesture_assignment\" # creating a new directory for the unzipped file\n",
        "!gdown --id \"1ehyrYBQ5rbQQe6yL4XbLWe3FMvuVUGiL\" # downloading the zipped file in the session\n",
        "# https://drive.google.com/uc?id=1ehyrYBQ5rbQQe6yL4XbLWe3FMvuVUGiL"
      ],
      "metadata": {
        "colab": {
          "base_uri": "https://localhost:8080/"
        },
        "id": "9evR6GuvIMsW",
        "outputId": "d435e491-f4dc-41a3-9463-b9d03c487ef7"
      },
      "execution_count": 4,
      "outputs": [
        {
          "output_type": "stream",
          "name": "stdout",
          "text": [
            "Downloading...\n",
            "From: https://drive.google.com/uc?id=1ehyrYBQ5rbQQe6yL4XbLWe3FMvuVUGiL\n",
            "To: /content/Project_data.zip\n",
            "100% 1.71G/1.71G [00:08<00:00, 193MB/s]\n"
          ]
        }
      ]
    },
    {
      "cell_type": "code",
      "source": [
        "# unzipping the file in the created directory\n",
        "!unzip -q \"/content/Project_data.zip\" -d \"/content/Gesture_assignment\" "
      ],
      "metadata": {
        "id": "M05EW3CZISYU"
      },
      "execution_count": 5,
      "outputs": []
    },
    {
      "cell_type": "markdown",
      "metadata": {
        "id": "leJ97uobGzHI"
      },
      "source": [
        "We set the random seed so that the results don't vary drastically."
      ]
    },
    {
      "cell_type": "code",
      "execution_count": 6,
      "metadata": {
        "id": "-3wIa6_ZGzHI"
      },
      "outputs": [],
      "source": [
        "np.random.seed(30)\n",
        "import random as rn\n",
        "rn.seed(30)\n",
        "from keras import backend as K\n",
        "import tensorflow as tf\n",
        "tf.random.set_seed(30)"
      ]
    },
    {
      "cell_type": "markdown",
      "metadata": {
        "id": "VoTBHQl8GzHK"
      },
      "source": [
        "In this block, you read the folder names for training and validation. You also set the `batch_size` here. Note that you set the batch size in such a way that you are able to use the GPU in full capacity. You keep increasing the batch size until the machine throws an error."
      ]
    },
    {
      "cell_type": "code",
      "source": [
        "# verifying the GPU configuration\n",
        "!nvidia-smi"
      ],
      "metadata": {
        "colab": {
          "base_uri": "https://localhost:8080/"
        },
        "id": "ShM3KBv2KUBb",
        "outputId": "4ca1b5c9-ba76-4128-d1bb-9c2ae6972d9b"
      },
      "execution_count": 7,
      "outputs": [
        {
          "output_type": "stream",
          "name": "stdout",
          "text": [
            "Mon Jan 10 12:43:26 2022       \n",
            "+-----------------------------------------------------------------------------+\n",
            "| NVIDIA-SMI 495.44       Driver Version: 460.32.03    CUDA Version: 11.2     |\n",
            "|-------------------------------+----------------------+----------------------+\n",
            "| GPU  Name        Persistence-M| Bus-Id        Disp.A | Volatile Uncorr. ECC |\n",
            "| Fan  Temp  Perf  Pwr:Usage/Cap|         Memory-Usage | GPU-Util  Compute M. |\n",
            "|                               |                      |               MIG M. |\n",
            "|===============================+======================+======================|\n",
            "|   0  Tesla K80           Off  | 00000000:00:04.0 Off |                    0 |\n",
            "| N/A   36C    P8    28W / 149W |      0MiB / 11441MiB |      0%      Default |\n",
            "|                               |                      |                  N/A |\n",
            "+-------------------------------+----------------------+----------------------+\n",
            "                                                                               \n",
            "+-----------------------------------------------------------------------------+\n",
            "| Processes:                                                                  |\n",
            "|  GPU   GI   CI        PID   Type   Process name                  GPU Memory |\n",
            "|        ID   ID                                                   Usage      |\n",
            "|=============================================================================|\n",
            "|  No running processes found                                                 |\n",
            "+-----------------------------------------------------------------------------+\n"
          ]
        }
      ]
    },
    {
      "cell_type": "code",
      "execution_count": 8,
      "metadata": {
        "id": "_aZv622nGzHL"
      },
      "outputs": [],
      "source": [
        "train_doc = np.random.permutation(open('/content/Gesture_assignment/Project_data/train.csv').readlines())\n",
        "val_doc = np.random.permutation(open('/content/Gesture_assignment/Project_data/val.csv').readlines())"
      ]
    },
    {
      "cell_type": "code",
      "execution_count": 9,
      "metadata": {
        "id": "qZN1gLYWGzHR"
      },
      "outputs": [],
      "source": [
        "# curr_dt_time = datetime.datetime.now()\n",
        "train_path = '/content/Gesture_assignment/Project_data/train'\n",
        "val_path = '/content/Gesture_assignment/Project_data/val'"
      ]
    },
    {
      "cell_type": "code",
      "source": [
        "num_train_sequences = len(train_doc)\n",
        "print('# training sequences =', num_train_sequences)\n",
        "num_val_sequences = len(val_doc)\n",
        "print('# validation sequences =', num_val_sequences)"
      ],
      "metadata": {
        "colab": {
          "base_uri": "https://localhost:8080/"
        },
        "id": "qgVGQya8VjaM",
        "outputId": "4b5a4c9d-5e15-4d07-ffa4-19945915e8f6"
      },
      "execution_count": 10,
      "outputs": [
        {
          "output_type": "stream",
          "name": "stdout",
          "text": [
            "# training sequences = 663\n",
            "# validation sequences = 100\n"
          ]
        }
      ]
    },
    {
      "cell_type": "code",
      "source": [
        "# method to calculate model steps\n",
        "def n_steps(num_train_sequences, num_val_sequences, batch_size):\n",
        "  if (num_train_sequences%batch_size) == 0:\n",
        "    steps_per_epoch = int(num_train_sequences/batch_size)\n",
        "  else:\n",
        "    steps_per_epoch = (num_train_sequences//batch_size) + 1\n",
        "  if (num_val_sequences%batch_size) == 0:\n",
        "    validation_steps = int(num_val_sequences/batch_size)\n",
        "  else:\n",
        "    validation_steps = (num_val_sequences//batch_size) + 1\n",
        "  return steps_per_epoch,validation_steps"
      ],
      "metadata": {
        "id": "63OJwsQn_DsS"
      },
      "execution_count": 11,
      "outputs": []
    },
    {
      "cell_type": "code",
      "source": [
        "# method to plot model accuracy and loss\n",
        "def accuracy_loss_plot(history, name):\n",
        "  f, ax = plt.subplots(1,2, figsize=(10,4))\n",
        "  ax[1].plot(history.history['loss'])   \n",
        "  ax[1].plot(history.history['val_loss'])\n",
        "  ax[1].legend(['loss','val_loss'], loc='upper left')\n",
        "  ax[1].title.set_text('Loss Plot for '+name)\n",
        "\n",
        "  ax[0].plot(history.history['categorical_accuracy'])   \n",
        "  ax[0].plot(history.history['val_categorical_accuracy'])\n",
        "  ax[0].legend(['categorical_accuracy','val_categorical_accuracy'], loc='upper left')\n",
        "  ax[0].title.set_text('Accuracy Plot for '+name)\n",
        "  f.suptitle('Accuracy and Loss plot for '+name, fontweight='bold')\n",
        "  plt.show()"
      ],
      "metadata": {
        "id": "hAIZV8CE9Dra"
      },
      "execution_count": 12,
      "outputs": []
    },
    {
      "cell_type": "code",
      "source": [
        "# method to get model callbacks\n",
        "def model_callbacks(name):\n",
        "  dirpath = name + '_' + str(datetime.datetime.now()).replace(' ','').replace(':','_') + '/'\n",
        "  if not os.path.exists(dirpath):\n",
        "    os.mkdir(dirpath)\n",
        "  filepath = dirpath + 'model-{epoch:05d}-{loss:.5f}-{categorical_accuracy:.5f}-{val_loss:.5f}-{val_categorical_accuracy:.5f}.h5'\n",
        "  checkpoint = ModelCheckpoint(filepath, monitor='val_loss', verbose=1, \n",
        "                             save_best_only=False, save_weights_only=False, \n",
        "                             mode='auto', period=1)\n",
        "  LR = ReduceLROnPlateau(monitor='val_loss', factor=0.2, verbose=1, patience=4)\n",
        "  callbacks_list = [checkpoint, LR]\n",
        "  return dirpath, callbacks_list"
      ],
      "metadata": {
        "id": "5XdrEttBAUOh"
      },
      "execution_count": 13,
      "outputs": []
    },
    {
      "cell_type": "markdown",
      "metadata": {
        "id": "P2Qc0kjPGzHN"
      },
      "source": [
        "## Generator\n",
        "This is one of the most important part of the code. The overall structure of the generator has been given. In the generator, you are going to preprocess the images as you have images of 2 different dimensions as well as create a batch of video frames. You have to experiment with some of the parts of the generator function such that you get high accuracy."
      ]
    },
    {
      "cell_type": "code",
      "execution_count": 14,
      "metadata": {
        "id": "w7yK_YaqGzHO"
      },
      "outputs": [],
      "source": [
        "def generator(source_path, folder_list, batch_size, n_frames, frame_size_x, frame_size_y):\n",
        "    print('Source path = ', source_path, '\\n batch size =', batch_size,\n",
        "          '\\n No. of images from each folder =', n_frames,\n",
        "          '\\n Normalized image size =', frame_size_x, 'x', frame_size_y)\n",
        "    img_idx = np.round(np.linspace(0, 29, n_frames)).astype(int) # since each video is of 30 frames\n",
        "    while True:\n",
        "        t = np.random.permutation(folder_list)\n",
        "        num_batches = int(len(t)/batch_size)\n",
        "        for batch in range(num_batches):\n",
        "            batch_data = np.zeros((batch_size,n_frames,frame_size_x,frame_size_y,3))\n",
        "            batch_labels = np.zeros((batch_size,5)) # here 5 is the number of gestures\n",
        "            for folder in range(batch_size):\n",
        "                imgs = os.listdir(source_path+'/'+ t[folder + (batch*batch_size)].split(';')[0])\n",
        "                for idx,item in enumerate(img_idx):\n",
        "                    image = imread(source_path+'/'+ t[folder+(batch*batch_size)].strip().split(';')[0]+'/'+imgs[item]).astype(np.float32)\n",
        "                    image = cv2.resize(image,(frame_size_x,frame_size_x)) # resing the actual image to the defined size\n",
        "                    batch_data[folder,idx,:,:,0] = (image[:,:,0])/255 # normalizing the image for R channel\n",
        "                    batch_data[folder,idx,:,:,1] = (image[:,:,1])/255 # normalizing the image for G channel\n",
        "                    batch_data[folder,idx,:,:,2] = (image[:,:,2])/255 # normalizing the image for B channel    \n",
        "                batch_labels[folder, int(t[folder + (batch*batch_size)].strip().split(';')[2])] = 1\n",
        "            yield batch_data, batch_labels\n",
        "\n",
        "        if (len(t)%batch_size) != 0:\n",
        "            batch_data = np.zeros((len(t)%batch_size,n_frames,frame_size_x,frame_size_y,3)) # leftout data after batch sizing\n",
        "            batch_labels = np.zeros((len(t)%batch_size,5))\n",
        "            for folder in range(len(t)%batch_size):\n",
        "                imgs = os.listdir(source_path+'/'+ t[folder + (num_batches*batch_size)].split(';')[0])\n",
        "                for idx,item in enumerate(img_idx):\n",
        "                    image = imread(source_path+'/'+ t[folder + (num_batches*batch_size)].strip().split(';')[0]+'/'+imgs[item]).astype(np.float32)\n",
        "                    image = cv2.resize(image,(frame_size_x,frame_size_x)) # resing the actual image to the defined size\n",
        "                    batch_data[folder,idx,:,:,0] = (image[:,:,0])/255 # normalizing the image for R channel\n",
        "                    batch_data[folder,idx,:,:,1] = (image[:,:,1])/255 # normalizing the image for G channel\n",
        "                    batch_data[folder,idx,:,:,2] = (image[:,:,2])/255 # normalizing the image for B channel\n",
        "                batch_labels[folder, int(t[folder + (num_batches*batch_size)].strip().split(';')[2])] = 1\n",
        "            yield batch_data, batch_labels"
      ]
    },
    {
      "cell_type": "markdown",
      "source": [
        "## Model"
      ],
      "metadata": {
        "id": "c1bHkTx2-_xI"
      }
    },
    {
      "cell_type": "markdown",
      "source": [
        "### Model-1 : 3D convolution with 15 frames using an image size of 120x120 with a batch size of 30 run for 30 epochs for convolution layers of (16, 32, 64) and dense layers of (64, 128)"
      ],
      "metadata": {
        "id": "OTf36YsdMnxs"
      }
    },
    {
      "cell_type": "code",
      "source": [
        "n_frames = 15\n",
        "frame_size_x = 120\n",
        "frame_size_y = 120\n",
        "batch_size = 30\n",
        "n_epochs = 30"
      ],
      "metadata": {
        "id": "Rto-zLe10ZXP"
      },
      "execution_count": 15,
      "outputs": []
    },
    {
      "cell_type": "code",
      "source": [
        "# method to create 3D convolution model\n",
        "def conv3D_model(conv_layers,dense_layers,dropout,n_frames,frame_size_x,frame_size_y):\n",
        "  model = Sequential()\n",
        "\n",
        "  model.add(Conv3D(conv_layers[0], (3, 3, 3), padding='same',\n",
        "                 input_shape=(n_frames,frame_size_x,frame_size_y,3), \n",
        "                 kernel_initializer='he_uniform'))\n",
        "  model.add(Activation('relu'))\n",
        "  model.add(BatchNormalization())\n",
        "  model.add(MaxPooling3D(pool_size=(2, 2, 2)))\n",
        "\n",
        "  model.add(Conv3D(conv_layers[1], (2, 2, 2), padding='same', kernel_initializer='he_uniform'))\n",
        "  model.add(Activation('relu'))\n",
        "  model.add(BatchNormalization())\n",
        "  model.add(MaxPooling3D(pool_size=(2, 2, 2)))\n",
        "\n",
        "  model.add(Conv3D(conv_layers[2], (2, 2, 2), padding='same', kernel_initializer='he_uniform'))\n",
        "  model.add(Activation('relu'))\n",
        "  model.add(BatchNormalization())\n",
        "  model.add(MaxPooling3D(pool_size=(2, 2, 2)))\n",
        "\n",
        "  # model.add(Conv3D(conv_layers[3], (2, 2, 2), padding='same', kernel_initializer='he_uniform'))\n",
        "  # model.add(Activation('relu'))\n",
        "  # model.add(BatchNormalization())\n",
        "  # model.add(MaxPooling3D(pool_size=(2, 2, 2)))\n",
        "  # model.add(Dropout(dropout))\n",
        "\n",
        "  model.add(Flatten())\n",
        "  model.add(Dense(dense_layers[1],activation='relu', kernel_initializer='he_uniform'))\n",
        "  model.add(BatchNormalization())\n",
        "  model.add(Dropout(dropout))\n",
        "\n",
        "  model.add(Dense(dense_layers[0],activation='relu', kernel_initializer='he_uniform'))\n",
        "  model.add(BatchNormalization())\n",
        "  model.add(Dropout(dropout))\n",
        "\n",
        "  model.add(Dense(5,activation='softmax')) # number of gestures\n",
        "  return model"
      ],
      "metadata": {
        "id": "I5U0OpzNLxIh"
      },
      "execution_count": 16,
      "outputs": []
    },
    {
      "cell_type": "code",
      "source": [
        "# adding optimizer and summarizing the model-1\n",
        "model_1 = conv3D_model(conv_layers=(16,32,64,128), dense_layers=(128,64),\n",
        "                       dropout=0.25, n_frames=n_frames, \n",
        "                       frame_size_x=frame_size_x, frame_size_y=frame_size_y)\n",
        "optimiser = optimizers.Adam(learning_rate=0.001)\n",
        "model_1.compile(optimizer=optimiser, loss='categorical_crossentropy', metrics=['categorical_accuracy'])\n",
        "model_1.summary()"
      ],
      "metadata": {
        "id": "9YJQ2Kt_3taX",
        "colab": {
          "base_uri": "https://localhost:8080/"
        },
        "outputId": "8f19cd5a-fac0-45a3-8de2-72bed3324254"
      },
      "execution_count": 17,
      "outputs": [
        {
          "output_type": "stream",
          "name": "stdout",
          "text": [
            "Model: \"sequential\"\n",
            "_________________________________________________________________\n",
            " Layer (type)                Output Shape              Param #   \n",
            "=================================================================\n",
            " conv3d (Conv3D)             (None, 15, 120, 120, 16)  1312      \n",
            "                                                                 \n",
            " activation (Activation)     (None, 15, 120, 120, 16)  0         \n",
            "                                                                 \n",
            " batch_normalization (BatchN  (None, 15, 120, 120, 16)  64       \n",
            " ormalization)                                                   \n",
            "                                                                 \n",
            " max_pooling3d (MaxPooling3D  (None, 7, 60, 60, 16)    0         \n",
            " )                                                               \n",
            "                                                                 \n",
            " conv3d_1 (Conv3D)           (None, 7, 60, 60, 32)     4128      \n",
            "                                                                 \n",
            " activation_1 (Activation)   (None, 7, 60, 60, 32)     0         \n",
            "                                                                 \n",
            " batch_normalization_1 (Batc  (None, 7, 60, 60, 32)    128       \n",
            " hNormalization)                                                 \n",
            "                                                                 \n",
            " max_pooling3d_1 (MaxPooling  (None, 3, 30, 30, 32)    0         \n",
            " 3D)                                                             \n",
            "                                                                 \n",
            " conv3d_2 (Conv3D)           (None, 3, 30, 30, 64)     16448     \n",
            "                                                                 \n",
            " activation_2 (Activation)   (None, 3, 30, 30, 64)     0         \n",
            "                                                                 \n",
            " batch_normalization_2 (Batc  (None, 3, 30, 30, 64)    256       \n",
            " hNormalization)                                                 \n",
            "                                                                 \n",
            " max_pooling3d_2 (MaxPooling  (None, 1, 15, 15, 64)    0         \n",
            " 3D)                                                             \n",
            "                                                                 \n",
            " flatten (Flatten)           (None, 14400)             0         \n",
            "                                                                 \n",
            " dense (Dense)               (None, 64)                921664    \n",
            "                                                                 \n",
            " batch_normalization_3 (Batc  (None, 64)               256       \n",
            " hNormalization)                                                 \n",
            "                                                                 \n",
            " dropout (Dropout)           (None, 64)                0         \n",
            "                                                                 \n",
            " dense_1 (Dense)             (None, 128)               8320      \n",
            "                                                                 \n",
            " batch_normalization_4 (Batc  (None, 128)              512       \n",
            " hNormalization)                                                 \n",
            "                                                                 \n",
            " dropout_1 (Dropout)         (None, 128)               0         \n",
            "                                                                 \n",
            " dense_2 (Dense)             (None, 5)                 645       \n",
            "                                                                 \n",
            "=================================================================\n",
            "Total params: 953,733\n",
            "Trainable params: 953,125\n",
            "Non-trainable params: 608\n",
            "_________________________________________________________________\n"
          ]
        }
      ]
    },
    {
      "cell_type": "code",
      "execution_count": 18,
      "metadata": {
        "colab": {
          "base_uri": "https://localhost:8080/"
        },
        "id": "HtQhPR-LGzHW",
        "outputId": "62c489b2-bd35-450b-bc21-bcf0b8f5718d"
      },
      "outputs": [
        {
          "output_type": "stream",
          "name": "stdout",
          "text": [
            "WARNING:tensorflow:`period` argument is deprecated. Please use `save_freq` to specify the frequency in number of batches seen.\n"
          ]
        }
      ],
      "source": [
        "# fetching all the parameters for model-1 fitting\n",
        "train_generator = generator(train_path, train_doc, batch_size, n_frames, frame_size_x, frame_size_y)\n",
        "val_generator = generator(val_path, val_doc, batch_size, n_frames, frame_size_x, frame_size_y)\n",
        "model_1_path, callbacks_list = model_callbacks('model_1')\n",
        "epoch_steps, val_steps = n_steps(num_train_sequences, num_val_sequences, batch_size)"
      ]
    },
    {
      "cell_type": "code",
      "source": [
        "history_1 = model_1.fit_generator(train_generator, steps_per_epoch=epoch_steps,\n",
        "                                  epochs=n_epochs, callbacks=callbacks_list, \n",
        "                                  validation_data=val_generator, validation_steps=val_steps,\n",
        "                                  class_weight=None, workers=1, initial_epoch=0,\n",
        "                                  verbose=1)"
      ],
      "metadata": {
        "colab": {
          "base_uri": "https://localhost:8080/"
        },
        "id": "kRNqzRLqci7d",
        "outputId": "d1a0cb18-1d99-4314-9275-334d5623a56c"
      },
      "execution_count": 19,
      "outputs": [
        {
          "output_type": "stream",
          "name": "stdout",
          "text": [
            "Source path =  /content/Gesture_assignment/Project_data/train \n",
            " batch size = 30 \n",
            " No. of images from each folder = 15 \n",
            " Normalized image size = 120 x 120\n"
          ]
        },
        {
          "output_type": "stream",
          "name": "stderr",
          "text": [
            "/usr/local/lib/python3.7/dist-packages/ipykernel_launcher.py:5: UserWarning: `Model.fit_generator` is deprecated and will be removed in a future version. Please use `Model.fit`, which supports generators.\n",
            "  \"\"\"\n"
          ]
        },
        {
          "output_type": "stream",
          "name": "stdout",
          "text": [
            "Epoch 1/30\n",
            "23/23 [==============================] - ETA: 0s - loss: 1.5414 - categorical_accuracy: 0.4374Source path =  /content/Gesture_assignment/Project_data/val \n",
            " batch size = 30 \n",
            " No. of images from each folder = 15 \n",
            " Normalized image size = 120 x 120\n",
            "\n",
            "Epoch 00001: saving model to model_1_2022-01-1012_43_34.967286/model-00001-1.54138-0.43741-1.61355-0.28000.h5\n",
            "23/23 [==============================] - 49s 2s/step - loss: 1.5414 - categorical_accuracy: 0.4374 - val_loss: 1.6136 - val_categorical_accuracy: 0.2800 - lr: 0.0010\n",
            "Epoch 2/30\n",
            "23/23 [==============================] - ETA: 0s - loss: 0.9260 - categorical_accuracy: 0.6425\n",
            "Epoch 00002: saving model to model_1_2022-01-1012_43_34.967286/model-00002-0.92599-0.64253-1.98844-0.24000.h5\n",
            "23/23 [==============================] - 37s 2s/step - loss: 0.9260 - categorical_accuracy: 0.6425 - val_loss: 1.9884 - val_categorical_accuracy: 0.2400 - lr: 0.0010\n",
            "Epoch 3/30\n",
            "23/23 [==============================] - ETA: 0s - loss: 0.7058 - categorical_accuracy: 0.7376\n",
            "Epoch 00003: saving model to model_1_2022-01-1012_43_34.967286/model-00003-0.70577-0.73756-4.33302-0.25000.h5\n",
            "23/23 [==============================] - 39s 2s/step - loss: 0.7058 - categorical_accuracy: 0.7376 - val_loss: 4.3330 - val_categorical_accuracy: 0.2500 - lr: 0.0010\n",
            "Epoch 4/30\n",
            "23/23 [==============================] - ETA: 0s - loss: 0.5946 - categorical_accuracy: 0.7707\n",
            "Epoch 00004: saving model to model_1_2022-01-1012_43_34.967286/model-00004-0.59460-0.77074-5.55562-0.29000.h5\n",
            "23/23 [==============================] - 35s 2s/step - loss: 0.5946 - categorical_accuracy: 0.7707 - val_loss: 5.5556 - val_categorical_accuracy: 0.2900 - lr: 0.0010\n",
            "Epoch 5/30\n",
            "23/23 [==============================] - ETA: 0s - loss: 0.4919 - categorical_accuracy: 0.8130\n",
            "Epoch 00005: saving model to model_1_2022-01-1012_43_34.967286/model-00005-0.49189-0.81297-5.97351-0.26000.h5\n",
            "\n",
            "Epoch 00005: ReduceLROnPlateau reducing learning rate to 0.00020000000949949026.\n",
            "23/23 [==============================] - 37s 2s/step - loss: 0.4919 - categorical_accuracy: 0.8130 - val_loss: 5.9735 - val_categorical_accuracy: 0.2600 - lr: 0.0010\n",
            "Epoch 6/30\n",
            "23/23 [==============================] - ETA: 0s - loss: 0.3621 - categorical_accuracy: 0.8824\n",
            "Epoch 00006: saving model to model_1_2022-01-1012_43_34.967286/model-00006-0.36206-0.88235-5.47687-0.30000.h5\n",
            "23/23 [==============================] - 36s 2s/step - loss: 0.3621 - categorical_accuracy: 0.8824 - val_loss: 5.4769 - val_categorical_accuracy: 0.3000 - lr: 2.0000e-04\n",
            "Epoch 7/30\n",
            "23/23 [==============================] - ETA: 0s - loss: 0.2841 - categorical_accuracy: 0.9035\n",
            "Epoch 00007: saving model to model_1_2022-01-1012_43_34.967286/model-00007-0.28408-0.90347-5.25707-0.28000.h5\n",
            "23/23 [==============================] - 37s 2s/step - loss: 0.2841 - categorical_accuracy: 0.9035 - val_loss: 5.2571 - val_categorical_accuracy: 0.2800 - lr: 2.0000e-04\n",
            "Epoch 8/30\n",
            "23/23 [==============================] - ETA: 0s - loss: 0.2893 - categorical_accuracy: 0.9050\n",
            "Epoch 00008: saving model to model_1_2022-01-1012_43_34.967286/model-00008-0.28925-0.90498-4.89096-0.24000.h5\n",
            "23/23 [==============================] - 36s 2s/step - loss: 0.2893 - categorical_accuracy: 0.9050 - val_loss: 4.8910 - val_categorical_accuracy: 0.2400 - lr: 2.0000e-04\n",
            "Epoch 9/30\n",
            "23/23 [==============================] - ETA: 0s - loss: 0.2475 - categorical_accuracy: 0.9125\n",
            "Epoch 00009: saving model to model_1_2022-01-1012_43_34.967286/model-00009-0.24754-0.91252-4.43500-0.31000.h5\n",
            "\n",
            "Epoch 00009: ReduceLROnPlateau reducing learning rate to 4.0000001899898055e-05.\n",
            "23/23 [==============================] - 40s 2s/step - loss: 0.2475 - categorical_accuracy: 0.9125 - val_loss: 4.4350 - val_categorical_accuracy: 0.3100 - lr: 2.0000e-04\n",
            "Epoch 10/30\n",
            "23/23 [==============================] - ETA: 0s - loss: 0.2246 - categorical_accuracy: 0.9336\n",
            "Epoch 00010: saving model to model_1_2022-01-1012_43_34.967286/model-00010-0.22459-0.93363-4.22435-0.32000.h5\n",
            "23/23 [==============================] - 37s 2s/step - loss: 0.2246 - categorical_accuracy: 0.9336 - val_loss: 4.2243 - val_categorical_accuracy: 0.3200 - lr: 4.0000e-05\n",
            "Epoch 11/30\n",
            "23/23 [==============================] - ETA: 0s - loss: 0.2271 - categorical_accuracy: 0.9336\n",
            "Epoch 00011: saving model to model_1_2022-01-1012_43_34.967286/model-00011-0.22710-0.93363-4.02025-0.30000.h5\n",
            "23/23 [==============================] - 37s 2s/step - loss: 0.2271 - categorical_accuracy: 0.9336 - val_loss: 4.0203 - val_categorical_accuracy: 0.3000 - lr: 4.0000e-05\n",
            "Epoch 12/30\n",
            "23/23 [==============================] - ETA: 0s - loss: 0.1999 - categorical_accuracy: 0.9336\n",
            "Epoch 00012: saving model to model_1_2022-01-1012_43_34.967286/model-00012-0.19993-0.93363-3.63158-0.33000.h5\n",
            "23/23 [==============================] - 40s 2s/step - loss: 0.1999 - categorical_accuracy: 0.9336 - val_loss: 3.6316 - val_categorical_accuracy: 0.3300 - lr: 4.0000e-05\n",
            "Epoch 13/30\n",
            "23/23 [==============================] - ETA: 0s - loss: 0.2172 - categorical_accuracy: 0.9321\n",
            "Epoch 00013: saving model to model_1_2022-01-1012_43_34.967286/model-00013-0.21721-0.93213-3.44529-0.31000.h5\n",
            "\n",
            "Epoch 00013: ReduceLROnPlateau reducing learning rate to 8.000000525498762e-06.\n",
            "23/23 [==============================] - 36s 2s/step - loss: 0.2172 - categorical_accuracy: 0.9321 - val_loss: 3.4453 - val_categorical_accuracy: 0.3100 - lr: 4.0000e-05\n",
            "Epoch 14/30\n",
            "23/23 [==============================] - ETA: 0s - loss: 0.2234 - categorical_accuracy: 0.9367\n",
            "Epoch 00014: saving model to model_1_2022-01-1012_43_34.967286/model-00014-0.22341-0.93665-3.37961-0.30000.h5\n",
            "23/23 [==============================] - 40s 2s/step - loss: 0.2234 - categorical_accuracy: 0.9367 - val_loss: 3.3796 - val_categorical_accuracy: 0.3000 - lr: 8.0000e-06\n",
            "Epoch 15/30\n",
            "23/23 [==============================] - ETA: 0s - loss: 0.2422 - categorical_accuracy: 0.9261\n",
            "Epoch 00015: saving model to model_1_2022-01-1012_43_34.967286/model-00015-0.24224-0.92609-3.14189-0.30000.h5\n",
            "23/23 [==============================] - 40s 2s/step - loss: 0.2422 - categorical_accuracy: 0.9261 - val_loss: 3.1419 - val_categorical_accuracy: 0.3000 - lr: 8.0000e-06\n",
            "Epoch 16/30\n",
            "23/23 [==============================] - ETA: 0s - loss: 0.2101 - categorical_accuracy: 0.9351\n",
            "Epoch 00016: saving model to model_1_2022-01-1012_43_34.967286/model-00016-0.21014-0.93514-2.90199-0.32000.h5\n",
            "23/23 [==============================] - 36s 2s/step - loss: 0.2101 - categorical_accuracy: 0.9351 - val_loss: 2.9020 - val_categorical_accuracy: 0.3200 - lr: 8.0000e-06\n",
            "Epoch 17/30\n",
            "23/23 [==============================] - ETA: 0s - loss: 0.1985 - categorical_accuracy: 0.9382\n",
            "Epoch 00017: saving model to model_1_2022-01-1012_43_34.967286/model-00017-0.19847-0.93816-2.62990-0.34000.h5\n",
            "\n",
            "Epoch 00017: ReduceLROnPlateau reducing learning rate to 1.6000001778593287e-06.\n",
            "23/23 [==============================] - 36s 2s/step - loss: 0.1985 - categorical_accuracy: 0.9382 - val_loss: 2.6299 - val_categorical_accuracy: 0.3400 - lr: 8.0000e-06\n",
            "Epoch 18/30\n",
            "23/23 [==============================] - ETA: 0s - loss: 0.2306 - categorical_accuracy: 0.9306\n",
            "Epoch 00018: saving model to model_1_2022-01-1012_43_34.967286/model-00018-0.23057-0.93062-2.55975-0.34000.h5\n",
            "23/23 [==============================] - 40s 2s/step - loss: 0.2306 - categorical_accuracy: 0.9306 - val_loss: 2.5597 - val_categorical_accuracy: 0.3400 - lr: 1.6000e-06\n",
            "Epoch 19/30\n",
            "23/23 [==============================] - ETA: 0s - loss: 0.1946 - categorical_accuracy: 0.9472\n",
            "Epoch 00019: saving model to model_1_2022-01-1012_43_34.967286/model-00019-0.19464-0.94721-2.16099-0.41000.h5\n",
            "23/23 [==============================] - 40s 2s/step - loss: 0.1946 - categorical_accuracy: 0.9472 - val_loss: 2.1610 - val_categorical_accuracy: 0.4100 - lr: 1.6000e-06\n",
            "Epoch 20/30\n",
            "23/23 [==============================] - ETA: 0s - loss: 0.1700 - categorical_accuracy: 0.9502\n",
            "Epoch 00020: saving model to model_1_2022-01-1012_43_34.967286/model-00020-0.16995-0.95023-2.10072-0.40000.h5\n",
            "23/23 [==============================] - 36s 2s/step - loss: 0.1700 - categorical_accuracy: 0.9502 - val_loss: 2.1007 - val_categorical_accuracy: 0.4000 - lr: 1.6000e-06\n",
            "Epoch 21/30\n",
            "23/23 [==============================] - ETA: 0s - loss: 0.2209 - categorical_accuracy: 0.9321\n",
            "Epoch 00021: saving model to model_1_2022-01-1012_43_34.967286/model-00021-0.22090-0.93213-1.82677-0.45000.h5\n",
            "\n",
            "Epoch 00021: ReduceLROnPlateau reducing learning rate to 3.200000264769187e-07.\n",
            "23/23 [==============================] - 37s 2s/step - loss: 0.2209 - categorical_accuracy: 0.9321 - val_loss: 1.8268 - val_categorical_accuracy: 0.4500 - lr: 1.6000e-06\n",
            "Epoch 22/30\n",
            "23/23 [==============================] - ETA: 0s - loss: 0.2036 - categorical_accuracy: 0.9472\n",
            "Epoch 00022: saving model to model_1_2022-01-1012_43_34.967286/model-00022-0.20358-0.94721-1.63622-0.53000.h5\n",
            "23/23 [==============================] - 37s 2s/step - loss: 0.2036 - categorical_accuracy: 0.9472 - val_loss: 1.6362 - val_categorical_accuracy: 0.5300 - lr: 3.2000e-07\n",
            "Epoch 23/30\n",
            "23/23 [==============================] - ETA: 0s - loss: 0.2236 - categorical_accuracy: 0.9427\n",
            "Epoch 00023: saving model to model_1_2022-01-1012_43_34.967286/model-00023-0.22364-0.94268-1.49890-0.48000.h5\n",
            "23/23 [==============================] - 37s 2s/step - loss: 0.2236 - categorical_accuracy: 0.9427 - val_loss: 1.4989 - val_categorical_accuracy: 0.4800 - lr: 3.2000e-07\n",
            "Epoch 24/30\n",
            "23/23 [==============================] - ETA: 0s - loss: 0.2388 - categorical_accuracy: 0.9291\n",
            "Epoch 00024: saving model to model_1_2022-01-1012_43_34.967286/model-00024-0.23884-0.92911-1.39133-0.59000.h5\n",
            "23/23 [==============================] - 36s 2s/step - loss: 0.2388 - categorical_accuracy: 0.9291 - val_loss: 1.3913 - val_categorical_accuracy: 0.5900 - lr: 3.2000e-07\n",
            "Epoch 25/30\n",
            "23/23 [==============================] - ETA: 0s - loss: 0.1939 - categorical_accuracy: 0.9487\n",
            "Epoch 00025: saving model to model_1_2022-01-1012_43_34.967286/model-00025-0.19392-0.94872-1.18800-0.63000.h5\n",
            "23/23 [==============================] - 37s 2s/step - loss: 0.1939 - categorical_accuracy: 0.9487 - val_loss: 1.1880 - val_categorical_accuracy: 0.6300 - lr: 3.2000e-07\n",
            "Epoch 26/30\n",
            "23/23 [==============================] - ETA: 0s - loss: 0.2038 - categorical_accuracy: 0.9442\n",
            "Epoch 00026: saving model to model_1_2022-01-1012_43_34.967286/model-00026-0.20381-0.94419-0.96625-0.67000.h5\n",
            "23/23 [==============================] - 40s 2s/step - loss: 0.2038 - categorical_accuracy: 0.9442 - val_loss: 0.9662 - val_categorical_accuracy: 0.6700 - lr: 3.2000e-07\n",
            "Epoch 27/30\n",
            "23/23 [==============================] - ETA: 0s - loss: 0.1989 - categorical_accuracy: 0.9472\n",
            "Epoch 00027: saving model to model_1_2022-01-1012_43_34.967286/model-00027-0.19894-0.94721-0.85932-0.69000.h5\n",
            "23/23 [==============================] - 37s 2s/step - loss: 0.1989 - categorical_accuracy: 0.9472 - val_loss: 0.8593 - val_categorical_accuracy: 0.6900 - lr: 3.2000e-07\n",
            "Epoch 28/30\n",
            "23/23 [==============================] - ETA: 0s - loss: 0.2024 - categorical_accuracy: 0.9412\n",
            "Epoch 00028: saving model to model_1_2022-01-1012_43_34.967286/model-00028-0.20237-0.94118-0.91930-0.69000.h5\n",
            "23/23 [==============================] - 36s 2s/step - loss: 0.2024 - categorical_accuracy: 0.9412 - val_loss: 0.9193 - val_categorical_accuracy: 0.6900 - lr: 3.2000e-07\n",
            "Epoch 29/30\n",
            "23/23 [==============================] - ETA: 0s - loss: 0.1909 - categorical_accuracy: 0.9442\n",
            "Epoch 00029: saving model to model_1_2022-01-1012_43_34.967286/model-00029-0.19085-0.94419-0.82183-0.75000.h5\n",
            "23/23 [==============================] - 37s 2s/step - loss: 0.1909 - categorical_accuracy: 0.9442 - val_loss: 0.8218 - val_categorical_accuracy: 0.7500 - lr: 3.2000e-07\n",
            "Epoch 30/30\n",
            "23/23 [==============================] - ETA: 0s - loss: 0.2021 - categorical_accuracy: 0.9472\n",
            "Epoch 00030: saving model to model_1_2022-01-1012_43_34.967286/model-00030-0.20205-0.94721-0.53654-0.83000.h5\n",
            "23/23 [==============================] - 37s 2s/step - loss: 0.2021 - categorical_accuracy: 0.9472 - val_loss: 0.5365 - val_categorical_accuracy: 0.8300 - lr: 3.2000e-07\n"
          ]
        }
      ]
    },
    {
      "cell_type": "code",
      "source": [
        "# plotting the history for model_1\n",
        "accuracy_loss_plot(history_1, 'model_1')"
      ],
      "metadata": {
        "colab": {
          "base_uri": "https://localhost:8080/",
          "height": 294
        },
        "id": "QVlfBmH_knt9",
        "outputId": "8ef12ac6-ae34-41b9-834f-ba921a0d07eb"
      },
      "execution_count": 20,
      "outputs": [
        {
          "output_type": "display_data",
          "data": {
            "image/png": "[encoded data removed]",
            "text/plain": [
              "<Figure size 720x288 with 2 Axes>"
            ]
          },
          "metadata": {
            "needs_background": "light"
          }
        }
      ]
    },
    {
      "cell_type": "code",
      "source": [
        "# # # downloading the final h5 file from model_1\n",
        "# # from google.colab import files\n",
        "\n",
        "# file_list = glob.glob(model_1_path)\n",
        "# f =max(file_list, key=os.path.getctime)\n",
        "# # files.download(max(file_list, key=os.path.getctime)) \n",
        "# file_model_1 = h5py.File(f, 'r')\n",
        "# dset = file_model_1['key']\n",
        "# data = np.array(dset[:,:,:])\n",
        "# file_1 = 'test.jpg'\n",
        "# cv2.imwrite(file_1, data)\n",
        "# cv2.imshow(file_1)"
      ],
      "metadata": {
        "id": "tDT9wRFcp5yk"
      },
      "execution_count": 21,
      "outputs": []
    },
    {
      "cell_type": "markdown",
      "source": [
        "### Model-2 : 3D convolution with 15 frames using an image size of 120x120 with a batch size of 30 run for 30 epochs for convolution layers of (32, 64, 128) and dense layers of (256, 256) using kernal initializer"
      ],
      "metadata": {
        "id": "T_oahoaHNhrw"
      }
    },
    {
      "cell_type": "code",
      "source": [
        "n_frames = 15\n",
        "frame_size_x = 120\n",
        "frame_size_y = 120\n",
        "batch_size = 30\n",
        "n_epochs = 30"
      ],
      "metadata": {
        "id": "x241ZUsEWpNz"
      },
      "execution_count": 22,
      "outputs": []
    },
    {
      "cell_type": "code",
      "source": [
        "# adding optimizer and summarizing the model-2\n",
        "model_2 = conv3D_model(conv_layers=(32,64,128), dense_layers=(256,256),\n",
        "                       dropout=0.25, n_frames=n_frames, \n",
        "                       frame_size_x=frame_size_x, frame_size_y=frame_size_y)\n",
        "optimiser = optimizers.Adam(learning_rate=0.001)\n",
        "model_2.compile(optimizer=optimiser, loss='categorical_crossentropy', metrics=['categorical_accuracy'])\n",
        "model_2.summary()"
      ],
      "metadata": {
        "id": "OuQrLlFMuuTK",
        "colab": {
          "base_uri": "https://localhost:8080/"
        },
        "outputId": "76909248-af53-4a43-bc8d-bc379ad8de9b"
      },
      "execution_count": 23,
      "outputs": [
        {
          "output_type": "stream",
          "name": "stdout",
          "text": [
            "Model: \"sequential_1\"\n",
            "_________________________________________________________________\n",
            " Layer (type)                Output Shape              Param #   \n",
            "=================================================================\n",
            " conv3d_3 (Conv3D)           (None, 15, 120, 120, 32)  2624      \n",
            "                                                                 \n",
            " activation_3 (Activation)   (None, 15, 120, 120, 32)  0         \n",
            "                                                                 \n",
            " batch_normalization_5 (Batc  (None, 15, 120, 120, 32)  128      \n",
            " hNormalization)                                                 \n",
            "                                                                 \n",
            " max_pooling3d_3 (MaxPooling  (None, 7, 60, 60, 32)    0         \n",
            " 3D)                                                             \n",
            "                                                                 \n",
            " conv3d_4 (Conv3D)           (None, 7, 60, 60, 64)     16448     \n",
            "                                                                 \n",
            " activation_4 (Activation)   (None, 7, 60, 60, 64)     0         \n",
            "                                                                 \n",
            " batch_normalization_6 (Batc  (None, 7, 60, 60, 64)    256       \n",
            " hNormalization)                                                 \n",
            "                                                                 \n",
            " max_pooling3d_4 (MaxPooling  (None, 3, 30, 30, 64)    0         \n",
            " 3D)                                                             \n",
            "                                                                 \n",
            " conv3d_5 (Conv3D)           (None, 3, 30, 30, 128)    65664     \n",
            "                                                                 \n",
            " activation_5 (Activation)   (None, 3, 30, 30, 128)    0         \n",
            "                                                                 \n",
            " batch_normalization_7 (Batc  (None, 3, 30, 30, 128)   512       \n",
            " hNormalization)                                                 \n",
            "                                                                 \n",
            " max_pooling3d_5 (MaxPooling  (None, 1, 15, 15, 128)   0         \n",
            " 3D)                                                             \n",
            "                                                                 \n",
            " flatten_1 (Flatten)         (None, 28800)             0         \n",
            "                                                                 \n",
            " dense_3 (Dense)             (None, 256)               7373056   \n",
            "                                                                 \n",
            " batch_normalization_8 (Batc  (None, 256)              1024      \n",
            " hNormalization)                                                 \n",
            "                                                                 \n",
            " dropout_2 (Dropout)         (None, 256)               0         \n",
            "                                                                 \n",
            " dense_4 (Dense)             (None, 256)               65792     \n",
            "                                                                 \n",
            " batch_normalization_9 (Batc  (None, 256)              1024      \n",
            " hNormalization)                                                 \n",
            "                                                                 \n",
            " dropout_3 (Dropout)         (None, 256)               0         \n",
            "                                                                 \n",
            " dense_5 (Dense)             (None, 5)                 1285      \n",
            "                                                                 \n",
            "=================================================================\n",
            "Total params: 7,527,813\n",
            "Trainable params: 7,526,341\n",
            "Non-trainable params: 1,472\n",
            "_________________________________________________________________\n"
          ]
        }
      ]
    },
    {
      "cell_type": "code",
      "source": [
        "# fetching all the parameters for model-2 fitting\n",
        "train_generator = generator(train_path, train_doc, batch_size, n_frames, frame_size_x, frame_size_y)\n",
        "val_generator = generator(val_path, val_doc, batch_size, n_frames, frame_size_x, frame_size_y)\n",
        "model_2_path, callbacks_list = model_callbacks('model_2')\n",
        "epoch_steps, val_steps = n_steps(num_train_sequences, num_val_sequences, batch_size)"
      ],
      "metadata": {
        "colab": {
          "base_uri": "https://localhost:8080/"
        },
        "id": "0GNZ3VOeW3oS",
        "outputId": "0c043604-fbd7-4c9e-ee38-ddefec453607"
      },
      "execution_count": 24,
      "outputs": [
        {
          "output_type": "stream",
          "name": "stdout",
          "text": [
            "WARNING:tensorflow:`period` argument is deprecated. Please use `save_freq` to specify the frequency in number of batches seen.\n"
          ]
        }
      ]
    },
    {
      "cell_type": "code",
      "source": [
        "history_2 = model_2.fit_generator(train_generator, steps_per_epoch=epoch_steps,\n",
        "                                  epochs=n_epochs, callbacks=callbacks_list, \n",
        "                                  validation_data=val_generator, validation_steps=val_steps,\n",
        "                                  class_weight=None, workers=1, initial_epoch=0,\n",
        "                                  verbose=1)"
      ],
      "metadata": {
        "colab": {
          "base_uri": "https://localhost:8080/"
        },
        "id": "zsImdaeLXBSA",
        "outputId": "6cabd5a9-2e0a-4e98-a34c-939f28279130"
      },
      "execution_count": 25,
      "outputs": [
        {
          "output_type": "stream",
          "name": "stdout",
          "text": [
            "Source path =  /content/Gesture_assignment/Project_data/train \n",
            " batch size = 30 \n",
            " No. of images from each folder = 15 \n",
            " Normalized image size = 120 x 120\n"
          ]
        },
        {
          "output_type": "stream",
          "name": "stderr",
          "text": [
            "/usr/local/lib/python3.7/dist-packages/ipykernel_launcher.py:5: UserWarning: `Model.fit_generator` is deprecated and will be removed in a future version. Please use `Model.fit`, which supports generators.\n",
            "  \"\"\"\n"
          ]
        },
        {
          "output_type": "stream",
          "name": "stdout",
          "text": [
            "Epoch 1/30\n",
            "23/23 [==============================] - ETA: 0s - loss: 1.4755 - categorical_accuracy: 0.5023Source path =  /content/Gesture_assignment/Project_data/val \n",
            " batch size = 30 \n",
            " No. of images from each folder = 15 \n",
            " Normalized image size = 120 x 120\n",
            "\n",
            "Epoch 00001: saving model to model_2_2022-01-1013_03_00.460728/model-00001-1.47551-0.50226-10.28210-0.23000.h5\n",
            "23/23 [==============================] - 41s 2s/step - loss: 1.4755 - categorical_accuracy: 0.5023 - val_loss: 10.2821 - val_categorical_accuracy: 0.2300 - lr: 0.0010\n",
            "Epoch 2/30\n",
            "23/23 [==============================] - ETA: 0s - loss: 0.6338 - categorical_accuracy: 0.7421\n",
            "Epoch 00002: saving model to model_2_2022-01-1013_03_00.460728/model-00002-0.63376-0.74208-1.85931-0.36000.h5\n",
            "23/23 [==============================] - 39s 2s/step - loss: 0.6338 - categorical_accuracy: 0.7421 - val_loss: 1.8593 - val_categorical_accuracy: 0.3600 - lr: 0.0010\n",
            "Epoch 3/30\n",
            "23/23 [==============================] - ETA: 0s - loss: 0.4622 - categorical_accuracy: 0.8220\n",
            "Epoch 00003: saving model to model_2_2022-01-1013_03_00.460728/model-00003-0.46215-0.82202-3.10045-0.25000.h5\n",
            "23/23 [==============================] - 39s 2s/step - loss: 0.4622 - categorical_accuracy: 0.8220 - val_loss: 3.1004 - val_categorical_accuracy: 0.2500 - lr: 0.0010\n",
            "Epoch 4/30\n",
            "23/23 [==============================] - ETA: 0s - loss: 0.2933 - categorical_accuracy: 0.8929\n",
            "Epoch 00004: saving model to model_2_2022-01-1013_03_00.460728/model-00004-0.29332-0.89291-3.07184-0.34000.h5\n",
            "23/23 [==============================] - 42s 2s/step - loss: 0.2933 - categorical_accuracy: 0.8929 - val_loss: 3.0718 - val_categorical_accuracy: 0.3400 - lr: 0.0010\n",
            "Epoch 5/30\n",
            "23/23 [==============================] - ETA: 0s - loss: 0.2059 - categorical_accuracy: 0.9321\n",
            "Epoch 00005: saving model to model_2_2022-01-1013_03_00.460728/model-00005-0.20594-0.93213-4.13607-0.22000.h5\n",
            "23/23 [==============================] - 40s 2s/step - loss: 0.2059 - categorical_accuracy: 0.9321 - val_loss: 4.1361 - val_categorical_accuracy: 0.2200 - lr: 0.0010\n",
            "Epoch 6/30\n",
            "23/23 [==============================] - ETA: 0s - loss: 0.1174 - categorical_accuracy: 0.9683\n",
            "Epoch 00006: saving model to model_2_2022-01-1013_03_00.460728/model-00006-0.11745-0.96833-5.14618-0.24000.h5\n",
            "\n",
            "Epoch 00006: ReduceLROnPlateau reducing learning rate to 0.00020000000949949026.\n",
            "23/23 [==============================] - 39s 2s/step - loss: 0.1174 - categorical_accuracy: 0.9683 - val_loss: 5.1462 - val_categorical_accuracy: 0.2400 - lr: 0.0010\n",
            "Epoch 7/30\n",
            "23/23 [==============================] - ETA: 0s - loss: 0.1004 - categorical_accuracy: 0.9789\n",
            "Epoch 00007: saving model to model_2_2022-01-1013_03_00.460728/model-00007-0.10039-0.97888-4.42532-0.31000.h5\n",
            "23/23 [==============================] - 39s 2s/step - loss: 0.1004 - categorical_accuracy: 0.9789 - val_loss: 4.4253 - val_categorical_accuracy: 0.3100 - lr: 2.0000e-04\n",
            "Epoch 8/30\n",
            "23/23 [==============================] - ETA: 0s - loss: 0.0611 - categorical_accuracy: 0.9910\n",
            "Epoch 00008: saving model to model_2_2022-01-1013_03_00.460728/model-00008-0.06109-0.99095-4.31624-0.31000.h5\n",
            "23/23 [==============================] - 38s 2s/step - loss: 0.0611 - categorical_accuracy: 0.9910 - val_loss: 4.3162 - val_categorical_accuracy: 0.3100 - lr: 2.0000e-04\n",
            "Epoch 9/30\n",
            "23/23 [==============================] - ETA: 0s - loss: 0.0536 - categorical_accuracy: 0.9864\n",
            "Epoch 00009: saving model to model_2_2022-01-1013_03_00.460728/model-00009-0.05360-0.98643-3.83937-0.32000.h5\n",
            "23/23 [==============================] - 38s 2s/step - loss: 0.0536 - categorical_accuracy: 0.9864 - val_loss: 3.8394 - val_categorical_accuracy: 0.3200 - lr: 2.0000e-04\n",
            "Epoch 10/30\n",
            "23/23 [==============================] - ETA: 0s - loss: 0.0644 - categorical_accuracy: 0.9849\n",
            "Epoch 00010: saving model to model_2_2022-01-1013_03_00.460728/model-00010-0.06444-0.98492-3.64579-0.33000.h5\n",
            "\n",
            "Epoch 00010: ReduceLROnPlateau reducing learning rate to 4.0000001899898055e-05.\n",
            "23/23 [==============================] - 39s 2s/step - loss: 0.0644 - categorical_accuracy: 0.9849 - val_loss: 3.6458 - val_categorical_accuracy: 0.3300 - lr: 2.0000e-04\n",
            "Epoch 11/30\n",
            "23/23 [==============================] - ETA: 0s - loss: 0.0627 - categorical_accuracy: 0.9879\n",
            "Epoch 00011: saving model to model_2_2022-01-1013_03_00.460728/model-00011-0.06266-0.98793-3.09613-0.36000.h5\n",
            "23/23 [==============================] - 39s 2s/step - loss: 0.0627 - categorical_accuracy: 0.9879 - val_loss: 3.0961 - val_categorical_accuracy: 0.3600 - lr: 4.0000e-05\n",
            "Epoch 12/30\n",
            "23/23 [==============================] - ETA: 0s - loss: 0.0525 - categorical_accuracy: 0.9910\n",
            "Epoch 00012: saving model to model_2_2022-01-1013_03_00.460728/model-00012-0.05255-0.99095-3.13499-0.36000.h5\n",
            "23/23 [==============================] - 38s 2s/step - loss: 0.0525 - categorical_accuracy: 0.9910 - val_loss: 3.1350 - val_categorical_accuracy: 0.3600 - lr: 4.0000e-05\n",
            "Epoch 13/30\n",
            "23/23 [==============================] - ETA: 0s - loss: 0.0678 - categorical_accuracy: 0.9819\n",
            "Epoch 00013: saving model to model_2_2022-01-1013_03_00.460728/model-00013-0.06781-0.98190-2.92484-0.39000.h5\n",
            "23/23 [==============================] - 38s 2s/step - loss: 0.0678 - categorical_accuracy: 0.9819 - val_loss: 2.9248 - val_categorical_accuracy: 0.3900 - lr: 4.0000e-05\n",
            "Epoch 14/30\n",
            "23/23 [==============================] - ETA: 0s - loss: 0.0464 - categorical_accuracy: 0.9864\n",
            "Epoch 00014: saving model to model_2_2022-01-1013_03_00.460728/model-00014-0.04643-0.98643-2.62809-0.43000.h5\n",
            "\n",
            "Epoch 00014: ReduceLROnPlateau reducing learning rate to 8.000000525498762e-06.\n",
            "23/23 [==============================] - 39s 2s/step - loss: 0.0464 - categorical_accuracy: 0.9864 - val_loss: 2.6281 - val_categorical_accuracy: 0.4300 - lr: 4.0000e-05\n",
            "Epoch 15/30\n",
            "23/23 [==============================] - ETA: 0s - loss: 0.0535 - categorical_accuracy: 0.9864\n",
            "Epoch 00015: saving model to model_2_2022-01-1013_03_00.460728/model-00015-0.05346-0.98643-2.46584-0.39000.h5\n",
            "23/23 [==============================] - 39s 2s/step - loss: 0.0535 - categorical_accuracy: 0.9864 - val_loss: 2.4658 - val_categorical_accuracy: 0.3900 - lr: 8.0000e-06\n",
            "Epoch 16/30\n",
            "23/23 [==============================] - ETA: 0s - loss: 0.0521 - categorical_accuracy: 0.9864\n",
            "Epoch 00016: saving model to model_2_2022-01-1013_03_00.460728/model-00016-0.05209-0.98643-2.23652-0.42000.h5\n",
            "23/23 [==============================] - 38s 2s/step - loss: 0.0521 - categorical_accuracy: 0.9864 - val_loss: 2.2365 - val_categorical_accuracy: 0.4200 - lr: 8.0000e-06\n",
            "Epoch 17/30\n",
            "23/23 [==============================] - ETA: 0s - loss: 0.0595 - categorical_accuracy: 0.9864\n",
            "Epoch 00017: saving model to model_2_2022-01-1013_03_00.460728/model-00017-0.05954-0.98643-1.93741-0.45000.h5\n",
            "23/23 [==============================] - 39s 2s/step - loss: 0.0595 - categorical_accuracy: 0.9864 - val_loss: 1.9374 - val_categorical_accuracy: 0.4500 - lr: 8.0000e-06\n",
            "Epoch 18/30\n",
            "23/23 [==============================] - ETA: 0s - loss: 0.0464 - categorical_accuracy: 0.9925\n",
            "Epoch 00018: saving model to model_2_2022-01-1013_03_00.460728/model-00018-0.04643-0.99246-1.40358-0.53000.h5\n",
            "23/23 [==============================] - 42s 2s/step - loss: 0.0464 - categorical_accuracy: 0.9925 - val_loss: 1.4036 - val_categorical_accuracy: 0.5300 - lr: 8.0000e-06\n",
            "Epoch 19/30\n",
            "23/23 [==============================] - ETA: 0s - loss: 0.0541 - categorical_accuracy: 0.9910\n",
            "Epoch 00019: saving model to model_2_2022-01-1013_03_00.460728/model-00019-0.05409-0.99095-1.48135-0.56000.h5\n",
            "23/23 [==============================] - 42s 2s/step - loss: 0.0541 - categorical_accuracy: 0.9910 - val_loss: 1.4813 - val_categorical_accuracy: 0.5600 - lr: 8.0000e-06\n",
            "Epoch 20/30\n",
            "23/23 [==============================] - ETA: 0s - loss: 0.0444 - categorical_accuracy: 0.9925\n",
            "Epoch 00020: saving model to model_2_2022-01-1013_03_00.460728/model-00020-0.04435-0.99246-1.39502-0.59000.h5\n",
            "23/23 [==============================] - 38s 2s/step - loss: 0.0444 - categorical_accuracy: 0.9925 - val_loss: 1.3950 - val_categorical_accuracy: 0.5900 - lr: 8.0000e-06\n",
            "Epoch 21/30\n",
            "23/23 [==============================] - ETA: 0s - loss: 0.0548 - categorical_accuracy: 0.9849\n",
            "Epoch 00021: saving model to model_2_2022-01-1013_03_00.460728/model-00021-0.05483-0.98492-1.19949-0.60000.h5\n",
            "23/23 [==============================] - 39s 2s/step - loss: 0.0548 - categorical_accuracy: 0.9849 - val_loss: 1.1995 - val_categorical_accuracy: 0.6000 - lr: 8.0000e-06\n",
            "Epoch 22/30\n",
            "23/23 [==============================] - ETA: 0s - loss: 0.0585 - categorical_accuracy: 0.9894\n",
            "Epoch 00022: saving model to model_2_2022-01-1013_03_00.460728/model-00022-0.05847-0.98944-1.07988-0.63000.h5\n",
            "23/23 [==============================] - 39s 2s/step - loss: 0.0585 - categorical_accuracy: 0.9894 - val_loss: 1.0799 - val_categorical_accuracy: 0.6300 - lr: 8.0000e-06\n",
            "Epoch 23/30\n",
            "23/23 [==============================] - ETA: 0s - loss: 0.0448 - categorical_accuracy: 0.9910\n",
            "Epoch 00023: saving model to model_2_2022-01-1013_03_00.460728/model-00023-0.04484-0.99095-1.00913-0.69000.h5\n",
            "23/23 [==============================] - 39s 2s/step - loss: 0.0448 - categorical_accuracy: 0.9910 - val_loss: 1.0091 - val_categorical_accuracy: 0.6900 - lr: 8.0000e-06\n",
            "Epoch 24/30\n",
            "23/23 [==============================] - ETA: 0s - loss: 0.0483 - categorical_accuracy: 0.9910\n",
            "Epoch 00024: saving model to model_2_2022-01-1013_03_00.460728/model-00024-0.04834-0.99095-0.90548-0.72000.h5\n",
            "23/23 [==============================] - 38s 2s/step - loss: 0.0483 - categorical_accuracy: 0.9910 - val_loss: 0.9055 - val_categorical_accuracy: 0.7200 - lr: 8.0000e-06\n",
            "Epoch 25/30\n",
            "23/23 [==============================] - ETA: 0s - loss: 0.0381 - categorical_accuracy: 0.9940\n",
            "Epoch 00025: saving model to model_2_2022-01-1013_03_00.460728/model-00025-0.03814-0.99397-0.79365-0.80000.h5\n",
            "23/23 [==============================] - 39s 2s/step - loss: 0.0381 - categorical_accuracy: 0.9940 - val_loss: 0.7937 - val_categorical_accuracy: 0.8000 - lr: 8.0000e-06\n",
            "Epoch 26/30\n",
            "23/23 [==============================] - ETA: 0s - loss: 0.0555 - categorical_accuracy: 0.9910\n",
            "Epoch 00026: saving model to model_2_2022-01-1013_03_00.460728/model-00026-0.05546-0.99095-0.81335-0.76000.h5\n",
            "23/23 [==============================] - 39s 2s/step - loss: 0.0555 - categorical_accuracy: 0.9910 - val_loss: 0.8133 - val_categorical_accuracy: 0.7600 - lr: 8.0000e-06\n",
            "Epoch 27/30\n",
            "23/23 [==============================] - ETA: 0s - loss: 0.0473 - categorical_accuracy: 0.9925\n",
            "Epoch 00027: saving model to model_2_2022-01-1013_03_00.460728/model-00027-0.04728-0.99246-0.98186-0.76000.h5\n",
            "23/23 [==============================] - 39s 2s/step - loss: 0.0473 - categorical_accuracy: 0.9925 - val_loss: 0.9819 - val_categorical_accuracy: 0.7600 - lr: 8.0000e-06\n",
            "Epoch 28/30\n",
            "23/23 [==============================] - ETA: 0s - loss: 0.0505 - categorical_accuracy: 0.9849\n",
            "Epoch 00028: saving model to model_2_2022-01-1013_03_00.460728/model-00028-0.05053-0.98492-0.61365-0.85000.h5\n",
            "23/23 [==============================] - 38s 2s/step - loss: 0.0505 - categorical_accuracy: 0.9849 - val_loss: 0.6136 - val_categorical_accuracy: 0.8500 - lr: 8.0000e-06\n",
            "Epoch 29/30\n",
            "23/23 [==============================] - ETA: 0s - loss: 0.0568 - categorical_accuracy: 0.9849\n",
            "Epoch 00029: saving model to model_2_2022-01-1013_03_00.460728/model-00029-0.05681-0.98492-0.68473-0.83000.h5\n",
            "23/23 [==============================] - 39s 2s/step - loss: 0.0568 - categorical_accuracy: 0.9849 - val_loss: 0.6847 - val_categorical_accuracy: 0.8300 - lr: 8.0000e-06\n",
            "Epoch 30/30\n",
            "23/23 [==============================] - ETA: 0s - loss: 0.0751 - categorical_accuracy: 0.9804\n",
            "Epoch 00030: saving model to model_2_2022-01-1013_03_00.460728/model-00030-0.07512-0.98039-0.76753-0.83000.h5\n",
            "23/23 [==============================] - 42s 2s/step - loss: 0.0751 - categorical_accuracy: 0.9804 - val_loss: 0.7675 - val_categorical_accuracy: 0.8300 - lr: 8.0000e-06\n"
          ]
        }
      ]
    },
    {
      "cell_type": "code",
      "source": [
        "# plotting the history for model_2\n",
        "accuracy_loss_plot(history_2, 'model_2')"
      ],
      "metadata": {
        "colab": {
          "base_uri": "https://localhost:8080/",
          "height": 294
        },
        "id": "ejiUtDwpXFnE",
        "outputId": "3f2fa1a7-4a2b-4d27-a5e3-2e8f4e016bee"
      },
      "execution_count": 26,
      "outputs": [
        {
          "output_type": "display_data",
          "data": {
            "image/png": "[encoded data removed]",
            "text/plain": [
              "<Figure size 720x288 with 2 Axes>"
            ]
          },
          "metadata": {
            "needs_background": "light"
          }
        }
      ]
    },
    {
      "cell_type": "markdown",
      "source": [
        "### Model-3 : 3D convolution with 18 frames using an image size of 160x160 with a batch size of 64 run for 10 epochs for convolution layers of (64, 128, 256) and dense layers of (256, 512) using kernal initializer"
      ],
      "metadata": {
        "id": "Zy4hzuA6c1Nn"
      }
    },
    {
      "cell_type": "code",
      "source": [
        "n_frames = 18\n",
        "frame_size_x = 160\n",
        "frame_size_y = 160\n",
        "batch_size = 20\n",
        "n_epochs = 10"
      ],
      "metadata": {
        "id": "bG2Sii-QdcyN"
      },
      "execution_count": 31,
      "outputs": []
    },
    {
      "cell_type": "code",
      "source": [
        "# adding optimizer and summarizing the model-3\n",
        "model_3 = conv3D_model(conv_layers=(16,32,64), dense_layers=(128,256),\n",
        "                       dropout=0.5, n_frames=n_frames, \n",
        "                       frame_size_x=frame_size_x, frame_size_y=frame_size_y)\n",
        "optimiser = optimizers.SGD(lr=0.001, decay=1e-6, momentum=0.7, nesterov=True)\n",
        "model_3.compile(optimizer=optimiser, loss='categorical_crossentropy', metrics=['categorical_accuracy'])\n",
        "model_3.summary()"
      ],
      "metadata": {
        "colab": {
          "base_uri": "https://localhost:8080/"
        },
        "id": "iprgiSPyddT7",
        "outputId": "23ac3da9-e1a2-42e6-e771-44b8dc4cb6c5"
      },
      "execution_count": 32,
      "outputs": [
        {
          "output_type": "stream",
          "name": "stdout",
          "text": [
            "Model: \"sequential_3\"\n",
            "_________________________________________________________________\n",
            " Layer (type)                Output Shape              Param #   \n",
            "=================================================================\n",
            " conv3d_9 (Conv3D)           (None, 18, 160, 160, 16)  1312      \n",
            "                                                                 \n",
            " activation_9 (Activation)   (None, 18, 160, 160, 16)  0         \n",
            "                                                                 \n",
            " batch_normalization_15 (Bat  (None, 18, 160, 160, 16)  64       \n",
            " chNormalization)                                                \n",
            "                                                                 \n",
            " max_pooling3d_9 (MaxPooling  (None, 9, 80, 80, 16)    0         \n",
            " 3D)                                                             \n",
            "                                                                 \n",
            " conv3d_10 (Conv3D)          (None, 9, 80, 80, 32)     4128      \n",
            "                                                                 \n",
            " activation_10 (Activation)  (None, 9, 80, 80, 32)     0         \n",
            "                                                                 \n",
            " batch_normalization_16 (Bat  (None, 9, 80, 80, 32)    128       \n",
            " chNormalization)                                                \n",
            "                                                                 \n",
            " max_pooling3d_10 (MaxPoolin  (None, 4, 40, 40, 32)    0         \n",
            " g3D)                                                            \n",
            "                                                                 \n",
            " conv3d_11 (Conv3D)          (None, 4, 40, 40, 64)     16448     \n",
            "                                                                 \n",
            " activation_11 (Activation)  (None, 4, 40, 40, 64)     0         \n",
            "                                                                 \n",
            " batch_normalization_17 (Bat  (None, 4, 40, 40, 64)    256       \n",
            " chNormalization)                                                \n",
            "                                                                 \n",
            " max_pooling3d_11 (MaxPoolin  (None, 2, 20, 20, 64)    0         \n",
            " g3D)                                                            \n",
            "                                                                 \n",
            " flatten_3 (Flatten)         (None, 51200)             0         \n",
            "                                                                 \n",
            " dense_9 (Dense)             (None, 256)               13107456  \n",
            "                                                                 \n",
            " batch_normalization_18 (Bat  (None, 256)              1024      \n",
            " chNormalization)                                                \n",
            "                                                                 \n",
            " dropout_6 (Dropout)         (None, 256)               0         \n",
            "                                                                 \n",
            " dense_10 (Dense)            (None, 128)               32896     \n",
            "                                                                 \n",
            " batch_normalization_19 (Bat  (None, 128)              512       \n",
            " chNormalization)                                                \n",
            "                                                                 \n",
            " dropout_7 (Dropout)         (None, 128)               0         \n",
            "                                                                 \n",
            " dense_11 (Dense)            (None, 5)                 645       \n",
            "                                                                 \n",
            "=================================================================\n",
            "Total params: 13,164,869\n",
            "Trainable params: 13,163,877\n",
            "Non-trainable params: 992\n",
            "_________________________________________________________________\n"
          ]
        },
        {
          "output_type": "stream",
          "name": "stderr",
          "text": [
            "/usr/local/lib/python3.7/dist-packages/keras/optimizer_v2/gradient_descent.py:102: UserWarning: The `lr` argument is deprecated, use `learning_rate` instead.\n",
            "  super(SGD, self).__init__(name, **kwargs)\n"
          ]
        }
      ]
    },
    {
      "cell_type": "code",
      "source": [
        "# fetching all the parameters for model-3 fitting\n",
        "train_generator = generator(train_path, train_doc, batch_size, n_frames, frame_size_x, frame_size_y)\n",
        "val_generator = generator(val_path, val_doc, batch_size, n_frames, frame_size_x, frame_size_y)\n",
        "model_3_path, callbacks_list = model_callbacks('model_3')\n",
        "epoch_steps, val_steps = n_steps(num_train_sequences, num_val_sequences, batch_size)"
      ],
      "metadata": {
        "colab": {
          "base_uri": "https://localhost:8080/"
        },
        "id": "6exLw-sPddpp",
        "outputId": "026a4e03-299a-4255-9d77-9258be44f5fb"
      },
      "execution_count": 33,
      "outputs": [
        {
          "output_type": "stream",
          "name": "stdout",
          "text": [
            "WARNING:tensorflow:`period` argument is deprecated. Please use `save_freq` to specify the frequency in number of batches seen.\n"
          ]
        }
      ]
    },
    {
      "cell_type": "code",
      "source": [
        "history_3 = model_3.fit_generator(train_generator, steps_per_epoch=epoch_steps,\n",
        "                                  epochs=n_epochs, callbacks=callbacks_list, \n",
        "                                  validation_data=val_generator, validation_steps=val_steps,\n",
        "                                  class_weight=None, workers=1, initial_epoch=0,\n",
        "                                  verbose=1)"
      ],
      "metadata": {
        "colab": {
          "base_uri": "https://localhost:8080/"
        },
        "id": "iQ8cpABYe9Cw",
        "outputId": "b218fc81-9a68-4c10-81c6-8de6b95c1a63"
      },
      "execution_count": 34,
      "outputs": [
        {
          "output_type": "stream",
          "name": "stderr",
          "text": [
            "/usr/local/lib/python3.7/dist-packages/ipykernel_launcher.py:5: UserWarning: `Model.fit_generator` is deprecated and will be removed in a future version. Please use `Model.fit`, which supports generators.\n",
            "  \"\"\"\n"
          ]
        },
        {
          "output_type": "stream",
          "name": "stdout",
          "text": [
            "Source path =  /content/Gesture_assignment/Project_data/train \n",
            " batch size = 20 \n",
            " No. of images from each folder = 18 \n",
            " Normalized image size = 160 x 160\n",
            "Epoch 1/10\n",
            "34/34 [==============================] - ETA: 0s - loss: 1.8504 - categorical_accuracy: 0.3967Source path =  /content/Gesture_assignment/Project_data/val \n",
            " batch size = 20 \n",
            " No. of images from each folder = 18 \n",
            " Normalized image size = 160 x 160\n",
            "\n",
            "Epoch 00001: saving model to model_3_2022-01-1013_25_27.534513/model-00001-1.85042-0.39668-2.37145-0.18000.h5\n",
            "34/34 [==============================] - 64s 2s/step - loss: 1.8504 - categorical_accuracy: 0.3967 - val_loss: 2.3714 - val_categorical_accuracy: 0.1800 - lr: 0.0010\n",
            "Epoch 2/10\n",
            "34/34 [==============================] - ETA: 0s - loss: 1.4153 - categorical_accuracy: 0.5204\n",
            "Epoch 00002: saving model to model_3_2022-01-1013_25_27.534513/model-00002-1.41534-0.52036-2.20624-0.28000.h5\n",
            "34/34 [==============================] - 54s 2s/step - loss: 1.4153 - categorical_accuracy: 0.5204 - val_loss: 2.2062 - val_categorical_accuracy: 0.2800 - lr: 0.0010\n",
            "Epoch 3/10\n",
            "34/34 [==============================] - ETA: 0s - loss: 1.0822 - categorical_accuracy: 0.5958\n",
            "Epoch 00003: saving model to model_3_2022-01-1013_25_27.534513/model-00003-1.08220-0.59578-2.57812-0.33000.h5\n",
            "34/34 [==============================] - 54s 2s/step - loss: 1.0822 - categorical_accuracy: 0.5958 - val_loss: 2.5781 - val_categorical_accuracy: 0.3300 - lr: 0.0010\n",
            "Epoch 4/10\n",
            "34/34 [==============================] - ETA: 0s - loss: 0.9730 - categorical_accuracy: 0.6425\n",
            "Epoch 00004: saving model to model_3_2022-01-1013_25_27.534513/model-00004-0.97298-0.64253-2.53161-0.36000.h5\n",
            "34/34 [==============================] - 52s 2s/step - loss: 0.9730 - categorical_accuracy: 0.6425 - val_loss: 2.5316 - val_categorical_accuracy: 0.3600 - lr: 0.0010\n",
            "Epoch 5/10\n",
            "34/34 [==============================] - ETA: 0s - loss: 0.8110 - categorical_accuracy: 0.6893\n",
            "Epoch 00005: saving model to model_3_2022-01-1013_25_27.534513/model-00005-0.81099-0.68929-2.46305-0.36000.h5\n",
            "34/34 [==============================] - 52s 2s/step - loss: 0.8110 - categorical_accuracy: 0.6893 - val_loss: 2.4631 - val_categorical_accuracy: 0.3600 - lr: 0.0010\n",
            "Epoch 6/10\n",
            "34/34 [==============================] - ETA: 0s - loss: 0.8024 - categorical_accuracy: 0.7164\n",
            "Epoch 00006: saving model to model_3_2022-01-1013_25_27.534513/model-00006-0.80237-0.71644-2.20647-0.34000.h5\n",
            "\n",
            "Epoch 00006: ReduceLROnPlateau reducing learning rate to 0.00020000000949949026.\n",
            "34/34 [==============================] - 52s 2s/step - loss: 0.8024 - categorical_accuracy: 0.7164 - val_loss: 2.2065 - val_categorical_accuracy: 0.3400 - lr: 0.0010\n",
            "Epoch 7/10\n",
            "34/34 [==============================] - ETA: 0s - loss: 0.6421 - categorical_accuracy: 0.7647\n",
            "Epoch 00007: saving model to model_3_2022-01-1013_25_27.534513/model-00007-0.64210-0.76471-1.96940-0.36000.h5\n",
            "34/34 [==============================] - 54s 2s/step - loss: 0.6421 - categorical_accuracy: 0.7647 - val_loss: 1.9694 - val_categorical_accuracy: 0.3600 - lr: 2.0000e-04\n",
            "Epoch 8/10\n",
            "34/34 [==============================] - ETA: 0s - loss: 0.6901 - categorical_accuracy: 0.7421\n",
            "Epoch 00008: saving model to model_3_2022-01-1013_25_27.534513/model-00008-0.69012-0.74208-1.78255-0.40000.h5\n",
            "34/34 [==============================] - 54s 2s/step - loss: 0.6901 - categorical_accuracy: 0.7421 - val_loss: 1.7826 - val_categorical_accuracy: 0.4000 - lr: 2.0000e-04\n",
            "Epoch 9/10\n",
            "34/34 [==============================] - ETA: 0s - loss: 0.6211 - categorical_accuracy: 0.7768\n",
            "Epoch 00009: saving model to model_3_2022-01-1013_25_27.534513/model-00009-0.62110-0.77677-1.60438-0.38000.h5\n",
            "34/34 [==============================] - 54s 2s/step - loss: 0.6211 - categorical_accuracy: 0.7768 - val_loss: 1.6044 - val_categorical_accuracy: 0.3800 - lr: 2.0000e-04\n",
            "Epoch 10/10\n",
            "34/34 [==============================] - ETA: 0s - loss: 0.6311 - categorical_accuracy: 0.7602\n",
            "Epoch 00010: saving model to model_3_2022-01-1013_25_27.534513/model-00010-0.63110-0.76018-1.19928-0.54000.h5\n",
            "34/34 [==============================] - 54s 2s/step - loss: 0.6311 - categorical_accuracy: 0.7602 - val_loss: 1.1993 - val_categorical_accuracy: 0.5400 - lr: 2.0000e-04\n"
          ]
        }
      ]
    },
    {
      "cell_type": "code",
      "source": [
        "# plotting the history for model_3\n",
        "accuracy_loss_plot(history_3, 'model_3')"
      ],
      "metadata": {
        "id": "AEes5YzafY1E",
        "colab": {
          "base_uri": "https://localhost:8080/",
          "height": 294
        },
        "outputId": "abc4fcf0-5118-47ae-d94c-ca2ee8631b88"
      },
      "execution_count": 35,
      "outputs": [
        {
          "output_type": "display_data",
          "data": {
            "image/png": "[encoded data removed]",
            "text/plain": [
              "<Figure size 720x288 with 2 Axes>"
            ]
          },
          "metadata": {
            "needs_background": "light"
          }
        }
      ]
    },
    {
      "cell_type": "markdown",
      "source": [
        "### Model-4 : TimeDistributed, GRU using RNN structures for Transfer Learning on VGG16 Imagenet. Image size is 120x120 for 16 frames execued over 30 epochs using a batch sie of 16"
      ],
      "metadata": {
        "id": "QsejMKOPmZn6"
      }
    },
    {
      "cell_type": "code",
      "source": [
        "n_frames = 16\n",
        "frame_size_x = 120\n",
        "frame_size_y = 120\n",
        "batch_size = 16\n",
        "n_epochs = 30"
      ],
      "metadata": {
        "id": "S3q9y0g-pfvx"
      },
      "execution_count": 36,
      "outputs": []
    },
    {
      "cell_type": "code",
      "source": [
        "# create a base transfer model and \n",
        "base_model = VGG16(include_top=False, weights='imagenet', input_shape=(frame_size_x,frame_size_y,3)) # base model\n",
        "conv_model = Model(inputs=base_model.input, outputs=Dense(64, activation='relu')(Flatten()(base_model.output))) # convolution output from base model\n",
        "for layer in base_model.layers:\n",
        "  layer.trainable = False\n",
        "\n",
        "# method to create TimeDistributed 2D conv model using GRU cells\n",
        "def gru_model(conv_layer, dense_layer, dropout, conv_model, n_frames, frame_size_x, frame_size_y):\n",
        "  model = Sequential()\n",
        "  model.add(TimeDistributed(conv_model, input_shape=(n_frames,frame_size_x,frame_size_y,3)))\n",
        "  model.add(GRU(conv_layer[0], return_sequences=True))\n",
        "  model.add(GRU(conv_layer[1]))\n",
        "  model.add(Dropout(dropout))\n",
        "  model.add(Dense(dense_layer, activation='relu'))\n",
        "  model.add(Dense(5, activation='softmax'))\n",
        "  return model\n",
        "\n",
        "# method to create TimeDistributed 2D conv model using LSTM cells\n",
        "def lstm_model(conv_layer, dense_layer, dropout, conv_model, n_frames, frame_size_x, frame_size_y):\n",
        "  model = Sequential()\n",
        "  model.add(TimeDistributed(conv_model, input_shape=(n_frames,frame_size_x,frame_size_y,3)))\n",
        "  model.add(LSTM(conv_layer[0], return_sequences=True))\n",
        "  model.add(LSTM(conv_layer[1]))\n",
        "  model.add(Dropout(dropout))\n",
        "  model.add(Dense(dense_layer, activation='relu'))\n",
        "  model.add(Dense(5, activation='softmax'))\n",
        "  return model"
      ],
      "metadata": {
        "id": "5yrjLmXqqQvC",
        "colab": {
          "base_uri": "https://localhost:8080/"
        },
        "outputId": "09f349a2-2cd5-4eb7-bb74-7f6db24efa7f"
      },
      "execution_count": 37,
      "outputs": [
        {
          "output_type": "stream",
          "name": "stdout",
          "text": [
            "Downloading data from https://storage.googleapis.com/tensorflow/keras-applications/vgg16/vgg16_weights_tf_dim_ordering_tf_kernels_notop.h5\n",
            "58892288/58889256 [==============================] - 1s 0us/step\n",
            "58900480/58889256 [==============================] - 1s 0us/step\n"
          ]
        }
      ]
    },
    {
      "cell_type": "code",
      "source": [
        "# adding optimizer and summarizing the model-4\n",
        "model_4 = gru_model(conv_layer=(32,16), dense_layer=8,\n",
        "                       dropout=0.5, conv_model=conv_model, n_frames=n_frames, \n",
        "                       frame_size_x=frame_size_x, frame_size_y=frame_size_y)\n",
        "optimiser = optimizers.Adam()\n",
        "model_4.compile(optimizer=optimiser, loss='categorical_crossentropy', metrics=['categorical_accuracy'])\n",
        "model_4.summary()"
      ],
      "metadata": {
        "id": "yUnMHbxRFjFt",
        "colab": {
          "base_uri": "https://localhost:8080/"
        },
        "outputId": "07d32adc-71ba-4e8b-c819-6a412dcdc11c"
      },
      "execution_count": 38,
      "outputs": [
        {
          "output_type": "stream",
          "name": "stdout",
          "text": [
            "Model: \"sequential_4\"\n",
            "_________________________________________________________________\n",
            " Layer (type)                Output Shape              Param #   \n",
            "=================================================================\n",
            " time_distributed (TimeDistr  (None, 16, 64)           15009664  \n",
            " ibuted)                                                         \n",
            "                                                                 \n",
            " gru (GRU)                   (None, 16, 32)            9408      \n",
            "                                                                 \n",
            " gru_1 (GRU)                 (None, 16)                2400      \n",
            "                                                                 \n",
            " dropout_8 (Dropout)         (None, 16)                0         \n",
            "                                                                 \n",
            " dense_13 (Dense)            (None, 8)                 136       \n",
            "                                                                 \n",
            " dense_14 (Dense)            (None, 5)                 45        \n",
            "                                                                 \n",
            "=================================================================\n",
            "Total params: 15,021,653\n",
            "Trainable params: 306,965\n",
            "Non-trainable params: 14,714,688\n",
            "_________________________________________________________________\n"
          ]
        }
      ]
    },
    {
      "cell_type": "code",
      "source": [
        "# fetching all the parameters for model-4 fitting\n",
        "train_generator = generator(train_path, train_doc, batch_size, n_frames, frame_size_x, frame_size_y)\n",
        "val_generator = generator(val_path, val_doc, batch_size, n_frames, frame_size_x, frame_size_y)\n",
        "model_4_path, callbacks_list = model_callbacks('model_4')\n",
        "epoch_steps, val_steps = n_steps(num_train_sequences, num_val_sequences, batch_size)"
      ],
      "metadata": {
        "id": "VhX1SFuTG92L",
        "colab": {
          "base_uri": "https://localhost:8080/"
        },
        "outputId": "cadebd2e-4baa-4c5e-af0e-7ea38683ec52"
      },
      "execution_count": 39,
      "outputs": [
        {
          "output_type": "stream",
          "name": "stdout",
          "text": [
            "WARNING:tensorflow:`period` argument is deprecated. Please use `save_freq` to specify the frequency in number of batches seen.\n"
          ]
        }
      ]
    },
    {
      "cell_type": "code",
      "source": [
        "history_4 = model_4.fit_generator(train_generator, steps_per_epoch=epoch_steps,\n",
        "                                  epochs=n_epochs, callbacks=callbacks_list, \n",
        "                                  validation_data=val_generator, validation_steps=val_steps,\n",
        "                                  class_weight=None, workers=1, initial_epoch=0,\n",
        "                                  verbose=1)"
      ],
      "metadata": {
        "id": "k5janvuMHBa3",
        "colab": {
          "base_uri": "https://localhost:8080/"
        },
        "outputId": "da15a947-4bf6-409c-aab9-07c037951a68"
      },
      "execution_count": 40,
      "outputs": [
        {
          "output_type": "stream",
          "name": "stdout",
          "text": [
            "Source path =  /content/Gesture_assignment/Project_data/train \n",
            " batch size = 16 \n",
            " No. of images from each folder = 16 \n",
            " Normalized image size = 120 x 120\n"
          ]
        },
        {
          "output_type": "stream",
          "name": "stderr",
          "text": [
            "/usr/local/lib/python3.7/dist-packages/ipykernel_launcher.py:5: UserWarning: `Model.fit_generator` is deprecated and will be removed in a future version. Please use `Model.fit`, which supports generators.\n",
            "  \"\"\"\n"
          ]
        },
        {
          "output_type": "stream",
          "name": "stdout",
          "text": [
            "Epoch 1/30\n",
            "42/42 [==============================] - ETA: 0s - loss: 1.6149 - categorical_accuracy: 0.2262Source path =  /content/Gesture_assignment/Project_data/val \n",
            " batch size = 16 \n",
            " No. of images from each folder = 16 \n",
            " Normalized image size = 120 x 120\n",
            "\n",
            "Epoch 00001: saving model to model_4_2022-01-1013_35_02.272106/model-00001-1.61489-0.22624-1.61556-0.21000.h5\n",
            "42/42 [==============================] - 86s 1s/step - loss: 1.6149 - categorical_accuracy: 0.2262 - val_loss: 1.6156 - val_categorical_accuracy: 0.2100 - lr: 0.0010\n",
            "Epoch 2/30\n",
            "42/42 [==============================] - ETA: 0s - loss: 1.5093 - categorical_accuracy: 0.2971\n",
            "Epoch 00002: saving model to model_4_2022-01-1013_35_02.272106/model-00002-1.50929-0.29713-1.27946-0.49000.h5\n",
            "42/42 [==============================] - 44s 1s/step - loss: 1.5093 - categorical_accuracy: 0.2971 - val_loss: 1.2795 - val_categorical_accuracy: 0.4900 - lr: 0.0010\n",
            "Epoch 3/30\n",
            "42/42 [==============================] - ETA: 0s - loss: 1.3272 - categorical_accuracy: 0.4057\n",
            "Epoch 00003: saving model to model_4_2022-01-1013_35_02.272106/model-00003-1.32724-0.40573-1.39355-0.37000.h5\n",
            "42/42 [==============================] - 44s 1s/step - loss: 1.3272 - categorical_accuracy: 0.4057 - val_loss: 1.3936 - val_categorical_accuracy: 0.3700 - lr: 0.0010\n",
            "Epoch 4/30\n",
            "42/42 [==============================] - ETA: 0s - loss: 1.1813 - categorical_accuracy: 0.4721\n",
            "Epoch 00004: saving model to model_4_2022-01-1013_35_02.272106/model-00004-1.18135-0.47210-1.07940-0.58000.h5\n",
            "42/42 [==============================] - 44s 1s/step - loss: 1.1813 - categorical_accuracy: 0.4721 - val_loss: 1.0794 - val_categorical_accuracy: 0.5800 - lr: 0.0010\n",
            "Epoch 5/30\n",
            "42/42 [==============================] - ETA: 0s - loss: 1.0788 - categorical_accuracy: 0.5566\n",
            "Epoch 00005: saving model to model_4_2022-01-1013_35_02.272106/model-00005-1.07884-0.55656-1.12515-0.56000.h5\n",
            "42/42 [==============================] - 44s 1s/step - loss: 1.0788 - categorical_accuracy: 0.5566 - val_loss: 1.1251 - val_categorical_accuracy: 0.5600 - lr: 0.0010\n",
            "Epoch 6/30\n",
            "42/42 [==============================] - ETA: 0s - loss: 0.9452 - categorical_accuracy: 0.6048\n",
            "Epoch 00006: saving model to model_4_2022-01-1013_35_02.272106/model-00006-0.94522-0.60483-0.99306-0.56000.h5\n",
            "42/42 [==============================] - 44s 1s/step - loss: 0.9452 - categorical_accuracy: 0.6048 - val_loss: 0.9931 - val_categorical_accuracy: 0.5600 - lr: 0.0010\n",
            "Epoch 7/30\n",
            "42/42 [==============================] - ETA: 0s - loss: 0.8512 - categorical_accuracy: 0.6531\n",
            "Epoch 00007: saving model to model_4_2022-01-1013_35_02.272106/model-00007-0.85119-0.65309-1.12311-0.54000.h5\n",
            "42/42 [==============================] - 43s 1s/step - loss: 0.8512 - categorical_accuracy: 0.6531 - val_loss: 1.1231 - val_categorical_accuracy: 0.5400 - lr: 0.0010\n",
            "Epoch 8/30\n",
            "42/42 [==============================] - ETA: 0s - loss: 0.7549 - categorical_accuracy: 0.7511\n",
            "Epoch 00008: saving model to model_4_2022-01-1013_35_02.272106/model-00008-0.75491-0.75113-1.05037-0.67000.h5\n",
            "42/42 [==============================] - 44s 1s/step - loss: 0.7549 - categorical_accuracy: 0.7511 - val_loss: 1.0504 - val_categorical_accuracy: 0.6700 - lr: 0.0010\n",
            "Epoch 9/30\n",
            "42/42 [==============================] - ETA: 0s - loss: 0.6385 - categorical_accuracy: 0.7903\n",
            "Epoch 00009: saving model to model_4_2022-01-1013_35_02.272106/model-00009-0.63853-0.79035-0.75067-0.79000.h5\n",
            "42/42 [==============================] - 44s 1s/step - loss: 0.6385 - categorical_accuracy: 0.7903 - val_loss: 0.7507 - val_categorical_accuracy: 0.7900 - lr: 0.0010\n",
            "Epoch 10/30\n",
            "42/42 [==============================] - ETA: 0s - loss: 0.5244 - categorical_accuracy: 0.8597\n",
            "Epoch 00010: saving model to model_4_2022-01-1013_35_02.272106/model-00010-0.52440-0.85973-0.99293-0.64000.h5\n",
            "42/42 [==============================] - 44s 1s/step - loss: 0.5244 - categorical_accuracy: 0.8597 - val_loss: 0.9929 - val_categorical_accuracy: 0.6400 - lr: 0.0010\n",
            "Epoch 11/30\n",
            "42/42 [==============================] - ETA: 0s - loss: 0.4101 - categorical_accuracy: 0.8989\n",
            "Epoch 00011: saving model to model_4_2022-01-1013_35_02.272106/model-00011-0.41015-0.89894-0.58965-0.83000.h5\n",
            "42/42 [==============================] - 44s 1s/step - loss: 0.4101 - categorical_accuracy: 0.8989 - val_loss: 0.5896 - val_categorical_accuracy: 0.8300 - lr: 0.0010\n",
            "Epoch 12/30\n",
            "42/42 [==============================] - ETA: 0s - loss: 0.3036 - categorical_accuracy: 0.9306\n",
            "Epoch 00012: saving model to model_4_2022-01-1013_35_02.272106/model-00012-0.30360-0.93062-1.01590-0.74000.h5\n",
            "42/42 [==============================] - 44s 1s/step - loss: 0.3036 - categorical_accuracy: 0.9306 - val_loss: 1.0159 - val_categorical_accuracy: 0.7400 - lr: 0.0010\n",
            "Epoch 13/30\n",
            "42/42 [==============================] - ETA: 0s - loss: 0.2772 - categorical_accuracy: 0.9487\n",
            "Epoch 00013: saving model to model_4_2022-01-1013_35_02.272106/model-00013-0.27723-0.94872-0.84532-0.74000.h5\n",
            "42/42 [==============================] - 44s 1s/step - loss: 0.2772 - categorical_accuracy: 0.9487 - val_loss: 0.8453 - val_categorical_accuracy: 0.7400 - lr: 0.0010\n",
            "Epoch 14/30\n",
            "42/42 [==============================] - ETA: 0s - loss: 0.2063 - categorical_accuracy: 0.9653\n",
            "Epoch 00014: saving model to model_4_2022-01-1013_35_02.272106/model-00014-0.20635-0.96531-0.82943-0.75000.h5\n",
            "42/42 [==============================] - 43s 1s/step - loss: 0.2063 - categorical_accuracy: 0.9653 - val_loss: 0.8294 - val_categorical_accuracy: 0.7500 - lr: 0.0010\n",
            "Epoch 15/30\n",
            "42/42 [==============================] - ETA: 0s - loss: 0.1817 - categorical_accuracy: 0.9638\n",
            "Epoch 00015: saving model to model_4_2022-01-1013_35_02.272106/model-00015-0.18171-0.96380-1.17270-0.68000.h5\n",
            "\n",
            "Epoch 00015: ReduceLROnPlateau reducing learning rate to 0.00020000000949949026.\n",
            "42/42 [==============================] - 43s 1s/step - loss: 0.1817 - categorical_accuracy: 0.9638 - val_loss: 1.1727 - val_categorical_accuracy: 0.6800 - lr: 0.0010\n",
            "Epoch 16/30\n",
            "42/42 [==============================] - ETA: 0s - loss: 0.1681 - categorical_accuracy: 0.9653\n",
            "Epoch 00016: saving model to model_4_2022-01-1013_35_02.272106/model-00016-0.16813-0.96531-1.16873-0.64000.h5\n",
            "42/42 [==============================] - 44s 1s/step - loss: 0.1681 - categorical_accuracy: 0.9653 - val_loss: 1.1687 - val_categorical_accuracy: 0.6400 - lr: 2.0000e-04\n",
            "Epoch 17/30\n",
            "42/42 [==============================] - ETA: 0s - loss: 0.1361 - categorical_accuracy: 0.9789\n",
            "Epoch 00017: saving model to model_4_2022-01-1013_35_02.272106/model-00017-0.13613-0.97888-1.01519-0.68000.h5\n",
            "42/42 [==============================] - 44s 1s/step - loss: 0.1361 - categorical_accuracy: 0.9789 - val_loss: 1.0152 - val_categorical_accuracy: 0.6800 - lr: 2.0000e-04\n",
            "Epoch 18/30\n",
            "42/42 [==============================] - ETA: 0s - loss: 0.1267 - categorical_accuracy: 0.9804\n",
            "Epoch 00018: saving model to model_4_2022-01-1013_35_02.272106/model-00018-0.12667-0.98039-1.04117-0.70000.h5\n",
            "42/42 [==============================] - 44s 1s/step - loss: 0.1267 - categorical_accuracy: 0.9804 - val_loss: 1.0412 - val_categorical_accuracy: 0.7000 - lr: 2.0000e-04\n",
            "Epoch 19/30\n",
            "42/42 [==============================] - ETA: 0s - loss: 0.1343 - categorical_accuracy: 0.9804\n",
            "Epoch 00019: saving model to model_4_2022-01-1013_35_02.272106/model-00019-0.13430-0.98039-0.99260-0.66000.h5\n",
            "\n",
            "Epoch 00019: ReduceLROnPlateau reducing learning rate to 4.0000001899898055e-05.\n",
            "42/42 [==============================] - 43s 1s/step - loss: 0.1343 - categorical_accuracy: 0.9804 - val_loss: 0.9926 - val_categorical_accuracy: 0.6600 - lr: 2.0000e-04\n",
            "Epoch 20/30\n",
            "42/42 [==============================] - ETA: 0s - loss: 0.1159 - categorical_accuracy: 0.9849\n",
            "Epoch 00020: saving model to model_4_2022-01-1013_35_02.272106/model-00020-0.11586-0.98492-1.30816-0.64000.h5\n",
            "42/42 [==============================] - 44s 1s/step - loss: 0.1159 - categorical_accuracy: 0.9849 - val_loss: 1.3082 - val_categorical_accuracy: 0.6400 - lr: 4.0000e-05\n",
            "Epoch 21/30\n",
            "42/42 [==============================] - ETA: 0s - loss: 0.1115 - categorical_accuracy: 0.9864\n",
            "Epoch 00021: saving model to model_4_2022-01-1013_35_02.272106/model-00021-0.11150-0.98643-1.05891-0.67000.h5\n",
            "42/42 [==============================] - 43s 1s/step - loss: 0.1115 - categorical_accuracy: 0.9864 - val_loss: 1.0589 - val_categorical_accuracy: 0.6700 - lr: 4.0000e-05\n",
            "Epoch 22/30\n",
            "42/42 [==============================] - ETA: 0s - loss: 0.1258 - categorical_accuracy: 0.9789\n",
            "Epoch 00022: saving model to model_4_2022-01-1013_35_02.272106/model-00022-0.12584-0.97888-1.08227-0.65000.h5\n",
            "42/42 [==============================] - 44s 1s/step - loss: 0.1258 - categorical_accuracy: 0.9789 - val_loss: 1.0823 - val_categorical_accuracy: 0.6500 - lr: 4.0000e-05\n",
            "Epoch 23/30\n",
            "42/42 [==============================] - ETA: 0s - loss: 0.1069 - categorical_accuracy: 0.9849\n",
            "Epoch 00023: saving model to model_4_2022-01-1013_35_02.272106/model-00023-0.10691-0.98492-1.02250-0.68000.h5\n",
            "\n",
            "Epoch 00023: ReduceLROnPlateau reducing learning rate to 8.000000525498762e-06.\n",
            "42/42 [==============================] - 43s 1s/step - loss: 0.1069 - categorical_accuracy: 0.9849 - val_loss: 1.0225 - val_categorical_accuracy: 0.6800 - lr: 4.0000e-05\n",
            "Epoch 24/30\n",
            "42/42 [==============================] - ETA: 0s - loss: 0.1312 - categorical_accuracy: 0.9744\n",
            "Epoch 00024: saving model to model_4_2022-01-1013_35_02.272106/model-00024-0.13122-0.97436-1.26293-0.64000.h5\n",
            "42/42 [==============================] - 44s 1s/step - loss: 0.1312 - categorical_accuracy: 0.9744 - val_loss: 1.2629 - val_categorical_accuracy: 0.6400 - lr: 8.0000e-06\n",
            "Epoch 25/30\n",
            "42/42 [==============================] - ETA: 0s - loss: 0.1127 - categorical_accuracy: 0.9879\n",
            "Epoch 00025: saving model to model_4_2022-01-1013_35_02.272106/model-00025-0.11267-0.98793-1.15073-0.66000.h5\n",
            "42/42 [==============================] - 44s 1s/step - loss: 0.1127 - categorical_accuracy: 0.9879 - val_loss: 1.1507 - val_categorical_accuracy: 0.6600 - lr: 8.0000e-06\n",
            "Epoch 26/30\n",
            "42/42 [==============================] - ETA: 0s - loss: 0.1212 - categorical_accuracy: 0.9834\n",
            "Epoch 00026: saving model to model_4_2022-01-1013_35_02.272106/model-00026-0.12125-0.98341-0.97062-0.66000.h5\n",
            "42/42 [==============================] - 43s 1s/step - loss: 0.1212 - categorical_accuracy: 0.9834 - val_loss: 0.9706 - val_categorical_accuracy: 0.6600 - lr: 8.0000e-06\n",
            "Epoch 27/30\n",
            "42/42 [==============================] - ETA: 0s - loss: 0.1086 - categorical_accuracy: 0.9849\n",
            "Epoch 00027: saving model to model_4_2022-01-1013_35_02.272106/model-00027-0.10864-0.98492-1.02137-0.66000.h5\n",
            "\n",
            "Epoch 00027: ReduceLROnPlateau reducing learning rate to 1.6000001778593287e-06.\n",
            "42/42 [==============================] - 43s 1s/step - loss: 0.1086 - categorical_accuracy: 0.9849 - val_loss: 1.0214 - val_categorical_accuracy: 0.6600 - lr: 8.0000e-06\n",
            "Epoch 28/30\n",
            "42/42 [==============================] - ETA: 0s - loss: 0.1189 - categorical_accuracy: 0.9849\n",
            "Epoch 00028: saving model to model_4_2022-01-1013_35_02.272106/model-00028-0.11886-0.98492-0.98036-0.69000.h5\n",
            "42/42 [==============================] - 42s 1s/step - loss: 0.1189 - categorical_accuracy: 0.9849 - val_loss: 0.9804 - val_categorical_accuracy: 0.6900 - lr: 1.6000e-06\n",
            "Epoch 29/30\n",
            "42/42 [==============================] - ETA: 0s - loss: 0.1112 - categorical_accuracy: 0.9834\n",
            "Epoch 00029: saving model to model_4_2022-01-1013_35_02.272106/model-00029-0.11117-0.98341-1.03681-0.67000.h5\n",
            "42/42 [==============================] - 43s 1s/step - loss: 0.1112 - categorical_accuracy: 0.9834 - val_loss: 1.0368 - val_categorical_accuracy: 0.6700 - lr: 1.6000e-06\n",
            "Epoch 30/30\n",
            "42/42 [==============================] - ETA: 0s - loss: 0.1163 - categorical_accuracy: 0.9864\n",
            "Epoch 00030: saving model to model_4_2022-01-1013_35_02.272106/model-00030-0.11629-0.98643-0.94563-0.69000.h5\n",
            "42/42 [==============================] - 43s 1s/step - loss: 0.1163 - categorical_accuracy: 0.9864 - val_loss: 0.9456 - val_categorical_accuracy: 0.6900 - lr: 1.6000e-06\n"
          ]
        }
      ]
    },
    {
      "cell_type": "code",
      "source": [
        "# plotting the history for model_4\n",
        "accuracy_loss_plot(history_4, 'model_4')"
      ],
      "metadata": {
        "id": "PoX2H34tHZWe",
        "colab": {
          "base_uri": "https://localhost:8080/",
          "height": 294
        },
        "outputId": "cb8a5cdd-b808-4941-888d-0c2039018b43"
      },
      "execution_count": 41,
      "outputs": [
        {
          "output_type": "display_data",
          "data": {
            "image/png": "[encoded data removed]",
            "text/plain": [
              "<Figure size 720x288 with 2 Axes>"
            ]
          },
          "metadata": {
            "needs_background": "light"
          }
        }
      ]
    },
    {
      "cell_type": "markdown",
      "source": [
        "### Model-5 : TimeDistributed, LSTM using RNN structures for Transfer Learning on VGG16 Imagenet. Image size is 120x120 for 16 frames execued over 30 epochs using a batch sie of 16"
      ],
      "metadata": {
        "id": "yhqWsYe8HmBI"
      }
    },
    {
      "cell_type": "code",
      "source": [
        "n_frames = 16\n",
        "frame_size_x = 120\n",
        "frame_size_y = 120\n",
        "batch_size = 16\n",
        "n_epochs = 30"
      ],
      "metadata": {
        "id": "Nv0Nt6h_fHEg"
      },
      "execution_count": 42,
      "outputs": []
    },
    {
      "cell_type": "code",
      "source": [
        "# adding optimizer and summarizing the model-5\n",
        "model_5 = lstm_model(conv_layer=(32,16), dense_layer=8,\n",
        "                       dropout=0.5, conv_model=conv_model, n_frames=n_frames, \n",
        "                       frame_size_x=frame_size_x, frame_size_y=frame_size_y)\n",
        "optimiser = optimizers.Adam()\n",
        "model_5.compile(optimizer=optimiser, loss='categorical_crossentropy', metrics=['categorical_accuracy'])\n",
        "model_5.summary()"
      ],
      "metadata": {
        "id": "sHV-F91OHqrC",
        "colab": {
          "base_uri": "https://localhost:8080/"
        },
        "outputId": "c25b7186-1537-44c8-df0f-18ff527a389d"
      },
      "execution_count": 43,
      "outputs": [
        {
          "output_type": "stream",
          "name": "stdout",
          "text": [
            "Model: \"sequential_5\"\n",
            "_________________________________________________________________\n",
            " Layer (type)                Output Shape              Param #   \n",
            "=================================================================\n",
            " time_distributed_1 (TimeDis  (None, 16, 64)           15009664  \n",
            " tributed)                                                       \n",
            "                                                                 \n",
            " lstm (LSTM)                 (None, 16, 32)            12416     \n",
            "                                                                 \n",
            " lstm_1 (LSTM)               (None, 16)                3136      \n",
            "                                                                 \n",
            " dropout_9 (Dropout)         (None, 16)                0         \n",
            "                                                                 \n",
            " dense_15 (Dense)            (None, 8)                 136       \n",
            "                                                                 \n",
            " dense_16 (Dense)            (None, 5)                 45        \n",
            "                                                                 \n",
            "=================================================================\n",
            "Total params: 15,025,397\n",
            "Trainable params: 310,709\n",
            "Non-trainable params: 14,714,688\n",
            "_________________________________________________________________\n"
          ]
        }
      ]
    },
    {
      "cell_type": "code",
      "source": [
        "# fetching all the parameters for model-5 fitting\n",
        "train_generator = generator(train_path, train_doc, batch_size, n_frames, frame_size_x, frame_size_y)\n",
        "val_generator = generator(val_path, val_doc, batch_size, n_frames, frame_size_x, frame_size_y)\n",
        "model_5_path, callbacks_list = model_callbacks('model_5')\n",
        "epoch_steps, val_steps = n_steps(num_train_sequences, num_val_sequences, batch_size)"
      ],
      "metadata": {
        "id": "r_yjvKWBHrMn",
        "colab": {
          "base_uri": "https://localhost:8080/"
        },
        "outputId": "308925a2-00fc-49eb-a671-f55ee671d82c"
      },
      "execution_count": 44,
      "outputs": [
        {
          "output_type": "stream",
          "name": "stdout",
          "text": [
            "WARNING:tensorflow:`period` argument is deprecated. Please use `save_freq` to specify the frequency in number of batches seen.\n"
          ]
        }
      ]
    },
    {
      "cell_type": "code",
      "source": [
        "history_5 = model_5.fit_generator(train_generator, steps_per_epoch=epoch_steps,\n",
        "                                  epochs=n_epochs, callbacks=callbacks_list, \n",
        "                                  validation_data=val_generator, validation_steps=val_steps,\n",
        "                                  class_weight=None, workers=1, initial_epoch=0,\n",
        "                                  verbose=1)"
      ],
      "metadata": {
        "id": "bS3QLdP7Hrmn",
        "colab": {
          "base_uri": "https://localhost:8080/"
        },
        "outputId": "a1c0492b-3b6b-4e75-9a75-f9a7ff295af6"
      },
      "execution_count": 45,
      "outputs": [
        {
          "output_type": "stream",
          "name": "stdout",
          "text": [
            "Source path =  /content/Gesture_assignment/Project_data/train \n",
            " batch size = 16 \n",
            " No. of images from each folder = 16 \n",
            " Normalized image size = 120 x 120\n"
          ]
        },
        {
          "output_type": "stream",
          "name": "stderr",
          "text": [
            "/usr/local/lib/python3.7/dist-packages/ipykernel_launcher.py:5: UserWarning: `Model.fit_generator` is deprecated and will be removed in a future version. Please use `Model.fit`, which supports generators.\n",
            "  \"\"\"\n"
          ]
        },
        {
          "output_type": "stream",
          "name": "stdout",
          "text": [
            "Epoch 1/30\n",
            "42/42 [==============================] - ETA: 0s - loss: 1.3986 - categorical_accuracy: 0.4178Source path =  /content/Gesture_assignment/Project_data/val \n",
            " batch size = 16 \n",
            " No. of images from each folder = 16 \n",
            " Normalized image size = 120 x 120\n",
            "\n",
            "Epoch 00001: saving model to model_5_2022-01-1013_57_32.013891/model-00001-1.39859-0.41780-1.32703-0.45000.h5\n",
            "42/42 [==============================] - 49s 1s/step - loss: 1.3986 - categorical_accuracy: 0.4178 - val_loss: 1.3270 - val_categorical_accuracy: 0.4500 - lr: 0.0010\n",
            "Epoch 2/30\n",
            "42/42 [==============================] - ETA: 0s - loss: 1.0383 - categorical_accuracy: 0.6380\n",
            "Epoch 00002: saving model to model_5_2022-01-1013_57_32.013891/model-00002-1.03831-0.63801-1.17364-0.52000.h5\n",
            "42/42 [==============================] - 43s 1s/step - loss: 1.0383 - categorical_accuracy: 0.6380 - val_loss: 1.1736 - val_categorical_accuracy: 0.5200 - lr: 0.0010\n",
            "Epoch 3/30\n",
            "42/42 [==============================] - ETA: 0s - loss: 0.7746 - categorical_accuracy: 0.8069\n",
            "Epoch 00003: saving model to model_5_2022-01-1013_57_32.013891/model-00003-0.77455-0.80694-1.03499-0.65000.h5\n",
            "42/42 [==============================] - 46s 1s/step - loss: 0.7746 - categorical_accuracy: 0.8069 - val_loss: 1.0350 - val_categorical_accuracy: 0.6500 - lr: 0.0010\n",
            "Epoch 4/30\n",
            "42/42 [==============================] - ETA: 0s - loss: 0.5563 - categorical_accuracy: 0.8793\n",
            "Epoch 00004: saving model to model_5_2022-01-1013_57_32.013891/model-00004-0.55627-0.87934-1.06407-0.65000.h5\n",
            "42/42 [==============================] - 43s 1s/step - loss: 0.5563 - categorical_accuracy: 0.8793 - val_loss: 1.0641 - val_categorical_accuracy: 0.6500 - lr: 0.0010\n",
            "Epoch 5/30\n",
            "42/42 [==============================] - ETA: 0s - loss: 0.4301 - categorical_accuracy: 0.9095\n",
            "Epoch 00005: saving model to model_5_2022-01-1013_57_32.013891/model-00005-0.43014-0.90950-0.59973-0.80000.h5\n",
            "42/42 [==============================] - 43s 1s/step - loss: 0.4301 - categorical_accuracy: 0.9095 - val_loss: 0.5997 - val_categorical_accuracy: 0.8000 - lr: 0.0010\n",
            "Epoch 6/30\n",
            "42/42 [==============================] - ETA: 0s - loss: 0.3666 - categorical_accuracy: 0.9306\n",
            "Epoch 00006: saving model to model_5_2022-01-1013_57_32.013891/model-00006-0.36659-0.93062-1.22524-0.68000.h5\n",
            "42/42 [==============================] - 43s 1s/step - loss: 0.3666 - categorical_accuracy: 0.9306 - val_loss: 1.2252 - val_categorical_accuracy: 0.6800 - lr: 0.0010\n",
            "Epoch 7/30\n",
            "42/42 [==============================] - ETA: 0s - loss: 0.4668 - categorical_accuracy: 0.8718\n",
            "Epoch 00007: saving model to model_5_2022-01-1013_57_32.013891/model-00007-0.46685-0.87179-0.90115-0.74000.h5\n",
            "42/42 [==============================] - 42s 1s/step - loss: 0.4668 - categorical_accuracy: 0.8718 - val_loss: 0.9011 - val_categorical_accuracy: 0.7400 - lr: 0.0010\n",
            "Epoch 8/30\n",
            "42/42 [==============================] - ETA: 0s - loss: 0.2729 - categorical_accuracy: 0.9563\n",
            "Epoch 00008: saving model to model_5_2022-01-1013_57_32.013891/model-00008-0.27287-0.95626-1.01377-0.65000.h5\n",
            "42/42 [==============================] - 42s 1s/step - loss: 0.2729 - categorical_accuracy: 0.9563 - val_loss: 1.0138 - val_categorical_accuracy: 0.6500 - lr: 0.0010\n",
            "Epoch 9/30\n",
            "42/42 [==============================] - ETA: 0s - loss: 0.2423 - categorical_accuracy: 0.9593\n",
            "Epoch 00009: saving model to model_5_2022-01-1013_57_32.013891/model-00009-0.24230-0.95928-1.04486-0.72000.h5\n",
            "\n",
            "Epoch 00009: ReduceLROnPlateau reducing learning rate to 0.00020000000949949026.\n",
            "42/42 [==============================] - 42s 1s/step - loss: 0.2423 - categorical_accuracy: 0.9593 - val_loss: 1.0449 - val_categorical_accuracy: 0.7200 - lr: 0.0010\n",
            "Epoch 10/30\n",
            "42/42 [==============================] - ETA: 0s - loss: 0.1905 - categorical_accuracy: 0.9698\n",
            "Epoch 00010: saving model to model_5_2022-01-1013_57_32.013891/model-00010-0.19052-0.96983-0.80032-0.78000.h5\n",
            "42/42 [==============================] - 46s 1s/step - loss: 0.1905 - categorical_accuracy: 0.9698 - val_loss: 0.8003 - val_categorical_accuracy: 0.7800 - lr: 2.0000e-04\n",
            "Epoch 11/30\n",
            "42/42 [==============================] - ETA: 0s - loss: 0.1620 - categorical_accuracy: 0.9849\n",
            "Epoch 00011: saving model to model_5_2022-01-1013_57_32.013891/model-00011-0.16196-0.98492-0.80972-0.78000.h5\n",
            "42/42 [==============================] - 43s 1s/step - loss: 0.1620 - categorical_accuracy: 0.9849 - val_loss: 0.8097 - val_categorical_accuracy: 0.7800 - lr: 2.0000e-04\n",
            "Epoch 12/30\n",
            "42/42 [==============================] - ETA: 0s - loss: 0.1532 - categorical_accuracy: 0.9834\n",
            "Epoch 00012: saving model to model_5_2022-01-1013_57_32.013891/model-00012-0.15318-0.98341-1.07502-0.72000.h5\n",
            "42/42 [==============================] - 46s 1s/step - loss: 0.1532 - categorical_accuracy: 0.9834 - val_loss: 1.0750 - val_categorical_accuracy: 0.7200 - lr: 2.0000e-04\n",
            "Epoch 13/30\n",
            "42/42 [==============================] - ETA: 0s - loss: 0.1621 - categorical_accuracy: 0.9879\n",
            "Epoch 00013: saving model to model_5_2022-01-1013_57_32.013891/model-00013-0.16207-0.98793-0.93291-0.74000.h5\n",
            "\n",
            "Epoch 00013: ReduceLROnPlateau reducing learning rate to 4.0000001899898055e-05.\n",
            "42/42 [==============================] - 43s 1s/step - loss: 0.1621 - categorical_accuracy: 0.9879 - val_loss: 0.9329 - val_categorical_accuracy: 0.7400 - lr: 2.0000e-04\n",
            "Epoch 14/30\n",
            "42/42 [==============================] - ETA: 0s - loss: 0.1375 - categorical_accuracy: 0.9804\n",
            "Epoch 00014: saving model to model_5_2022-01-1013_57_32.013891/model-00014-0.13748-0.98039-1.00476-0.72000.h5\n",
            "42/42 [==============================] - 43s 1s/step - loss: 0.1375 - categorical_accuracy: 0.9804 - val_loss: 1.0048 - val_categorical_accuracy: 0.7200 - lr: 4.0000e-05\n",
            "Epoch 15/30\n",
            "42/42 [==============================] - ETA: 0s - loss: 0.1451 - categorical_accuracy: 0.9804\n",
            "Epoch 00015: saving model to model_5_2022-01-1013_57_32.013891/model-00015-0.14510-0.98039-0.94657-0.74000.h5\n",
            "42/42 [==============================] - 44s 1s/step - loss: 0.1451 - categorical_accuracy: 0.9804 - val_loss: 0.9466 - val_categorical_accuracy: 0.7400 - lr: 4.0000e-05\n",
            "Epoch 16/30\n",
            "42/42 [==============================] - ETA: 0s - loss: 0.1353 - categorical_accuracy: 0.9879\n",
            "Epoch 00016: saving model to model_5_2022-01-1013_57_32.013891/model-00016-0.13532-0.98793-0.95688-0.73000.h5\n",
            "42/42 [==============================] - 43s 1s/step - loss: 0.1353 - categorical_accuracy: 0.9879 - val_loss: 0.9569 - val_categorical_accuracy: 0.7300 - lr: 4.0000e-05\n",
            "Epoch 17/30\n",
            "42/42 [==============================] - ETA: 0s - loss: 0.1515 - categorical_accuracy: 0.9849\n",
            "Epoch 00017: saving model to model_5_2022-01-1013_57_32.013891/model-00017-0.15155-0.98492-0.95916-0.74000.h5\n",
            "\n",
            "Epoch 00017: ReduceLROnPlateau reducing learning rate to 8.000000525498762e-06.\n",
            "42/42 [==============================] - 46s 1s/step - loss: 0.1515 - categorical_accuracy: 0.9849 - val_loss: 0.9592 - val_categorical_accuracy: 0.7400 - lr: 4.0000e-05\n",
            "Epoch 18/30\n",
            "42/42 [==============================] - ETA: 0s - loss: 0.1549 - categorical_accuracy: 0.9789\n",
            "Epoch 00018: saving model to model_5_2022-01-1013_57_32.013891/model-00018-0.15486-0.97888-1.06502-0.72000.h5\n",
            "42/42 [==============================] - 43s 1s/step - loss: 0.1549 - categorical_accuracy: 0.9789 - val_loss: 1.0650 - val_categorical_accuracy: 0.7200 - lr: 8.0000e-06\n",
            "Epoch 19/30\n",
            "42/42 [==============================] - ETA: 0s - loss: 0.1355 - categorical_accuracy: 0.9910\n",
            "Epoch 00019: saving model to model_5_2022-01-1013_57_32.013891/model-00019-0.13553-0.99095-1.01909-0.73000.h5\n",
            "42/42 [==============================] - 46s 1s/step - loss: 0.1355 - categorical_accuracy: 0.9910 - val_loss: 1.0191 - val_categorical_accuracy: 0.7300 - lr: 8.0000e-06\n",
            "Epoch 20/30\n",
            "42/42 [==============================] - ETA: 0s - loss: 0.1473 - categorical_accuracy: 0.9789\n",
            "Epoch 00020: saving model to model_5_2022-01-1013_57_32.013891/model-00020-0.14734-0.97888-0.92490-0.73000.h5\n",
            "42/42 [==============================] - 43s 1s/step - loss: 0.1473 - categorical_accuracy: 0.9789 - val_loss: 0.9249 - val_categorical_accuracy: 0.7300 - lr: 8.0000e-06\n",
            "Epoch 21/30\n",
            "42/42 [==============================] - ETA: 0s - loss: 0.1436 - categorical_accuracy: 0.9804\n",
            "Epoch 00021: saving model to model_5_2022-01-1013_57_32.013891/model-00021-0.14359-0.98039-0.87905-0.76000.h5\n",
            "\n",
            "Epoch 00021: ReduceLROnPlateau reducing learning rate to 1.6000001778593287e-06.\n",
            "42/42 [==============================] - 43s 1s/step - loss: 0.1436 - categorical_accuracy: 0.9804 - val_loss: 0.8790 - val_categorical_accuracy: 0.7600 - lr: 8.0000e-06\n",
            "Epoch 22/30\n",
            "42/42 [==============================] - ETA: 0s - loss: 0.1553 - categorical_accuracy: 0.9744\n",
            "Epoch 00022: saving model to model_5_2022-01-1013_57_32.013891/model-00022-0.15531-0.97436-0.95903-0.74000.h5\n",
            "42/42 [==============================] - 43s 1s/step - loss: 0.1553 - categorical_accuracy: 0.9744 - val_loss: 0.9590 - val_categorical_accuracy: 0.7400 - lr: 1.6000e-06\n",
            "Epoch 23/30\n",
            "42/42 [==============================] - ETA: 0s - loss: 0.1380 - categorical_accuracy: 0.9819\n",
            "Epoch 00023: saving model to model_5_2022-01-1013_57_32.013891/model-00023-0.13795-0.98190-1.12065-0.71000.h5\n",
            "42/42 [==============================] - 44s 1s/step - loss: 0.1380 - categorical_accuracy: 0.9819 - val_loss: 1.1207 - val_categorical_accuracy: 0.7100 - lr: 1.6000e-06\n",
            "Epoch 24/30\n",
            "42/42 [==============================] - ETA: 0s - loss: 0.1426 - categorical_accuracy: 0.9879\n",
            "Epoch 00024: saving model to model_5_2022-01-1013_57_32.013891/model-00024-0.14259-0.98793-0.90818-0.74000.h5\n",
            "42/42 [==============================] - 46s 1s/step - loss: 0.1426 - categorical_accuracy: 0.9879 - val_loss: 0.9082 - val_categorical_accuracy: 0.7400 - lr: 1.6000e-06\n",
            "Epoch 25/30\n",
            "42/42 [==============================] - ETA: 0s - loss: 0.1493 - categorical_accuracy: 0.9804\n",
            "Epoch 00025: saving model to model_5_2022-01-1013_57_32.013891/model-00025-0.14934-0.98039-1.02648-0.74000.h5\n",
            "\n",
            "Epoch 00025: ReduceLROnPlateau reducing learning rate to 3.200000264769187e-07.\n",
            "42/42 [==============================] - 43s 1s/step - loss: 0.1493 - categorical_accuracy: 0.9804 - val_loss: 1.0265 - val_categorical_accuracy: 0.7400 - lr: 1.6000e-06\n",
            "Epoch 26/30\n",
            "42/42 [==============================] - ETA: 0s - loss: 0.1581 - categorical_accuracy: 0.9819\n",
            "Epoch 00026: saving model to model_5_2022-01-1013_57_32.013891/model-00026-0.15814-0.98190-0.92313-0.73000.h5\n",
            "42/42 [==============================] - 46s 1s/step - loss: 0.1581 - categorical_accuracy: 0.9819 - val_loss: 0.9231 - val_categorical_accuracy: 0.7300 - lr: 3.2000e-07\n",
            "Epoch 27/30\n",
            "42/42 [==============================] - ETA: 0s - loss: 0.1304 - categorical_accuracy: 0.9834\n",
            "Epoch 00027: saving model to model_5_2022-01-1013_57_32.013891/model-00027-0.13038-0.98341-1.01302-0.73000.h5\n",
            "42/42 [==============================] - 43s 1s/step - loss: 0.1304 - categorical_accuracy: 0.9834 - val_loss: 1.0130 - val_categorical_accuracy: 0.7300 - lr: 3.2000e-07\n",
            "Epoch 28/30\n",
            "42/42 [==============================] - ETA: 0s - loss: 0.1490 - categorical_accuracy: 0.9759\n",
            "Epoch 00028: saving model to model_5_2022-01-1013_57_32.013891/model-00028-0.14896-0.97587-0.96063-0.74000.h5\n",
            "42/42 [==============================] - 42s 1s/step - loss: 0.1490 - categorical_accuracy: 0.9759 - val_loss: 0.9606 - val_categorical_accuracy: 0.7400 - lr: 3.2000e-07\n",
            "Epoch 29/30\n",
            "42/42 [==============================] - ETA: 0s - loss: 0.1398 - categorical_accuracy: 0.9849\n",
            "Epoch 00029: saving model to model_5_2022-01-1013_57_32.013891/model-00029-0.13976-0.98492-0.95943-0.74000.h5\n",
            "\n",
            "Epoch 00029: ReduceLROnPlateau reducing learning rate to 6.400000529538374e-08.\n",
            "42/42 [==============================] - 43s 1s/step - loss: 0.1398 - categorical_accuracy: 0.9849 - val_loss: 0.9594 - val_categorical_accuracy: 0.7400 - lr: 3.2000e-07\n",
            "Epoch 30/30\n",
            "42/42 [==============================] - ETA: 0s - loss: 0.1476 - categorical_accuracy: 0.9894\n",
            "Epoch 00030: saving model to model_5_2022-01-1013_57_32.013891/model-00030-0.14759-0.98944-0.94750-0.76000.h5\n",
            "42/42 [==============================] - 44s 1s/step - loss: 0.1476 - categorical_accuracy: 0.9894 - val_loss: 0.9475 - val_categorical_accuracy: 0.7600 - lr: 6.4000e-08\n"
          ]
        }
      ]
    },
    {
      "cell_type": "code",
      "source": [
        "# plotting the history for model_5\n",
        "accuracy_loss_plot(history_5, 'model_5')"
      ],
      "metadata": {
        "id": "VwCOVTW_IUM0",
        "colab": {
          "base_uri": "https://localhost:8080/",
          "height": 294
        },
        "outputId": "c5c2e5eb-f9be-46ad-9c52-a71b9243edb1"
      },
      "execution_count": 46,
      "outputs": [
        {
          "output_type": "display_data",
          "data": {
            "image/png": "[encoded data removed]",
            "text/plain": [
              "<Figure size 720x288 with 2 Axes>"
            ]
          },
          "metadata": {
            "needs_background": "light"
          }
        }
      ]
    },
    {
      "cell_type": "markdown",
      "source": [
        "### Model-6 : 3D convolution + LSTM on a frame size of 64x64 for a batch size of 30 executed for 15 epochs with a frame rate of 16."
      ],
      "metadata": {
        "id": "B4Rl8ptsSWJZ"
      }
    },
    {
      "cell_type": "code",
      "source": [
        "n_frames = 16\n",
        "frame_size_x = 64\n",
        "frame_size_y = 64\n",
        "batch_size = 30\n",
        "n_epochs = 15"
      ],
      "metadata": {
        "id": "XSXnG8JkiGKX"
      },
      "execution_count": 53,
      "outputs": []
    },
    {
      "cell_type": "code",
      "source": [
        "# creating a model with Conv3D and ConvLSTM2D\n",
        "model_6 = Sequential()\n",
        "\n",
        "model_6.add(Conv3D(32, (3, 3, 3), padding='same', activation='relu',\n",
        "                 input_shape=(n_frames,frame_size_x,frame_size_y,3)))\n",
        "model_6.add(MaxPooling3D(pool_size=(2, 2, 2)))\n",
        "\n",
        "model_6.add(Conv3D(64, (3, 3, 3), padding='same', activation='relu',\n",
        "                 input_shape=(n_frames,frame_size_x,frame_size_y,3)))\n",
        "model_6.add(MaxPooling3D(pool_size=(2, 2, 2)))\n",
        "\n",
        "model_6.add(ConvLSTM2D(40, (3, 3)))\n",
        "model_6.add(Flatten())\n",
        "\n",
        "model_6.add(Dense(128, activation='relu'))\n",
        "model_6.add(Dropout(0.3))\n",
        "model_6.add(Dense(5, activation='softmax')) #output layer\n",
        "\n",
        "optimiser = optimizers.Adam(lr=0.001)\n",
        "model_6.compile(optimizer=optimiser, loss='categorical_crossentropy', metrics=['categorical_accuracy'])\n",
        "model_6.summary()"
      ],
      "metadata": {
        "id": "4AzWdkfjdRdL",
        "colab": {
          "base_uri": "https://localhost:8080/"
        },
        "outputId": "c3074af7-63d5-4f5f-dff3-7ad76d4fc5ac"
      },
      "execution_count": 54,
      "outputs": [
        {
          "output_type": "stream",
          "name": "stdout",
          "text": [
            "Model: \"sequential_8\"\n",
            "_________________________________________________________________\n",
            " Layer (type)                Output Shape              Param #   \n",
            "=================================================================\n",
            " conv3d_15 (Conv3D)          (None, 16, 64, 64, 32)    2624      \n",
            "                                                                 \n",
            " max_pooling3d_14 (MaxPoolin  (None, 8, 32, 32, 32)    0         \n",
            " g3D)                                                            \n",
            "                                                                 \n",
            " conv3d_16 (Conv3D)          (None, 8, 32, 32, 64)     55360     \n",
            "                                                                 \n",
            " max_pooling3d_15 (MaxPoolin  (None, 4, 16, 16, 64)    0         \n",
            " g3D)                                                            \n",
            "                                                                 \n",
            " conv_lstm2d_1 (ConvLSTM2D)  (None, 14, 14, 40)        149920    \n",
            "                                                                 \n",
            " flatten_6 (Flatten)         (None, 7840)              0         \n",
            "                                                                 \n",
            " dense_19 (Dense)            (None, 128)               1003648   \n",
            "                                                                 \n",
            " dropout_11 (Dropout)        (None, 128)               0         \n",
            "                                                                 \n",
            " dense_20 (Dense)            (None, 5)                 645       \n",
            "                                                                 \n",
            "=================================================================\n",
            "Total params: 1,212,197\n",
            "Trainable params: 1,212,197\n",
            "Non-trainable params: 0\n",
            "_________________________________________________________________\n"
          ]
        },
        {
          "output_type": "stream",
          "name": "stderr",
          "text": [
            "/usr/local/lib/python3.7/dist-packages/keras/optimizer_v2/adam.py:105: UserWarning: The `lr` argument is deprecated, use `learning_rate` instead.\n",
            "  super(Adam, self).__init__(name, **kwargs)\n"
          ]
        }
      ]
    },
    {
      "cell_type": "code",
      "source": [
        "# fetching all the parameters for model-6 fitting\n",
        "train_generator = generator(train_path, train_doc, batch_size, n_frames, frame_size_x, frame_size_y)\n",
        "val_generator = generator(val_path, val_doc, batch_size, n_frames, frame_size_x, frame_size_y)\n",
        "model_6_path, callbacks_list = model_callbacks('model_6')\n",
        "epoch_steps, val_steps = n_steps(num_train_sequences, num_val_sequences, batch_size)"
      ],
      "metadata": {
        "id": "sWJzXAmDhfmk",
        "colab": {
          "base_uri": "https://localhost:8080/"
        },
        "outputId": "d3934778-e985-49cf-fb14-8f4da10edc07"
      },
      "execution_count": 55,
      "outputs": [
        {
          "output_type": "stream",
          "name": "stdout",
          "text": [
            "WARNING:tensorflow:`period` argument is deprecated. Please use `save_freq` to specify the frequency in number of batches seen.\n"
          ]
        }
      ]
    },
    {
      "cell_type": "code",
      "source": [
        "history_6 = model_6.fit_generator(train_generator, steps_per_epoch=epoch_steps,\n",
        "                                  epochs=n_epochs, callbacks=callbacks_list, \n",
        "                                  validation_data=val_generator, validation_steps=val_steps,\n",
        "                                  class_weight=None, workers=1, initial_epoch=0,\n",
        "                                  verbose=1)"
      ],
      "metadata": {
        "id": "P3wwrjTNhnoH",
        "colab": {
          "base_uri": "https://localhost:8080/"
        },
        "outputId": "7dd160c0-f113-40ad-857d-28e19e75877a"
      },
      "execution_count": 56,
      "outputs": [
        {
          "output_type": "stream",
          "name": "stderr",
          "text": [
            "/usr/local/lib/python3.7/dist-packages/ipykernel_launcher.py:5: UserWarning: `Model.fit_generator` is deprecated and will be removed in a future version. Please use `Model.fit`, which supports generators.\n",
            "  \"\"\"\n"
          ]
        },
        {
          "output_type": "stream",
          "name": "stdout",
          "text": [
            "Source path =  /content/Gesture_assignment/Project_data/train \n",
            " batch size = 30 \n",
            " No. of images from each folder = 16 \n",
            " Normalized image size = 64 x 64\n",
            "Epoch 1/15\n",
            "23/23 [==============================] - ETA: 0s - loss: 1.6570 - categorical_accuracy: 0.1976Source path =  /content/Gesture_assignment/Project_data/val \n",
            " batch size = 30 \n",
            " No. of images from each folder = 16 \n",
            " Normalized image size = 64 x 64\n",
            "\n",
            "Epoch 00001: saving model to model_6_2022-01-1014_28_34.322494/model-00001-1.65696-0.19759-1.56388-0.23000.h5\n",
            "23/23 [==============================] - 38s 2s/step - loss: 1.6570 - categorical_accuracy: 0.1976 - val_loss: 1.5639 - val_categorical_accuracy: 0.2300 - lr: 0.0010\n",
            "Epoch 2/15\n",
            "23/23 [==============================] - ETA: 0s - loss: 1.4941 - categorical_accuracy: 0.3077\n",
            "Epoch 00002: saving model to model_6_2022-01-1014_28_34.322494/model-00002-1.49412-0.30769-1.18740-0.55000.h5\n",
            "23/23 [==============================] - 35s 2s/step - loss: 1.4941 - categorical_accuracy: 0.3077 - val_loss: 1.1874 - val_categorical_accuracy: 0.5500 - lr: 0.0010\n",
            "Epoch 3/15\n",
            "23/23 [==============================] - ETA: 0s - loss: 1.3823 - categorical_accuracy: 0.4027\n",
            "Epoch 00003: saving model to model_6_2022-01-1014_28_34.322494/model-00003-1.38231-0.40271-1.19256-0.53000.h5\n",
            "23/23 [==============================] - 35s 2s/step - loss: 1.3823 - categorical_accuracy: 0.4027 - val_loss: 1.1926 - val_categorical_accuracy: 0.5300 - lr: 0.0010\n",
            "Epoch 4/15\n",
            "23/23 [==============================] - ETA: 0s - loss: 1.1546 - categorical_accuracy: 0.5128\n",
            "Epoch 00004: saving model to model_6_2022-01-1014_28_34.322494/model-00004-1.15459-0.51282-0.96907-0.51000.h5\n",
            "23/23 [==============================] - 34s 2s/step - loss: 1.1546 - categorical_accuracy: 0.5128 - val_loss: 0.9691 - val_categorical_accuracy: 0.5100 - lr: 0.0010\n",
            "Epoch 5/15\n",
            "23/23 [==============================] - ETA: 0s - loss: 0.9895 - categorical_accuracy: 0.6259\n",
            "Epoch 00005: saving model to model_6_2022-01-1014_28_34.322494/model-00005-0.98948-0.62594-1.28191-0.40000.h5\n",
            "23/23 [==============================] - 35s 2s/step - loss: 0.9895 - categorical_accuracy: 0.6259 - val_loss: 1.2819 - val_categorical_accuracy: 0.4000 - lr: 0.0010\n",
            "Epoch 6/15\n",
            "23/23 [==============================] - ETA: 0s - loss: 0.9289 - categorical_accuracy: 0.6184\n",
            "Epoch 00006: saving model to model_6_2022-01-1014_28_34.322494/model-00006-0.92885-0.61840-1.21918-0.49000.h5\n",
            "23/23 [==============================] - 35s 2s/step - loss: 0.9289 - categorical_accuracy: 0.6184 - val_loss: 1.2192 - val_categorical_accuracy: 0.4900 - lr: 0.0010\n",
            "Epoch 7/15\n",
            "23/23 [==============================] - ETA: 0s - loss: 0.8537 - categorical_accuracy: 0.6727\n",
            "Epoch 00007: saving model to model_6_2022-01-1014_28_34.322494/model-00007-0.85366-0.67270-0.76622-0.71000.h5\n",
            "23/23 [==============================] - 35s 2s/step - loss: 0.8537 - categorical_accuracy: 0.6727 - val_loss: 0.7662 - val_categorical_accuracy: 0.7100 - lr: 0.0010\n",
            "Epoch 8/15\n",
            "23/23 [==============================] - ETA: 0s - loss: 0.6188 - categorical_accuracy: 0.7662\n",
            "Epoch 00008: saving model to model_6_2022-01-1014_28_34.322494/model-00008-0.61885-0.76621-0.63927-0.70000.h5\n",
            "23/23 [==============================] - 34s 2s/step - loss: 0.6188 - categorical_accuracy: 0.7662 - val_loss: 0.6393 - val_categorical_accuracy: 0.7000 - lr: 0.0010\n",
            "Epoch 9/15\n",
            "23/23 [==============================] - ETA: 0s - loss: 0.5452 - categorical_accuracy: 0.8024\n",
            "Epoch 00009: saving model to model_6_2022-01-1014_28_34.322494/model-00009-0.54524-0.80241-0.88775-0.64000.h5\n",
            "23/23 [==============================] - 35s 2s/step - loss: 0.5452 - categorical_accuracy: 0.8024 - val_loss: 0.8878 - val_categorical_accuracy: 0.6400 - lr: 0.0010\n",
            "Epoch 10/15\n",
            "23/23 [==============================] - ETA: 0s - loss: 0.4224 - categorical_accuracy: 0.8281\n",
            "Epoch 00010: saving model to model_6_2022-01-1014_28_34.322494/model-00010-0.42242-0.82805-0.54341-0.83000.h5\n",
            "23/23 [==============================] - 35s 2s/step - loss: 0.4224 - categorical_accuracy: 0.8281 - val_loss: 0.5434 - val_categorical_accuracy: 0.8300 - lr: 0.0010\n",
            "Epoch 11/15\n",
            "23/23 [==============================] - ETA: 0s - loss: 0.4465 - categorical_accuracy: 0.8356\n",
            "Epoch 00011: saving model to model_6_2022-01-1014_28_34.322494/model-00011-0.44650-0.83560-0.59281-0.80000.h5\n",
            "23/23 [==============================] - 35s 2s/step - loss: 0.4465 - categorical_accuracy: 0.8356 - val_loss: 0.5928 - val_categorical_accuracy: 0.8000 - lr: 0.0010\n",
            "Epoch 12/15\n",
            "23/23 [==============================] - ETA: 0s - loss: 0.2650 - categorical_accuracy: 0.8929\n",
            "Epoch 00012: saving model to model_6_2022-01-1014_28_34.322494/model-00012-0.26502-0.89291-0.81468-0.71000.h5\n",
            "23/23 [==============================] - 34s 2s/step - loss: 0.2650 - categorical_accuracy: 0.8929 - val_loss: 0.8147 - val_categorical_accuracy: 0.7100 - lr: 0.0010\n",
            "Epoch 13/15\n",
            "23/23 [==============================] - ETA: 0s - loss: 0.1864 - categorical_accuracy: 0.9261\n",
            "Epoch 00013: saving model to model_6_2022-01-1014_28_34.322494/model-00013-0.18638-0.92609-0.73739-0.78000.h5\n",
            "23/23 [==============================] - 35s 2s/step - loss: 0.1864 - categorical_accuracy: 0.9261 - val_loss: 0.7374 - val_categorical_accuracy: 0.7800 - lr: 0.0010\n",
            "Epoch 14/15\n",
            "23/23 [==============================] - ETA: 0s - loss: 0.0975 - categorical_accuracy: 0.9744\n",
            "Epoch 00014: saving model to model_6_2022-01-1014_28_34.322494/model-00014-0.09753-0.97436-0.99597-0.69000.h5\n",
            "\n",
            "Epoch 00014: ReduceLROnPlateau reducing learning rate to 0.00020000000949949026.\n",
            "23/23 [==============================] - 35s 2s/step - loss: 0.0975 - categorical_accuracy: 0.9744 - val_loss: 0.9960 - val_categorical_accuracy: 0.6900 - lr: 0.0010\n",
            "Epoch 15/15\n",
            "23/23 [==============================] - ETA: 0s - loss: 0.0425 - categorical_accuracy: 0.9910\n",
            "Epoch 00015: saving model to model_6_2022-01-1014_28_34.322494/model-00015-0.04249-0.99095-0.91250-0.70000.h5\n",
            "23/23 [==============================] - 34s 2s/step - loss: 0.0425 - categorical_accuracy: 0.9910 - val_loss: 0.9125 - val_categorical_accuracy: 0.7000 - lr: 2.0000e-04\n"
          ]
        }
      ]
    },
    {
      "cell_type": "code",
      "source": [
        "# plotting the history for model_6\n",
        "accuracy_loss_plot(history_6, 'model_6')"
      ],
      "metadata": {
        "id": "XhuFxeylh4Tg",
        "colab": {
          "base_uri": "https://localhost:8080/",
          "height": 294
        },
        "outputId": "fc862fca-2839-4f35-b0da-4b882998d1de"
      },
      "execution_count": 57,
      "outputs": [
        {
          "output_type": "display_data",
          "data": {
            "image/png": "[encoded data removed]",
            "text/plain": [
              "<Figure size 720x288 with 2 Axes>"
            ]
          },
          "metadata": {
            "needs_background": "light"
          }
        }
      ]
    }
  ],
  "metadata": {
    "kernelspec": {
      "display_name": "Python 3",
      "language": "python",
      "name": "python3"
    },
    "language_info": {
      "codemirror_mode": {
        "name": "ipython",
        "version": 3
      },
      "file_extension": ".py",
      "mimetype": "text/x-python",
      "name": "python",
      "nbconvert_exporter": "python",
      "pygments_lexer": "ipython3",
      "version": "3.8.5"
    },
    "colab": {
      "name": "Gesture_recognition_assignment_FINAL",
      "provenance": [],
      "collapsed_sections": [],
      "include_colab_link": true
    },
    "accelerator": "GPU"
  },
  "nbformat": 4,
  "nbformat_minor": 0
}